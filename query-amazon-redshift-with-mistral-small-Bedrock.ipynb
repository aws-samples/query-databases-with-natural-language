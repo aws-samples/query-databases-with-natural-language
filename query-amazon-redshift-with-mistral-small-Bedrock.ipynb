{
 "cells": [
  {
   "cell_type": "code",
   "execution_count": 1,
   "id": "f851893e-f3cc-4ce6-9b74-c5ac10a436ad",
   "metadata": {
    "scrolled": true,
    "tags": []
   },
   "outputs": [
    {
     "name": "stdout",
     "output_type": "stream",
     "text": [
      "Requirement already satisfied: boto3 in /opt/conda/lib/python3.11/site-packages (from -r requirements.txt (line 1)) (1.36.3)\n",
      "Requirement already satisfied: sentencepiece in /opt/conda/lib/python3.11/site-packages (from -r requirements.txt (line 2)) (0.1.99)\n",
      "Requirement already satisfied: pandas in /opt/conda/lib/python3.11/site-packages (from -r requirements.txt (line 3)) (2.2.3)\n",
      "Collecting anthropic (from -r requirements.txt (line 4))\n",
      "  Using cached anthropic-0.49.0-py3-none-any.whl.metadata (24 kB)\n",
      "Collecting uuid (from -r requirements.txt (line 5))\n",
      "  Using cached uuid-1.30-py3-none-any.whl\n",
      "Requirement already satisfied: transformers in /opt/conda/lib/python3.11/site-packages (from -r requirements.txt (line 6)) (4.48.3)\n",
      "Collecting tiktoken (from -r requirements.txt (line 7))\n",
      "  Using cached tiktoken-0.9.0-cp311-cp311-manylinux_2_17_x86_64.manylinux2014_x86_64.whl.metadata (6.7 kB)\n",
      "Requirement already satisfied: langchain in /opt/conda/lib/python3.11/site-packages (from -r requirements.txt (line 8)) (0.3.17)\n",
      "Requirement already satisfied: s3fs in /opt/conda/lib/python3.11/site-packages (from -r requirements.txt (line 9)) (2024.10.0)\n",
      "Requirement already satisfied: botocore<1.37.0,>=1.36.3 in /opt/conda/lib/python3.11/site-packages (from boto3->-r requirements.txt (line 1)) (1.36.3)\n",
      "Requirement already satisfied: jmespath<2.0.0,>=0.7.1 in /opt/conda/lib/python3.11/site-packages (from boto3->-r requirements.txt (line 1)) (1.0.1)\n",
      "Requirement already satisfied: s3transfer<0.12.0,>=0.11.0 in /opt/conda/lib/python3.11/site-packages (from boto3->-r requirements.txt (line 1)) (0.11.2)\n",
      "Requirement already satisfied: numpy>=1.23.2 in /opt/conda/lib/python3.11/site-packages (from pandas->-r requirements.txt (line 3)) (1.26.4)\n",
      "Requirement already satisfied: python-dateutil>=2.8.2 in /opt/conda/lib/python3.11/site-packages (from pandas->-r requirements.txt (line 3)) (2.9.0.post0)\n",
      "Requirement already satisfied: pytz>=2020.1 in /opt/conda/lib/python3.11/site-packages (from pandas->-r requirements.txt (line 3)) (2024.1)\n",
      "Requirement already satisfied: tzdata>=2022.7 in /opt/conda/lib/python3.11/site-packages (from pandas->-r requirements.txt (line 3)) (2025.1)\n",
      "Requirement already satisfied: anyio<5,>=3.5.0 in /opt/conda/lib/python3.11/site-packages (from anthropic->-r requirements.txt (line 4)) (4.8.0)\n",
      "Requirement already satisfied: distro<2,>=1.7.0 in /opt/conda/lib/python3.11/site-packages (from anthropic->-r requirements.txt (line 4)) (1.9.0)\n",
      "Requirement already satisfied: httpx<1,>=0.23.0 in /opt/conda/lib/python3.11/site-packages (from anthropic->-r requirements.txt (line 4)) (0.28.1)\n",
      "Collecting jiter<1,>=0.4.0 (from anthropic->-r requirements.txt (line 4))\n",
      "  Downloading jiter-0.9.0-cp311-cp311-manylinux_2_17_x86_64.manylinux2014_x86_64.whl.metadata (5.2 kB)\n",
      "Requirement already satisfied: pydantic<3,>=1.9.0 in /opt/conda/lib/python3.11/site-packages (from anthropic->-r requirements.txt (line 4)) (2.10.6)\n",
      "Requirement already satisfied: sniffio in /opt/conda/lib/python3.11/site-packages (from anthropic->-r requirements.txt (line 4)) (1.3.1)\n",
      "Requirement already satisfied: typing-extensions<5,>=4.10 in /opt/conda/lib/python3.11/site-packages (from anthropic->-r requirements.txt (line 4)) (4.12.2)\n",
      "Requirement already satisfied: filelock in /opt/conda/lib/python3.11/site-packages (from transformers->-r requirements.txt (line 6)) (3.17.0)\n",
      "Requirement already satisfied: huggingface-hub<1.0,>=0.24.0 in /opt/conda/lib/python3.11/site-packages (from transformers->-r requirements.txt (line 6)) (0.28.0)\n",
      "Requirement already satisfied: packaging>=20.0 in /opt/conda/lib/python3.11/site-packages (from transformers->-r requirements.txt (line 6)) (24.2)\n",
      "Requirement already satisfied: pyyaml>=5.1 in /opt/conda/lib/python3.11/site-packages (from transformers->-r requirements.txt (line 6)) (6.0.2)\n",
      "Requirement already satisfied: regex!=2019.12.17 in /opt/conda/lib/python3.11/site-packages (from transformers->-r requirements.txt (line 6)) (2024.11.6)\n",
      "Requirement already satisfied: requests in /opt/conda/lib/python3.11/site-packages (from transformers->-r requirements.txt (line 6)) (2.32.3)\n",
      "Requirement already satisfied: tokenizers<0.22,>=0.21 in /opt/conda/lib/python3.11/site-packages (from transformers->-r requirements.txt (line 6)) (0.21.0)\n",
      "Requirement already satisfied: safetensors>=0.4.1 in /opt/conda/lib/python3.11/site-packages (from transformers->-r requirements.txt (line 6)) (0.5.2)\n",
      "Requirement already satisfied: tqdm>=4.27 in /opt/conda/lib/python3.11/site-packages (from transformers->-r requirements.txt (line 6)) (4.67.1)\n",
      "Requirement already satisfied: SQLAlchemy<3,>=1.4 in /opt/conda/lib/python3.11/site-packages (from langchain->-r requirements.txt (line 8)) (2.0.38)\n",
      "Requirement already satisfied: aiohttp<4.0.0,>=3.8.3 in /opt/conda/lib/python3.11/site-packages (from langchain->-r requirements.txt (line 8)) (3.9.5)\n",
      "Requirement already satisfied: langchain-core<0.4.0,>=0.3.33 in /opt/conda/lib/python3.11/site-packages (from langchain->-r requirements.txt (line 8)) (0.3.34)\n",
      "Requirement already satisfied: langchain-text-splitters<0.4.0,>=0.3.3 in /opt/conda/lib/python3.11/site-packages (from langchain->-r requirements.txt (line 8)) (0.3.5)\n",
      "Requirement already satisfied: langsmith<0.4,>=0.1.17 in /opt/conda/lib/python3.11/site-packages (from langchain->-r requirements.txt (line 8)) (0.2.11)\n",
      "Requirement already satisfied: tenacity!=8.4.0,<10,>=8.1.0 in /opt/conda/lib/python3.11/site-packages (from langchain->-r requirements.txt (line 8)) (9.0.0)\n",
      "Requirement already satisfied: aiobotocore<3.0.0,>=2.5.4 in /opt/conda/lib/python3.11/site-packages (from s3fs->-r requirements.txt (line 9)) (2.19.0)\n",
      "Requirement already satisfied: fsspec==2024.10.0.* in /opt/conda/lib/python3.11/site-packages (from s3fs->-r requirements.txt (line 9)) (2024.10.0)\n",
      "Requirement already satisfied: aioitertools<1.0.0,>=0.5.1 in /opt/conda/lib/python3.11/site-packages (from aiobotocore<3.0.0,>=2.5.4->s3fs->-r requirements.txt (line 9)) (0.12.0)\n",
      "Requirement already satisfied: multidict<7.0.0,>=6.0.0 in /opt/conda/lib/python3.11/site-packages (from aiobotocore<3.0.0,>=2.5.4->s3fs->-r requirements.txt (line 9)) (6.1.0)\n",
      "Requirement already satisfied: urllib3!=2.2.0,<3,>=1.25.4 in /opt/conda/lib/python3.11/site-packages (from aiobotocore<3.0.0,>=2.5.4->s3fs->-r requirements.txt (line 9)) (1.26.19)\n",
      "Requirement already satisfied: wrapt<2.0.0,>=1.10.10 in /opt/conda/lib/python3.11/site-packages (from aiobotocore<3.0.0,>=2.5.4->s3fs->-r requirements.txt (line 9)) (1.17.2)\n",
      "Requirement already satisfied: aiosignal>=1.1.2 in /opt/conda/lib/python3.11/site-packages (from aiohttp<4.0.0,>=3.8.3->langchain->-r requirements.txt (line 8)) (1.3.2)\n",
      "Requirement already satisfied: attrs>=17.3.0 in /opt/conda/lib/python3.11/site-packages (from aiohttp<4.0.0,>=3.8.3->langchain->-r requirements.txt (line 8)) (23.2.0)\n",
      "Requirement already satisfied: frozenlist>=1.1.1 in /opt/conda/lib/python3.11/site-packages (from aiohttp<4.0.0,>=3.8.3->langchain->-r requirements.txt (line 8)) (1.5.0)\n",
      "Requirement already satisfied: yarl<2.0,>=1.0 in /opt/conda/lib/python3.11/site-packages (from aiohttp<4.0.0,>=3.8.3->langchain->-r requirements.txt (line 8)) (1.18.3)\n",
      "Requirement already satisfied: idna>=2.8 in /opt/conda/lib/python3.11/site-packages (from anyio<5,>=3.5.0->anthropic->-r requirements.txt (line 4)) (3.10)\n",
      "Requirement already satisfied: certifi in /opt/conda/lib/python3.11/site-packages (from httpx<1,>=0.23.0->anthropic->-r requirements.txt (line 4)) (2024.12.14)\n",
      "Requirement already satisfied: httpcore==1.* in /opt/conda/lib/python3.11/site-packages (from httpx<1,>=0.23.0->anthropic->-r requirements.txt (line 4)) (1.0.7)\n",
      "Requirement already satisfied: h11<0.15,>=0.13 in /opt/conda/lib/python3.11/site-packages (from httpcore==1.*->httpx<1,>=0.23.0->anthropic->-r requirements.txt (line 4)) (0.14.0)\n",
      "Requirement already satisfied: jsonpatch<2.0,>=1.33 in /opt/conda/lib/python3.11/site-packages (from langchain-core<0.4.0,>=0.3.33->langchain->-r requirements.txt (line 8)) (1.33)\n",
      "Requirement already satisfied: orjson<4.0.0,>=3.9.14 in /opt/conda/lib/python3.11/site-packages (from langsmith<0.4,>=0.1.17->langchain->-r requirements.txt (line 8)) (3.10.15)\n",
      "Requirement already satisfied: requests-toolbelt<2.0.0,>=1.0.0 in /opt/conda/lib/python3.11/site-packages (from langsmith<0.4,>=0.1.17->langchain->-r requirements.txt (line 8)) (1.0.0)\n",
      "Requirement already satisfied: annotated-types>=0.6.0 in /opt/conda/lib/python3.11/site-packages (from pydantic<3,>=1.9.0->anthropic->-r requirements.txt (line 4)) (0.7.0)\n",
      "Requirement already satisfied: pydantic-core==2.27.2 in /opt/conda/lib/python3.11/site-packages (from pydantic<3,>=1.9.0->anthropic->-r requirements.txt (line 4)) (2.27.2)\n",
      "Requirement already satisfied: six>=1.5 in /opt/conda/lib/python3.11/site-packages (from python-dateutil>=2.8.2->pandas->-r requirements.txt (line 3)) (1.17.0)\n",
      "Requirement already satisfied: charset_normalizer<4,>=2 in /opt/conda/lib/python3.11/site-packages (from requests->transformers->-r requirements.txt (line 6)) (3.4.1)\n",
      "Requirement already satisfied: greenlet!=0.4.17 in /opt/conda/lib/python3.11/site-packages (from SQLAlchemy<3,>=1.4->langchain->-r requirements.txt (line 8)) (3.1.1)\n",
      "Requirement already satisfied: jsonpointer>=1.9 in /opt/conda/lib/python3.11/site-packages (from jsonpatch<2.0,>=1.33->langchain-core<0.4.0,>=0.3.33->langchain->-r requirements.txt (line 8)) (3.0.0)\n",
      "Requirement already satisfied: propcache>=0.2.0 in /opt/conda/lib/python3.11/site-packages (from yarl<2.0,>=1.0->aiohttp<4.0.0,>=3.8.3->langchain->-r requirements.txt (line 8)) (0.2.1)\n",
      "Using cached anthropic-0.49.0-py3-none-any.whl (243 kB)\n",
      "Using cached tiktoken-0.9.0-cp311-cp311-manylinux_2_17_x86_64.manylinux2014_x86_64.whl (1.2 MB)\n",
      "Downloading jiter-0.9.0-cp311-cp311-manylinux_2_17_x86_64.manylinux2014_x86_64.whl (351 kB)\n",
      "Installing collected packages: uuid, jiter, tiktoken, anthropic\n",
      "Successfully installed anthropic-0.49.0 jiter-0.9.0 tiktoken-0.9.0 uuid-1.30\n",
      "Requirement already satisfied: ipywidgets in /opt/conda/lib/python3.11/site-packages (8.1.5)\n",
      "Requirement already satisfied: comm>=0.1.3 in /opt/conda/lib/python3.11/site-packages (from ipywidgets) (0.2.2)\n",
      "Requirement already satisfied: ipython>=6.1.0 in /opt/conda/lib/python3.11/site-packages (from ipywidgets) (8.31.0)\n",
      "Requirement already satisfied: traitlets>=4.3.1 in /opt/conda/lib/python3.11/site-packages (from ipywidgets) (5.14.3)\n",
      "Requirement already satisfied: widgetsnbextension~=4.0.12 in /opt/conda/lib/python3.11/site-packages (from ipywidgets) (4.0.13)\n",
      "Requirement already satisfied: jupyterlab_widgets~=3.0.12 in /opt/conda/lib/python3.11/site-packages (from ipywidgets) (3.0.13)\n",
      "Requirement already satisfied: decorator in /opt/conda/lib/python3.11/site-packages (from ipython>=6.1.0->ipywidgets) (5.1.1)\n",
      "Requirement already satisfied: jedi>=0.16 in /opt/conda/lib/python3.11/site-packages (from ipython>=6.1.0->ipywidgets) (0.19.2)\n",
      "Requirement already satisfied: matplotlib-inline in /opt/conda/lib/python3.11/site-packages (from ipython>=6.1.0->ipywidgets) (0.1.7)\n",
      "Requirement already satisfied: pexpect>4.3 in /opt/conda/lib/python3.11/site-packages (from ipython>=6.1.0->ipywidgets) (4.9.0)\n",
      "Requirement already satisfied: prompt_toolkit<3.1.0,>=3.0.41 in /opt/conda/lib/python3.11/site-packages (from ipython>=6.1.0->ipywidgets) (3.0.50)\n",
      "Requirement already satisfied: pygments>=2.4.0 in /opt/conda/lib/python3.11/site-packages (from ipython>=6.1.0->ipywidgets) (2.19.1)\n",
      "Requirement already satisfied: stack_data in /opt/conda/lib/python3.11/site-packages (from ipython>=6.1.0->ipywidgets) (0.6.3)\n",
      "Requirement already satisfied: typing_extensions>=4.6 in /opt/conda/lib/python3.11/site-packages (from ipython>=6.1.0->ipywidgets) (4.12.2)\n",
      "Requirement already satisfied: parso<0.9.0,>=0.8.4 in /opt/conda/lib/python3.11/site-packages (from jedi>=0.16->ipython>=6.1.0->ipywidgets) (0.8.4)\n",
      "Requirement already satisfied: ptyprocess>=0.5 in /opt/conda/lib/python3.11/site-packages (from pexpect>4.3->ipython>=6.1.0->ipywidgets) (0.7.0)\n",
      "Requirement already satisfied: wcwidth in /opt/conda/lib/python3.11/site-packages (from prompt_toolkit<3.1.0,>=3.0.41->ipython>=6.1.0->ipywidgets) (0.2.13)\n",
      "Requirement already satisfied: executing>=1.2.0 in /opt/conda/lib/python3.11/site-packages (from stack_data->ipython>=6.1.0->ipywidgets) (2.1.0)\n",
      "Requirement already satisfied: asttokens>=2.1.0 in /opt/conda/lib/python3.11/site-packages (from stack_data->ipython>=6.1.0->ipywidgets) (3.0.0)\n",
      "Requirement already satisfied: pure_eval in /opt/conda/lib/python3.11/site-packages (from stack_data->ipython>=6.1.0->ipywidgets) (0.2.3)\n"
     ]
    }
   ],
   "source": [
    "!pip install -r requirements.txt\n",
    "!pip install ipywidgets"
   ]
  },
  {
   "cell_type": "code",
   "execution_count": 2,
   "id": "76c3aefd-00b6-47c5-996a-99f44006b85d",
   "metadata": {
    "tags": []
   },
   "outputs": [],
   "source": [
    "import re\n",
    "import pandas as pd\n",
    "from io import StringIO\n",
    "import json\n",
    "import time\n",
    "import boto3\n",
    "import pandas as pd\n",
    "import multiprocessing\n",
    "import subprocess\n",
    "import shutil\n",
    "import os\n",
    "import codecs\n",
    "import uuid\n",
    "from transformers import LlamaTokenizer\n",
    "import tiktoken\n",
    "from transformers import AutoTokenizer\n",
    "REDSHIFT=boto3.client('redshift-data')\n",
    "S3=boto3.client('s3')\n",
    "from botocore.config import Config\n",
    "import ipywidgets as widgets\n",
    "from IPython.display import display\n",
    "\n",
    "config = Config(\n",
    "    read_timeout=120,\n",
    "    retries = dict(\n",
    "        max_attempts = 4\n",
    "    )\n",
    ")\n",
    "BEDROCK=boto3.client(service_name='bedrock-runtime')\n",
    "MIXTRAL_ENDPOINT=\"mixtral-demo\""
   ]
  },
  {
   "cell_type": "markdown",
   "id": "c61e948f-67b0-4c72-ad33-930071495bed",
   "metadata": {},
   "source": [
    "## REDSHIFT"
   ]
  },
  {
   "cell_type": "markdown",
   "id": "e85ecd78-4240-4339-8a7b-3e77bd8d0824",
   "metadata": {},
   "source": [
    "#### Change parameters below to those of your redshift provisioned cluster"
   ]
  },
  {
   "cell_type": "code",
   "execution_count": 3,
   "id": "3a7227db-c014-4272-a1b7-57babd5232b4",
   "metadata": {
    "tags": []
   },
   "outputs": [],
   "source": [
    "redshift_client = boto3.client('redshift-data')\n",
    "CLUSTER_IDENTIFIER = 'redshift-cluster-1'\n",
    "DATABASE = 'dev'\n",
    "DB_USER = 'awsuser' "
   ]
  },
  {
   "cell_type": "code",
   "execution_count": 4,
   "id": "bdaacf97-6998-487f-8157-cb27d9a278bd",
   "metadata": {
    "tags": []
   },
   "outputs": [],
   "source": [
    "redshift_client = boto3.client('redshift-data')\n",
    "CLUSTER_IDENTIFIER = 'redshift-cluster-1'\n",
    "DATABASE = 'dev'\n",
    "DB_USER = 'awsuser' "
   ]
  },
  {
   "cell_type": "code",
   "execution_count": 5,
   "id": "a39647d0-ec63-43d6-9043-d34cc8e84141",
   "metadata": {
    "tags": []
   },
   "outputs": [],
   "source": [
    "def token_counter(path):\n",
    "    tokenizer = LlamaTokenizer.from_pretrained(path)\n",
    "    return tokenizer\n",
    "def mixtral_counter(path):\n",
    "    tokenizer = AutoTokenizer.from_pretrained(path)\n",
    "    return tokenizer"
   ]
  },
  {
   "cell_type": "code",
   "execution_count": 6,
   "id": "f19af74f-a573-4df3-853f-96b22fba34cc",
   "metadata": {
    "tags": []
   },
   "outputs": [],
   "source": [
    "def query_llm(prompts,tokens):   \n",
    "    \"\"\"\n",
    "    Function to prompt the model to generate SQL statements from natural language\n",
    "    \"\"\"\n",
    "    import boto3 #remove\n",
    "    import json #remove\n",
    "\n",
    "    payload = json.dumps({\n",
    "        \"prompt\":prompts,\n",
    "        \"temperature\": 0.1})\n",
    "    modelId = \"mistral.mistral-small-2402-v1:0\"\n",
    "    accept = 'application/json'\n",
    "    contentType = 'application/json'\n",
    "    outputText = \"\\n\"\n",
    "    boto3_bedrock = boto3.client(service_name='bedrock-runtime', region_name=\"us-east-1\")\n",
    "    response = boto3_bedrock.invoke_model(body=payload, modelId=modelId, accept=accept, contentType=contentType)\n",
    "    model_response = json.loads(response[\"body\"].read())\n",
    "    # Extract and print the response text.\n",
    "    response_text = model_response[\"outputs\"][0][\"text\"]\n",
    "    return response_text"
   ]
  },
  {
   "cell_type": "code",
   "execution_count": 7,
   "id": "83880841-47bc-490f-920c-56619d011035",
   "metadata": {
    "tags": []
   },
   "outputs": [],
   "source": [
    "def qna_llm(prompts,params):\n",
    "    \"\"\"\n",
    "    Function to prompt the model to generate natural language answers from sql results\n",
    "    \"\"\"   \n",
    "    if 'mixtral' in params['model_id'].lower():        \n",
    "        import boto3\n",
    "        import json\n",
    "        payload = json.dumps({\n",
    "            \"prompt\":prompts,\n",
    "            \"temperature\": params['temp']})\n",
    "        modelId = \"mistral.mistral-small-2402-v1:0\"\n",
    "        accept = 'application/json'\n",
    "        contentType = 'application/json'\n",
    "        outputText = \"\\n\"\n",
    "        boto3_bedrock = boto3.client(service_name='bedrock-runtime', region_name=\"us-east-1\")\n",
    "        response = boto3_bedrock.invoke_model(body=payload, modelId=modelId, accept=accept, contentType=contentType)\n",
    "\n",
    "        model_response = json.loads(response[\"body\"].read())\n",
    "        # Extract and print the response text.\n",
    "        response_text = model_response[\"outputs\"][0][\"text\"]\n",
    "   \n",
    "    return response_text"
   ]
  },
  {
   "cell_type": "code",
   "execution_count": 8,
   "id": "dec641b4-70a4-45d3-86cb-bd876d15e354",
   "metadata": {
    "tags": []
   },
   "outputs": [],
   "source": [
    "def chunk_csv_rows(csv_rows, max_token_per_chunk):\n",
    "    \"\"\"\n",
    "    Chunk CSV rows based on the maximum token count per chunk.\n",
    "    Args:\n",
    "        csv_rows (list): List of CSV rows.\n",
    "        max_token_per_chunk (int, optional): Maximum token count per chunk.\n",
    "    Returns:\n",
    "        list: List of chunks containing CSV rows.\n",
    "    Raises:\n",
    "        ValueError: If a single CSV row exceeds the specified max_token_per_chunk.\n",
    "    \"\"\"\n",
    "    header = csv_rows[0]  # Assuming the first row is the header\n",
    "    csv_rows = csv_rows[1:]  # Remove the header from the list\n",
    "    current_chunk = []\n",
    "    current_token_count = 0\n",
    "    chunks = []\n",
    "    header_token=len(mixtral_counter(\"mistralai/Mistral-Small-24B-Instruct-2501\").encode(header))\n",
    "    for row in csv_rows:\n",
    "        token = len(mixtral_counter(\"mistralai/Mistral-Small-24B-Instruct-2501\").encode(row))\n",
    "        if current_token_count + token+header_token <= max_token_per_chunk:\n",
    "            current_chunk.append(row)\n",
    "            current_token_count += token\n",
    "        else:\n",
    "            if not current_chunk:\n",
    "                raise ValueError(\"A single CSV row exceeds the specified max_token_per_chunk.\")\n",
    "            header_and_chunk=[header]+current_chunk\n",
    "            chunks.append(\"\\n\".join([x for x in header_and_chunk]))\n",
    "            current_chunk = [row]\n",
    "            current_token_count = token\n",
    "\n",
    "    if current_chunk:\n",
    "        last_chunk_and_header=[header]+current_chunk\n",
    "        chunks.append(\"\\n\".join([x for x in last_chunk_and_header]))\n",
    "    return chunks"
   ]
  },
  {
   "cell_type": "code",
   "execution_count": 9,
   "id": "248fc3be-eede-4b2c-a926-8d5c7a04f30e",
   "metadata": {
    "tags": []
   },
   "outputs": [],
   "source": [
    "def get_tables_redshift(cluster_identifier, database, db_user, schema):\n",
    "    \"\"\"\n",
    "    Get a list of table names in a specified schema from an Amazon Redshift cluster.\n",
    "    Args:\n",
    "        cluster_identifier (str): The identifier of the Redshift cluster.\n",
    "        database (str): The name of the database containing the tables.\n",
    "        db_user (str): The username used to authenticate with the Redshift cluster.\n",
    "        schema (str): The schema pattern to filter tables.\n",
    "    Returns:\n",
    "        list: A list of table names in the specified schema.\n",
    "    \"\"\"\n",
    "    tables_ls = REDSHIFT.list_tables(\n",
    "    ClusterIdentifier=cluster_identifier,\n",
    "    Database=database,\n",
    "    DbUser=db_user,\n",
    "    SchemaPattern=schema\n",
    "    )\n",
    "    return [x['name'] for x in  tables_ls['Tables']]"
   ]
  },
  {
   "cell_type": "code",
   "execution_count": 10,
   "id": "47e81566-6e5e-4771-9fdd-65343c388f49",
   "metadata": {
    "tags": []
   },
   "outputs": [],
   "source": [
    "def get_db_redshift(cluster_identifier, database, db_user):\n",
    "    \"\"\"\n",
    "    Get a list of databases from an Amazon Redshift cluster.\n",
    "    Args:\n",
    "        cluster_identifier (str): The identifier of the Redshift cluster.\n",
    "        database (str): The name of the database containing the tables.\n",
    "        db_user (str): The username used to authenticate with the Redshift cluster.\n",
    "    Returns:\n",
    "        list: A list of databases in the Redshift cluster.\n",
    "    \"\"\"\n",
    "    db_ls = REDSHIFT.list_databases(\n",
    "    ClusterIdentifier=cluster_identifier,\n",
    "    Database=database,\n",
    "    DbUser=db_user\n",
    "    )\n",
    "    return db_ls['Databases']"
   ]
  },
  {
   "cell_type": "code",
   "execution_count": 11,
   "id": "34cf5577-7130-4302-a03f-4f5a60db0a9a",
   "metadata": {
    "tags": []
   },
   "outputs": [],
   "source": [
    "def get_schema_redshift(cluster_identifier, database, db_user):\n",
    "    \"\"\"\n",
    "    Get a list of schemas from an Amazon Redshift cluster.\n",
    "    Args:\n",
    "        cluster_identifier (str): The identifier of the Redshift cluster.\n",
    "        database (str): The name of the database containing the schemas.\n",
    "        db_user (str): The username used to authenticate with the Redshift cluster.\n",
    "    Returns:\n",
    "        list: A list of schemas in the Redshift cluster.\n",
    "    \"\"\"\n",
    "    schema_ls = REDSHIFT.list_schemas(\n",
    "    ClusterIdentifier=cluster_identifier,\n",
    "    Database=database,\n",
    "    DbUser=db_user\n",
    "    )\n",
    "    return schema_ls['Schemas']"
   ]
  },
  {
   "cell_type": "code",
   "execution_count": 12,
   "id": "2f0fb8ea-4c24-4da5-860e-f9eeb73ec9e8",
   "metadata": {},
   "outputs": [],
   "source": [
    "def execute_query_with_pagination(sql_query, cluster_identifier, database, db_user, max_wait_seconds=300):\n",
    "    \"\"\"\n",
    "    Execute multiple SQL queries in Amazon Redshift with pagination support.\n",
    "    Args:\n",
    "        sql_query (list): List of SQL queries to execute.\n",
    "        cluster_identifier (str): The identifier of the Redshift cluster.\n",
    "        database (str): The name of the database.\n",
    "        db_user (str): The username used to authenticate with the Redshift cluster.\n",
    "        max_wait_seconds (int): Maximum time to wait for query execution.\n",
    "    Returns:\n",
    "        list: A list of results from executing the SQL queries.\n",
    "    \"\"\"\n",
    "    results_list = []\n",
    "    start_time = time.time()\n",
    "\n",
    "    try:\n",
    "        # Execute batch statements\n",
    "        response_b = REDSHIFT.batch_execute_statement(\n",
    "            ClusterIdentifier=cluster_identifier,\n",
    "            Database=database,\n",
    "            DbUser=db_user,\n",
    "            Sqls=sql_query\n",
    "        )\n",
    "\n",
    "        # Monitor batch execution status\n",
    "        while True:\n",
    "            if time.time() - start_time > max_wait_seconds:\n",
    "                raise TimeoutError(f\"Query execution timed out after {max_wait_seconds} seconds\")\n",
    "\n",
    "            describe_b = REDSHIFT.describe_statement(\n",
    "                Id=response_b['Id']\n",
    "            )\n",
    "            status = describe_b['Status']\n",
    "\n",
    "            if status == 'FINISHED':\n",
    "                break\n",
    "            elif status == 'FAILED':\n",
    "                error_message = describe_b.get('Error', 'Unknown error')\n",
    "                raise RuntimeError(f\"Batch execution failed: {error_message}\")\n",
    "            elif status == 'ABORTED':\n",
    "                raise RuntimeError(\"Batch execution was aborted\")\n",
    "\n",
    "            time.sleep(1)\n",
    "\n",
    "        # Retrieve results with retry logic\n",
    "        max_attempts = 5\n",
    "        attempts = 0\n",
    "\n",
    "        while attempts < max_attempts:\n",
    "            try:\n",
    "                if 'SubStatements' not in describe_b:\n",
    "                    raise RuntimeError(\"No SubStatements found in response\")\n",
    "\n",
    "                for ids in describe_b['SubStatements']:\n",
    "                    if ids.get('Status') == 'FAILED':\n",
    "                        error_message = ids.get('Error', 'Unknown error')\n",
    "                        raise RuntimeError(f\"Query failed: {error_message}\")\n",
    "\n",
    "                    result_b = REDSHIFT.get_statement_result(Id=ids['Id'])\n",
    "                    processed_result = get_redshift_table_result(result_b)\n",
    "                    results_list.append(processed_result)\n",
    "                break\n",
    "\n",
    "            except REDSHIFT.exceptions.ResourceNotFoundException:\n",
    "                attempts += 1\n",
    "                if attempts == max_attempts:\n",
    "                    raise RuntimeError(f\"Failed to retrieve results after {max_attempts} attempts\")\n",
    "                time.sleep(2)\n",
    "\n",
    "        if len(results_list) != len(sql_query):\n",
    "            raise RuntimeError(f\"Expected {len(sql_query)} results but got {len(results_list)}\")\n",
    "\n",
    "        return results_list\n",
    "\n",
    "    except Exception as e:\n",
    "        error_type = type(e).__name__\n",
    "        error_message = str(e)\n",
    "        \n",
    "        if isinstance(e, TimeoutError):\n",
    "            print(f\"Timeout error: {error_message}\")\n",
    "        else:\n",
    "            print(f\"Error executing queries: {error_type} - {error_message}\")\n",
    "        raise"
   ]
  },
  {
   "cell_type": "code",
   "execution_count": 13,
   "id": "206a9303-6fe9-4d71-b8cf-84b42f3bb5a0",
   "metadata": {
    "tags": []
   },
   "outputs": [],
   "source": [
    "def execute_query_with_pagination( sql_query, cluster_identifier, database, db_user):\n",
    "    \"\"\"\n",
    "    Execute multiple SQL queries in Amazon Redshift with pagination support.\n",
    "    Args:\n",
    "        sql_query1 (str): The first SQL query to execute.\n",
    "        sql_query2 (str): The second SQL query to execute.\n",
    "        cluster_identifier (str): The identifier of the Redshift cluster.\n",
    "        database (str): The name of the database.\n",
    "        db_user (str): The username used to authenticate with the Redshift cluster.\n",
    "    Returns:\n",
    "        list: A list of results from executing the SQL queries.\n",
    "    \"\"\"\n",
    "    results_list=[]\n",
    "    response_b = REDSHIFT.batch_execute_statement(\n",
    "        ClusterIdentifier=cluster_identifier,\n",
    "        Database=database,\n",
    "        DbUser=db_user,\n",
    "        Sqls=sql_query\n",
    "    )\n",
    "    describe_b=REDSHIFT.describe_statement(\n",
    "         Id=response_b['Id'],\n",
    "    )\n",
    "    status=describe_b['Status']\n",
    "    while status != \"FINISHED\":\n",
    "        time.sleep(1)\n",
    "        describe_b=REDSHIFT.describe_statement(\n",
    "                         Id=response_b['Id'],\n",
    "                    ) \n",
    "        status=describe_b['Status']\n",
    "    max_attempts = 5 \n",
    "    attempts = 0\n",
    "    while attempts < max_attempts:\n",
    "        try:\n",
    "            for ids in describe_b['SubStatements']:\n",
    "                result_b = REDSHIFT.get_statement_result(Id=ids['Id'])                \n",
    "                results_list.append(get_redshift_table_result(result_b))\n",
    "            break\n",
    "        except REDSHIFT.exceptions.ResourceNotFoundException as e:\n",
    "            attempts += 1\n",
    "            time.sleep(2)\n",
    "    print(\"Returning results: \" + str(results_list))\n",
    "    return results_list"
   ]
  },
  {
   "cell_type": "code",
   "execution_count": 14,
   "id": "bb1c043c-60d0-4d34-8fdd-886d6120c40f",
   "metadata": {
    "tags": []
   },
   "outputs": [],
   "source": [
    "def get_redshift_table_result(response):\n",
    "    \"\"\"\n",
    "    Extracts result data from a Redshift query response and returns it as a CSV string.\n",
    "    Args:\n",
    "        response (dict): The response object from a Redshift query.\n",
    "    Returns:\n",
    "        str: A CSV string containing the result data.\n",
    "    \"\"\"\n",
    "    print(\"Working with query response: \" + str(response))\n",
    "    columns = [c['name'] for c in response['ColumnMetadata']] \n",
    "    data = []\n",
    "    for r in response['Records']:\n",
    "        row = []\n",
    "        for col in r:\n",
    "            row.append(list(col.values())[0])  \n",
    "        data.append(row)\n",
    "    df = pd.DataFrame(data, columns=columns)    \n",
    "    return df.to_csv(index=False)"
   ]
  },
  {
   "cell_type": "code",
   "execution_count": 15,
   "id": "8c24a0b9-ed77-4222-bc87-af828502e2ed",
   "metadata": {
    "tags": []
   },
   "outputs": [],
   "source": [
    "def execute_query_redshift(sql_query, cluster_identifier, database, db_user):\n",
    "    \"\"\"\n",
    "    Execute a SQL query on an Amazon Redshift cluster.\n",
    "    Args:\n",
    "        sql_query (str): The SQL query to execute.\n",
    "        cluster_identifier (str): The identifier of the Redshift cluster.\n",
    "        database (str): The name of the database.\n",
    "        db_user (str): The username used to authenticate with the Redshift cluster.\n",
    "    Returns:\n",
    "        dict: The response object from executing the SQL query.\n",
    "    \"\"\"\n",
    "    response = REDSHIFT.execute_statement(\n",
    "        ClusterIdentifier=cluster_identifier,\n",
    "        Database=database,\n",
    "        DbUser=db_user,\n",
    "        Sql=sql_query\n",
    "    )\n",
    "    return response"
   ]
  },
  {
   "cell_type": "code",
   "execution_count": 16,
   "id": "1a7c4ef0-9166-4faf-a820-0c03d8974e87",
   "metadata": {
    "tags": []
   },
   "outputs": [],
   "source": [
    "def single_execute_query(sql_query, cluster_identifier, database, db_user,question):\n",
    "    \"\"\"\n",
    "    Execute a single SQL query on an Amazon Redshift cluster and process the result.\n",
    "\n",
    "    Args:\n",
    "        sql_query (str): The SQL query to execute.\n",
    "        cluster_identifier (str): The identifier of the Redshift cluster.\n",
    "        database (str): The name of the database.\n",
    "        db_user (str): The username used to authenticate with the Redshift cluster.\n",
    "        question (str): A descriptive label or question associated with the query.\n",
    "\n",
    "    Returns:\n",
    "        pandas.DataFrame: DataFrame containing the processed result of the SQL query.\n",
    "\n",
    "    \"\"\"\n",
    "    result_sets = []\n",
    "    response = execute_query_redshift(sql_query, cluster_identifier, database, db_user)\n",
    "    df=redshift_querys(sql_query,response,question,params,cluster_identifier, database, db_user,question)    \n",
    "    return df"
   ]
  },
  {
   "cell_type": "code",
   "execution_count": 17,
   "id": "30c4b2f5-65e8-4c9c-b0bc-f19406d7838c",
   "metadata": {
    "tags": []
   },
   "outputs": [],
   "source": [
    "def llm_debugger(question, statement, error, params): \n",
    "    \"\"\"\n",
    "    Generate debugging guidance and expected SQL correction for a PostgreSQL error.\n",
    "    Args:\n",
    "        question (str): The user's question or intent.\n",
    "        statement (str): The SQL statement that caused the error.\n",
    "        error (str): The error message encountered.\n",
    "        params (dict): Additional parameters including schema, sample data, and length.\n",
    "    Returns:\n",
    "        str: Formatted debugging guidance and expected SQL correction.\n",
    "    \"\"\"\n",
    "    prompts=f'''<s><<SYS>>[INST]\n",
    "You are a PostgreSQL developer who is an expert at debugging errors.  \n",
    "\n",
    "Here are the schema definition of table(s):\n",
    "{params['schema']}\n",
    "#############################\n",
    "Here are example records for each table:\n",
    "{params['sample']}\n",
    "#############################\n",
    "Here is the sql statement that threw the error below:\n",
    "{statement}\n",
    "#############################\n",
    "Here is the error to debug:\n",
    "{error}\n",
    "#############################\n",
    "Here is the intent of the user:\n",
    "{params['prompt']}\n",
    "<</SYS>>\n",
    "First understand the error and think about how you can fix the error.\n",
    "Use the provided schema and sample row to guide your thought process for a solution.\n",
    "Do all this thinking inside <thinking></thinking> XML tags.This is a space for you to write down relevant content and will not be shown to the user.\n",
    "\n",
    "Once your are done debugging, provide the the correct SQL statement without any additional text.\n",
    "When generating the correct SQL statement:\n",
    "1. Pay attention to the schema and table name and use them correctly in your generated sql. \n",
    "2. Never query for all columns from a table unless the question says so. You must query only the columns that are needed to answer the question.\n",
    "3. Wrap each column name in double quotes (\") to denote them as delimited identifiers. Do not use backslash (\\) to escape underscores (_) in column names. \n",
    "\n",
    "Format your response as:\n",
    "<sql> Correct SQL Statement </sql>[/INST]'''\n",
    "\n",
    "    answer=query_llm(prompts,round(params['sql-len']))\n",
    "    answer = answer.replace(\"\\\\\",\"\")\n",
    "    return answer"
   ]
  },
  {
   "cell_type": "code",
   "execution_count": 18,
   "id": "aae1ae4a-1171-48c4-9799-c0d57566015b",
   "metadata": {
    "tags": []
   },
   "outputs": [],
   "source": [
    "def redshift_querys(q_s,response,prompt,params,cluster_identifier, database, db_user,question): \n",
    "    \"\"\"\n",
    "    Execute a Redshift query, handle errors, debug SQL, and return the result.\n",
    "\n",
    "    Args:\n",
    "        q_s (str): The SQL statement to execute or debug.\n",
    "        response (dict): The response object from executing the SQL statement.\n",
    "        prompt (str): The user's question or intent.\n",
    "        params (dict): Additional parameters including schema, sample data, and length.\n",
    "        cluster_identifier (str): The identifier of the Redshift cluster.\n",
    "        database (str): The name of the database.\n",
    "        db_user (str): The username used to authenticate with the Redshift cluster.\n",
    "        question (str): A descriptive label or question associated with the query.\n",
    "\n",
    "    Returns:\n",
    "        pandas.DataFrame or str: DataFrame containing the query result, or debugging failure message with no result.\n",
    "\n",
    "    \"\"\"\n",
    "    max_execution=5\n",
    "    attempt_number=0\n",
    "    debug_count=max_execution\n",
    "    try:\n",
    "        statement_result = REDSHIFT.get_statement_result(\n",
    "            Id=response['Id'],\n",
    "\n",
    "        )\n",
    "    except REDSHIFT.exceptions.ResourceNotFoundException as err:  \n",
    "        describe_statement=REDSHIFT.describe_statement(\n",
    "             Id=response['Id'],\n",
    "        )\n",
    "        query_state=describe_statement['Status']  \n",
    "        while query_state in ['SUBMITTED','PICKED','STARTED']:\n",
    "            time.sleep(1)\n",
    "            describe_statement=REDSHIFT.describe_statement(\n",
    "                 Id=response['Id'],\n",
    "            )\n",
    "            query_state=describe_statement['Status']\n",
    "        while (max_execution > 0 and query_state == \"FAILED\"):\n",
    "            max_execution = max_execution - 1\n",
    "            attempt_number = 5 - max_execution\n",
    "            print(\"- - - - - - - - - - - - - -\\n\")\n",
    "            print(f\"\\nDEBUG TRIAL {attempt_number}\")\n",
    "            bad_sql=describe_statement['QueryString']\n",
    "            print(f\"\\nBAD SQL:\\n{bad_sql}\")                \n",
    "            error=describe_statement['Error']\n",
    "            print(f\"ERROR:{error}\")\n",
    "            print(\"\\nDEBUGGING...\")\n",
    "            cql=llm_debugger(prompt, bad_sql, error, params)            \n",
    "            idx1 = cql.index('<sql>')\n",
    "            idx2 = cql.index('</sql>')\n",
    "            q_s=cql[idx1 + len('<sql>') + 1: idx2]\n",
    "            print(f\"\\nDEBUGGED SQL {q_s}\")\n",
    "            response = execute_query_redshift(q_s, cluster_identifier, database, db_user)\n",
    "            describe_statement=REDSHIFT.describe_statement(\n",
    "                                 Id=response['Id'],\n",
    "                            )\n",
    "            query_state=describe_statement['Status']\n",
    "            # print(f\"\\n{query_state}\")\n",
    "            while query_state in ['SUBMITTED','PICKED','STARTED']:\n",
    "                time.sleep(2)\n",
    "                describe_statement=REDSHIFT.describe_statement(\n",
    "                                 Id=response['Id'],\n",
    "                            )\n",
    "                query_state=describe_statement['Status']\n",
    "            if query_state == \"FINISHED\":                \n",
    "                break \n",
    "        \n",
    "        if max_execution == 0 and query_state == \"FAILED\":\n",
    "            print(f\"DEBUGGING FAILED IN {str(debug_count)} ATTEMPTS\")\n",
    "        else:           \n",
    "            max_attempts = 5\n",
    "            attempts = 0\n",
    "            while attempts < max_attempts:\n",
    "                try:\n",
    "                    time.sleep(1)\n",
    "                    statement_result = REDSHIFT.get_statement_result(\n",
    "                        Id=response['Id']\n",
    "                    )\n",
    "                    break\n",
    "\n",
    "                except REDSHIFT.exceptions.ResourceNotFoundException as e:\n",
    "                    attempts += 1\n",
    "                    time.sleep(5)\n",
    "    if max_execution == 0 and query_state == \"FAILED\":\n",
    "        df=f\"DEBUGGING FAILED IN {str(debug_count)} ATTEMPTS. NO RESULT AVAILABLE\"\n",
    "    else:\n",
    "        df=get_redshift_table_result(statement_result)\n",
    "    return df, q_s"
   ]
  },
  {
   "cell_type": "code",
   "execution_count": 19,
   "id": "3cab616f-b529-4646-961f-0bb1e420e018",
   "metadata": {
    "tags": []
   },
   "outputs": [],
   "source": [
    "def redshift_qna(params):\n",
    "    \"\"\"\n",
    "    Execute a Q&A process for generating SQL queries based on user questions.\n",
    "    Args:\n",
    "        params (dict): A dictionary containing parameters including table name, database name, prompt, etc.\n",
    "    Returns:\n",
    "        tuple: A tuple containing the response, generated SQL statement, and query output.\n",
    "    \"\"\"\n",
    "    # sql1=f\"SELECT * FROM information_schema.columns WHERE table_name='{params['table']}' AND table_schema='{params['db']}'\"\n",
    "    # sql2=f\"SELECT * from dev.{params['db']}.{params['table']} LIMIT 10\"\n",
    "    sql1=f\"SELECT table_catalog,table_schema,table_name,column_name,ordinal_position,is_nullable,data_type FROM information_schema.columns WHERE table_schema='{params['db']}'\"\n",
    "    sql2=[]\n",
    "    for table in params['tables']:\n",
    "        sql2.append(f\"SELECT * from {params['db']}.{table} LIMIT 3\")\n",
    "    sqls=[sql1]+sql2\n",
    "    print(sqls)\n",
    "    question=params['prompt']\n",
    "    results=execute_query_with_pagination(sqls, CLUSTER_IDENTIFIER, db, DB_USER)    \n",
    "    col_names=results[0].split('\\n')[0]\n",
    "    observations=\"\\n\".join(sorted(results[0].split('\\n')[1:])).strip()\n",
    "    params['schema']=f\"{col_names}\\n{observations}\"\n",
    "    params['sample']=''\n",
    "    for examples in results[1:]:\n",
    "        params['sample']+=f\"{examples}\\n\\n\"\n",
    "    \n",
    "    prompts=f\"\"\"<s><<SYS>>[INST]\n",
    "You are an expert PostgreSQL developer. Your job is to provide a syntactically correct PostgreSQL query given a user question.\n",
    "Here are the schema definition of table(s):\n",
    "########\n",
    "{params['schema']}\n",
    "########\n",
    "\n",
    "Here are example records for each table:\n",
    "##########\n",
    "{params['sample']}\n",
    "###########\n",
    "<</SYS>>\n",
    "Here are some instructions when generating SQL statements:\n",
    "1. Determine the necessary table(s) and schema needed for an accurate query.\n",
    "2. Limit your queries to only the required columns to prevent unnecessary data retrieval and improve query performance.\n",
    "3. For clarity and to prevent potential conflicts, always include the schema name when referencing table names in your SQL queries.\n",
    "4. When working with Amazon Redshift table and column names containing underscores, do not use the backslash escape character (\\). Instead, use double quotes (\"\") to enclose the names in your queries.\n",
    "5. Do not mention 'dev' or 'public' in the queries.\n",
    "In your response, provide a single SQL statement to answer the question, avoid additional text that would cause failure during executing the sql. \n",
    "Format your response as:\n",
    "<sql>\n",
    "generated SQL statement \n",
    "</sql>\n",
    "\n",
    "Question: {question}[/INST]\"\"\"\n",
    "\n",
    "    print(prompts)\n",
    "    q_s=query_llm(prompts,200)\n",
    "    sql_pattern = re.compile(r'<sql>(.*?)(?:</sql>|$)', re.DOTALL)           \n",
    "    sql_match = re.search(sql_pattern, q_s)\n",
    "    q_s = sql_match.group(1) \n",
    "    q_s = q_s.replace(\"\\\\\",\"\")\n",
    "    print(f\" FIRST ATTEMPT SQL:\\n{q_s}\")\n",
    "    output, q_s=single_execute_query(q_s, CLUSTER_IDENTIFIER, db, DB_USER,question)            \n",
    "    prompts=f'''<s><<SYS>>[INST]You are a helpful and truthful assistant. Your job is to examine a sql statement and its generated result, then provide a response to my question.\n",
    "\n",
    "Here is the sql query:\n",
    "{q_s}\n",
    "\n",
    "Here is the corresponding sql query result:\n",
    "{output}\n",
    "<</SYS>>\n",
    "question: {question}\n",
    "\n",
    "When providing your response:\n",
    "- First, review the sql query and the corresponding result. Then provide a complete answer to the my question, based on the result.\n",
    "- If you can't answer the question, please say so[/INST]'''\n",
    "    response=qna_llm(prompts, params) \n",
    "    return response, q_s,output"
   ]
  },
  {
   "cell_type": "code",
   "execution_count": 21,
   "id": "f69fcae3-32f0-4048-a2cf-74183b928182",
   "metadata": {
    "tags": []
   },
   "outputs": [
    {
     "data": {
      "text/plain": [
       "('sample_data_dev',\n",
       " 'tickit',\n",
       " ['category', 'date', 'event', 'listing', 'sales', 'users', 'venue'])"
      ]
     },
     "execution_count": 21,
     "metadata": {},
     "output_type": "execute_result"
    }
   ],
   "source": [
    "#db=get_db_redshift(CLUSTER_IDENTIFIER, DATABASE, DB_USER)[1]\n",
    "#schm=get_schema_redshift(CLUSTER_IDENTIFIER, db, DB_USER)[-1]\n",
    "db='sample_data_dev'\n",
    "schm = 'tickit'\n",
    "tables=get_tables_redshift(CLUSTER_IDENTIFIER, db, DB_USER,schm)\n",
    "db, schm, tables"
   ]
  },
  {
   "cell_type": "markdown",
   "id": "2ec93e0a-21cc-42e6-8a38-df630590500d",
   "metadata": {},
   "source": [
    "#### Example prompts:"
   ]
  },
  {
   "cell_type": "code",
   "execution_count": 22,
   "id": "53a0781d-9ff2-4cd2-b85b-34a4322e96c7",
   "metadata": {
    "tags": []
   },
   "outputs": [],
   "source": [
    "prompt1 = \"What is the number of Venues where the show titled Macbeth was held?\""
   ]
  },
  {
   "cell_type": "code",
   "execution_count": 23,
   "id": "cf8c2dd2-d2a7-4155-ab3d-b6f206cc601a",
   "metadata": {
    "tags": []
   },
   "outputs": [],
   "source": [
    "prompt2 = \"For the top 10 events, count the number of times each of them occur.\""
   ]
  },
  {
   "cell_type": "code",
   "execution_count": 24,
   "id": "2803aff4-7484-4cab-b231-d264e2747fcd",
   "metadata": {
    "tags": []
   },
   "outputs": [],
   "source": [
    "prompt3 = \"What were the total Commissions Generated for Macbeth at Royce Hall?\""
   ]
  },
  {
   "cell_type": "code",
   "execution_count": 25,
   "id": "7e64de7c-e8e7-416b-b60b-694d49481bff",
   "metadata": {
    "tags": []
   },
   "outputs": [],
   "source": [
    "prompt4 = \"the most popular state to host events based on the number of venues per state.\""
   ]
  },
  {
   "cell_type": "code",
   "execution_count": 26,
   "id": "b304c971-ee2c-453c-9358-bd4f0fa371d7",
   "metadata": {
    "tags": []
   },
   "outputs": [
    {
     "data": {
      "application/vnd.jupyter.widget-view+json": {
       "model_id": "8ad67ceec8a8497b9a0aed04c58c62c9",
       "version_major": 2,
       "version_minor": 0
      },
      "text/plain": [
       "Text(value='', description='Enter prompt:')"
      ]
     },
     "metadata": {},
     "output_type": "display_data"
    }
   ],
   "source": [
    "entered_text = widgets.Text(\n",
    "    value='',\n",
    "    description='Enter prompt:',\n",
    ")\n",
    "display(entered_text)"
   ]
  },
  {
   "cell_type": "code",
   "execution_count": 27,
   "id": "6baba3e2-8c15-4b08-941f-e28a61094073",
   "metadata": {
    "tags": []
   },
   "outputs": [
    {
     "name": "stdout",
     "output_type": "stream",
     "text": [
      "Prompt:\n",
      "\n",
      " What is the number of Venues where the show titled Macbeth was held?\n"
     ]
    }
   ],
   "source": [
    "prompt = entered_text.value\n",
    "params={'sql-len':700,'text-token':500,'tables':tables,'db':schm,'temp':0.1,'model_id':'mixtral',\"prompt\":prompt}\n",
    "print(f\"Prompt:\\n\\n {params['prompt']}\")"
   ]
  },
  {
   "cell_type": "code",
   "execution_count": 28,
   "id": "642ae516-41e5-453e-be1a-ca7de1c1e9ec",
   "metadata": {
    "tags": []
   },
   "outputs": [
    {
     "name": "stdout",
     "output_type": "stream",
     "text": [
      "[\"SELECT table_catalog,table_schema,table_name,column_name,ordinal_position,is_nullable,data_type FROM information_schema.columns WHERE table_schema='tickit'\", 'SELECT * from tickit.category LIMIT 3', 'SELECT * from tickit.date LIMIT 3', 'SELECT * from tickit.event LIMIT 3', 'SELECT * from tickit.listing LIMIT 3', 'SELECT * from tickit.sales LIMIT 3', 'SELECT * from tickit.users LIMIT 3', 'SELECT * from tickit.venue LIMIT 3']\n",
      "Starting query execution.\n",
      "Working with query response: {'ColumnMetadata': [{'isCaseSensitive': True, 'isCurrency': False, 'isSigned': False, 'label': 'table_catalog', 'length': 0, 'name': 'table_catalog', 'nullable': 1, 'precision': 65535, 'scale': 0, 'schemaName': 'information_schema', 'tableName': 'columns', 'typeName': 'varchar'}, {'isCaseSensitive': True, 'isCurrency': False, 'isSigned': False, 'label': 'table_schema', 'length': 0, 'name': 'table_schema', 'nullable': 1, 'precision': 65535, 'scale': 0, 'schemaName': 'information_schema', 'tableName': 'columns', 'typeName': 'varchar'}, {'isCaseSensitive': True, 'isCurrency': False, 'isSigned': False, 'label': 'table_name', 'length': 0, 'name': 'table_name', 'nullable': 1, 'precision': 65535, 'scale': 0, 'schemaName': 'information_schema', 'tableName': 'columns', 'typeName': 'varchar'}, {'isCaseSensitive': True, 'isCurrency': False, 'isSigned': False, 'label': 'column_name', 'length': 0, 'name': 'column_name', 'nullable': 1, 'precision': 65535, 'scale': 0, 'schemaName': 'information_schema', 'tableName': 'columns', 'typeName': 'varchar'}, {'isCaseSensitive': False, 'isCurrency': False, 'isSigned': True, 'label': 'ordinal_position', 'length': 0, 'name': 'ordinal_position', 'nullable': 1, 'precision': 10, 'scale': 0, 'schemaName': 'information_schema', 'tableName': 'columns', 'typeName': 'int4'}, {'isCaseSensitive': True, 'isCurrency': False, 'isSigned': False, 'label': 'is_nullable', 'length': 0, 'name': 'is_nullable', 'nullable': 1, 'precision': 65535, 'scale': 0, 'schemaName': 'information_schema', 'tableName': 'columns', 'typeName': 'varchar'}, {'isCaseSensitive': True, 'isCurrency': False, 'isSigned': False, 'label': 'data_type', 'length': 0, 'name': 'data_type', 'nullable': 1, 'precision': 65535, 'scale': 0, 'schemaName': 'information_schema', 'tableName': 'columns', 'typeName': 'varchar'}], 'Records': [[{'stringValue': 'sample_data_dev'}, {'stringValue': 'tickit'}, {'stringValue': 'date'}, {'stringValue': 'holiday'}, {'longValue': 8}, {'stringValue': 'YES'}, {'stringValue': 'boolean'}], [{'stringValue': 'sample_data_dev'}, {'stringValue': 'tickit'}, {'stringValue': 'users'}, {'stringValue': 'likemusicals'}, {'longValue': 18}, {'stringValue': 'YES'}, {'stringValue': 'boolean'}], [{'stringValue': 'sample_data_dev'}, {'stringValue': 'tickit'}, {'stringValue': 'users'}, {'stringValue': 'likebroadway'}, {'longValue': 17}, {'stringValue': 'YES'}, {'stringValue': 'boolean'}], [{'stringValue': 'sample_data_dev'}, {'stringValue': 'tickit'}, {'stringValue': 'users'}, {'stringValue': 'likevegas'}, {'longValue': 16}, {'stringValue': 'YES'}, {'stringValue': 'boolean'}], [{'stringValue': 'sample_data_dev'}, {'stringValue': 'tickit'}, {'stringValue': 'users'}, {'stringValue': 'likerock'}, {'longValue': 15}, {'stringValue': 'YES'}, {'stringValue': 'boolean'}], [{'stringValue': 'sample_data_dev'}, {'stringValue': 'tickit'}, {'stringValue': 'users'}, {'stringValue': 'likeopera'}, {'longValue': 14}, {'stringValue': 'YES'}, {'stringValue': 'boolean'}], [{'stringValue': 'sample_data_dev'}, {'stringValue': 'tickit'}, {'stringValue': 'users'}, {'stringValue': 'likeclassical'}, {'longValue': 13}, {'stringValue': 'YES'}, {'stringValue': 'boolean'}], [{'stringValue': 'sample_data_dev'}, {'stringValue': 'tickit'}, {'stringValue': 'users'}, {'stringValue': 'likejazz'}, {'longValue': 12}, {'stringValue': 'YES'}, {'stringValue': 'boolean'}], [{'stringValue': 'sample_data_dev'}, {'stringValue': 'tickit'}, {'stringValue': 'users'}, {'stringValue': 'likeconcerts'}, {'longValue': 11}, {'stringValue': 'YES'}, {'stringValue': 'boolean'}], [{'stringValue': 'sample_data_dev'}, {'stringValue': 'tickit'}, {'stringValue': 'users'}, {'stringValue': 'liketheatre'}, {'longValue': 10}, {'stringValue': 'YES'}, {'stringValue': 'boolean'}], [{'stringValue': 'sample_data_dev'}, {'stringValue': 'tickit'}, {'stringValue': 'users'}, {'stringValue': 'likesports'}, {'longValue': 9}, {'stringValue': 'YES'}, {'stringValue': 'boolean'}], [{'stringValue': 'sample_data_dev'}, {'stringValue': 'tickit'}, {'stringValue': 'sales'}, {'stringValue': 'qtysold'}, {'longValue': 7}, {'stringValue': 'NO'}, {'stringValue': 'smallint'}], [{'stringValue': 'sample_data_dev'}, {'stringValue': 'tickit'}, {'stringValue': 'listing'}, {'stringValue': 'numtickets'}, {'longValue': 5}, {'stringValue': 'NO'}, {'stringValue': 'smallint'}], [{'stringValue': 'sample_data_dev'}, {'stringValue': 'tickit'}, {'stringValue': 'event'}, {'stringValue': 'catid'}, {'longValue': 3}, {'stringValue': 'NO'}, {'stringValue': 'smallint'}], [{'stringValue': 'sample_data_dev'}, {'stringValue': 'tickit'}, {'stringValue': 'event'}, {'stringValue': 'venueid'}, {'longValue': 2}, {'stringValue': 'NO'}, {'stringValue': 'smallint'}], [{'stringValue': 'sample_data_dev'}, {'stringValue': 'tickit'}, {'stringValue': 'date'}, {'stringValue': 'year'}, {'longValue': 7}, {'stringValue': 'NO'}, {'stringValue': 'smallint'}], [{'stringValue': 'sample_data_dev'}, {'stringValue': 'tickit'}, {'stringValue': 'date'}, {'stringValue': 'week'}, {'longValue': 4}, {'stringValue': 'NO'}, {'stringValue': 'smallint'}], [{'stringValue': 'sample_data_dev'}, {'stringValue': 'tickit'}, {'stringValue': 'sales'}, {'stringValue': 'dateid'}, {'longValue': 6}, {'stringValue': 'NO'}, {'stringValue': 'smallint'}], [{'stringValue': 'sample_data_dev'}, {'stringValue': 'tickit'}, {'stringValue': 'listing'}, {'stringValue': 'dateid'}, {'longValue': 4}, {'stringValue': 'NO'}, {'stringValue': 'smallint'}], [{'stringValue': 'sample_data_dev'}, {'stringValue': 'tickit'}, {'stringValue': 'event'}, {'stringValue': 'dateid'}, {'longValue': 4}, {'stringValue': 'NO'}, {'stringValue': 'smallint'}], [{'stringValue': 'sample_data_dev'}, {'stringValue': 'tickit'}, {'stringValue': 'date'}, {'stringValue': 'dateid'}, {'longValue': 1}, {'stringValue': 'NO'}, {'stringValue': 'smallint'}], [{'stringValue': 'sample_data_dev'}, {'stringValue': 'tickit'}, {'stringValue': 'category'}, {'stringValue': 'catid'}, {'longValue': 1}, {'stringValue': 'NO'}, {'stringValue': 'smallint'}], [{'stringValue': 'sample_data_dev'}, {'stringValue': 'tickit'}, {'stringValue': 'venue'}, {'stringValue': 'venueid'}, {'longValue': 1}, {'stringValue': 'NO'}, {'stringValue': 'smallint'}], [{'stringValue': 'sample_data_dev'}, {'stringValue': 'tickit'}, {'stringValue': 'sales'}, {'stringValue': 'eventid'}, {'longValue': 5}, {'stringValue': 'NO'}, {'stringValue': 'integer'}], [{'stringValue': 'sample_data_dev'}, {'stringValue': 'tickit'}, {'stringValue': 'sales'}, {'stringValue': 'buyerid'}, {'longValue': 4}, {'stringValue': 'NO'}, {'stringValue': 'integer'}], [{'stringValue': 'sample_data_dev'}, {'stringValue': 'tickit'}, {'stringValue': 'sales'}, {'stringValue': 'sellerid'}, {'longValue': 3}, {'stringValue': 'NO'}, {'stringValue': 'integer'}], [{'stringValue': 'sample_data_dev'}, {'stringValue': 'tickit'}, {'stringValue': 'sales'}, {'stringValue': 'listid'}, {'longValue': 2}, {'stringValue': 'NO'}, {'stringValue': 'integer'}], [{'stringValue': 'sample_data_dev'}, {'stringValue': 'tickit'}, {'stringValue': 'sales'}, {'stringValue': 'salesid'}, {'longValue': 1}, {'stringValue': 'NO'}, {'stringValue': 'integer'}], [{'stringValue': 'sample_data_dev'}, {'stringValue': 'tickit'}, {'stringValue': 'listing'}, {'stringValue': 'eventid'}, {'longValue': 3}, {'stringValue': 'NO'}, {'stringValue': 'integer'}], [{'stringValue': 'sample_data_dev'}, {'stringValue': 'tickit'}, {'stringValue': 'listing'}, {'stringValue': 'sellerid'}, {'longValue': 2}, {'stringValue': 'NO'}, {'stringValue': 'integer'}], [{'stringValue': 'sample_data_dev'}, {'stringValue': 'tickit'}, {'stringValue': 'listing'}, {'stringValue': 'listid'}, {'longValue': 1}, {'stringValue': 'NO'}, {'stringValue': 'integer'}], [{'stringValue': 'sample_data_dev'}, {'stringValue': 'tickit'}, {'stringValue': 'event'}, {'stringValue': 'eventid'}, {'longValue': 1}, {'stringValue': 'NO'}, {'stringValue': 'integer'}], [{'stringValue': 'sample_data_dev'}, {'stringValue': 'tickit'}, {'stringValue': 'venue'}, {'stringValue': 'venueseats'}, {'longValue': 5}, {'stringValue': 'YES'}, {'stringValue': 'integer'}], [{'stringValue': 'sample_data_dev'}, {'stringValue': 'tickit'}, {'stringValue': 'users'}, {'stringValue': 'userid'}, {'longValue': 1}, {'stringValue': 'NO'}, {'stringValue': 'integer'}], [{'stringValue': 'sample_data_dev'}, {'stringValue': 'tickit'}, {'stringValue': 'date'}, {'stringValue': 'qtr'}, {'longValue': 6}, {'stringValue': 'NO'}, {'stringValue': 'character'}], [{'stringValue': 'sample_data_dev'}, {'stringValue': 'tickit'}, {'stringValue': 'date'}, {'stringValue': 'month'}, {'longValue': 5}, {'stringValue': 'NO'}, {'stringValue': 'character'}], [{'stringValue': 'sample_data_dev'}, {'stringValue': 'tickit'}, {'stringValue': 'date'}, {'stringValue': 'day'}, {'longValue': 3}, {'stringValue': 'NO'}, {'stringValue': 'character'}], [{'stringValue': 'sample_data_dev'}, {'stringValue': 'tickit'}, {'stringValue': 'venue'}, {'stringValue': 'venuestate'}, {'longValue': 4}, {'stringValue': 'YES'}, {'stringValue': 'character'}], [{'stringValue': 'sample_data_dev'}, {'stringValue': 'tickit'}, {'stringValue': 'users'}, {'stringValue': 'phone'}, {'longValue': 8}, {'stringValue': 'YES'}, {'stringValue': 'character'}], [{'stringValue': 'sample_data_dev'}, {'stringValue': 'tickit'}, {'stringValue': 'users'}, {'stringValue': 'state'}, {'longValue': 6}, {'stringValue': 'YES'}, {'stringValue': 'character'}], [{'stringValue': 'sample_data_dev'}, {'stringValue': 'tickit'}, {'stringValue': 'users'}, {'stringValue': 'username'}, {'longValue': 2}, {'stringValue': 'YES'}, {'stringValue': 'character'}], [{'stringValue': 'sample_data_dev'}, {'stringValue': 'tickit'}, {'stringValue': 'event'}, {'stringValue': 'eventname'}, {'longValue': 5}, {'stringValue': 'YES'}, {'stringValue': 'character varying'}], [{'stringValue': 'sample_data_dev'}, {'stringValue': 'tickit'}, {'stringValue': 'category'}, {'stringValue': 'catdesc'}, {'longValue': 4}, {'stringValue': 'YES'}, {'stringValue': 'character varying'}], [{'stringValue': 'sample_data_dev'}, {'stringValue': 'tickit'}, {'stringValue': 'category'}, {'stringValue': 'catname'}, {'longValue': 3}, {'stringValue': 'YES'}, {'stringValue': 'character varying'}], [{'stringValue': 'sample_data_dev'}, {'stringValue': 'tickit'}, {'stringValue': 'category'}, {'stringValue': 'catgroup'}, {'longValue': 2}, {'stringValue': 'YES'}, {'stringValue': 'character varying'}], [{'stringValue': 'sample_data_dev'}, {'stringValue': 'tickit'}, {'stringValue': 'venue'}, {'stringValue': 'venuecity'}, {'longValue': 3}, {'stringValue': 'YES'}, {'stringValue': 'character varying'}], [{'stringValue': 'sample_data_dev'}, {'stringValue': 'tickit'}, {'stringValue': 'venue'}, {'stringValue': 'venuename'}, {'longValue': 2}, {'stringValue': 'YES'}, {'stringValue': 'character varying'}], [{'stringValue': 'sample_data_dev'}, {'stringValue': 'tickit'}, {'stringValue': 'users'}, {'stringValue': 'email'}, {'longValue': 7}, {'stringValue': 'YES'}, {'stringValue': 'character varying'}], [{'stringValue': 'sample_data_dev'}, {'stringValue': 'tickit'}, {'stringValue': 'users'}, {'stringValue': 'city'}, {'longValue': 5}, {'stringValue': 'YES'}, {'stringValue': 'character varying'}], [{'stringValue': 'sample_data_dev'}, {'stringValue': 'tickit'}, {'stringValue': 'users'}, {'stringValue': 'lastname'}, {'longValue': 4}, {'stringValue': 'YES'}, {'stringValue': 'character varying'}], [{'stringValue': 'sample_data_dev'}, {'stringValue': 'tickit'}, {'stringValue': 'users'}, {'stringValue': 'firstname'}, {'longValue': 3}, {'stringValue': 'YES'}, {'stringValue': 'character varying'}], [{'stringValue': 'sample_data_dev'}, {'stringValue': 'tickit'}, {'stringValue': 'date'}, {'stringValue': 'caldate'}, {'longValue': 2}, {'stringValue': 'NO'}, {'stringValue': 'date'}], [{'stringValue': 'sample_data_dev'}, {'stringValue': 'tickit'}, {'stringValue': 'sales'}, {'stringValue': 'commission'}, {'longValue': 9}, {'stringValue': 'YES'}, {'stringValue': 'numeric'}], [{'stringValue': 'sample_data_dev'}, {'stringValue': 'tickit'}, {'stringValue': 'sales'}, {'stringValue': 'pricepaid'}, {'longValue': 8}, {'stringValue': 'YES'}, {'stringValue': 'numeric'}], [{'stringValue': 'sample_data_dev'}, {'stringValue': 'tickit'}, {'stringValue': 'listing'}, {'stringValue': 'totalprice'}, {'longValue': 7}, {'stringValue': 'YES'}, {'stringValue': 'numeric'}], [{'stringValue': 'sample_data_dev'}, {'stringValue': 'tickit'}, {'stringValue': 'listing'}, {'stringValue': 'priceperticket'}, {'longValue': 6}, {'stringValue': 'YES'}, {'stringValue': 'numeric'}], [{'stringValue': 'sample_data_dev'}, {'stringValue': 'tickit'}, {'stringValue': 'sales'}, {'stringValue': 'saletime'}, {'longValue': 10}, {'stringValue': 'YES'}, {'stringValue': 'timestamp without time zone'}], [{'stringValue': 'sample_data_dev'}, {'stringValue': 'tickit'}, {'stringValue': 'listing'}, {'stringValue': 'listtime'}, {'longValue': 8}, {'stringValue': 'YES'}, {'stringValue': 'timestamp without time zone'}], [{'stringValue': 'sample_data_dev'}, {'stringValue': 'tickit'}, {'stringValue': 'event'}, {'stringValue': 'starttime'}, {'longValue': 6}, {'stringValue': 'YES'}, {'stringValue': 'timestamp without time zone'}]], 'TotalNumRows': 59, 'ResponseMetadata': {'RequestId': 'c995feb3-d93f-4760-879e-0aecf743f50d', 'HTTPStatusCode': 200, 'HTTPHeaders': {'x-amzn-requestid': 'c995feb3-d93f-4760-879e-0aecf743f50d', 'content-type': 'application/x-amz-json-1.1', 'content-length': '12236', 'date': 'Fri, 28 Mar 2025 16:08:29 GMT'}, 'RetryAttempts': 0}}\n",
      "Working with query response: {'ColumnMetadata': [{'isCaseSensitive': False, 'isCurrency': False, 'isSigned': True, 'label': 'catid', 'length': 0, 'name': 'catid', 'nullable': 0, 'precision': 5, 'scale': 0, 'schemaName': 'tickit', 'tableName': 'category', 'typeName': 'int2'}, {'isCaseSensitive': True, 'isCurrency': False, 'isSigned': False, 'label': 'catgroup', 'length': 0, 'name': 'catgroup', 'nullable': 1, 'precision': 10, 'scale': 0, 'schemaName': 'tickit', 'tableName': 'category', 'typeName': 'varchar'}, {'isCaseSensitive': True, 'isCurrency': False, 'isSigned': False, 'label': 'catname', 'length': 0, 'name': 'catname', 'nullable': 1, 'precision': 10, 'scale': 0, 'schemaName': 'tickit', 'tableName': 'category', 'typeName': 'varchar'}, {'isCaseSensitive': True, 'isCurrency': False, 'isSigned': False, 'label': 'catdesc', 'length': 0, 'name': 'catdesc', 'nullable': 1, 'precision': 50, 'scale': 0, 'schemaName': 'tickit', 'tableName': 'category', 'typeName': 'varchar'}], 'Records': [[{'longValue': 5}, {'stringValue': 'Sports'}, {'stringValue': 'MLS'}, {'stringValue': 'Major League Soccer'}], [{'longValue': 1}, {'stringValue': 'Sports'}, {'stringValue': 'MLB'}, {'stringValue': 'Major League Baseball'}], [{'longValue': 6}, {'stringValue': 'Shows'}, {'stringValue': 'Musicals'}, {'stringValue': 'Musical theatre'}]], 'TotalNumRows': 3, 'ResponseMetadata': {'RequestId': '702abd11-8c4d-485e-b6ab-fbd5a14e223e', 'HTTPStatusCode': 200, 'HTTPHeaders': {'x-amzn-requestid': '702abd11-8c4d-485e-b6ab-fbd5a14e223e', 'content-type': 'application/x-amz-json-1.1', 'content-length': '1198', 'date': 'Fri, 28 Mar 2025 16:08:29 GMT'}, 'RetryAttempts': 0}}\n",
      "Working with query response: {'ColumnMetadata': [{'isCaseSensitive': False, 'isCurrency': False, 'isSigned': True, 'label': 'dateid', 'length': 0, 'name': 'dateid', 'nullable': 0, 'precision': 5, 'scale': 0, 'schemaName': 'tickit', 'tableName': 'date', 'typeName': 'int2'}, {'isCaseSensitive': False, 'isCurrency': False, 'isSigned': False, 'label': 'caldate', 'length': 0, 'name': 'caldate', 'nullable': 0, 'precision': 13, 'scale': 0, 'schemaName': 'tickit', 'tableName': 'date', 'typeName': 'date'}, {'isCaseSensitive': True, 'isCurrency': False, 'isSigned': False, 'label': 'day', 'length': 0, 'name': 'day', 'nullable': 0, 'precision': 3, 'scale': 0, 'schemaName': 'tickit', 'tableName': 'date', 'typeName': 'bpchar'}, {'isCaseSensitive': False, 'isCurrency': False, 'isSigned': True, 'label': 'week', 'length': 0, 'name': 'week', 'nullable': 0, 'precision': 5, 'scale': 0, 'schemaName': 'tickit', 'tableName': 'date', 'typeName': 'int2'}, {'isCaseSensitive': True, 'isCurrency': False, 'isSigned': False, 'label': 'month', 'length': 0, 'name': 'month', 'nullable': 0, 'precision': 5, 'scale': 0, 'schemaName': 'tickit', 'tableName': 'date', 'typeName': 'bpchar'}, {'isCaseSensitive': True, 'isCurrency': False, 'isSigned': False, 'label': 'qtr', 'length': 0, 'name': 'qtr', 'nullable': 0, 'precision': 5, 'scale': 0, 'schemaName': 'tickit', 'tableName': 'date', 'typeName': 'bpchar'}, {'isCaseSensitive': False, 'isCurrency': False, 'isSigned': True, 'label': 'year', 'length': 0, 'name': 'year', 'nullable': 0, 'precision': 5, 'scale': 0, 'schemaName': 'tickit', 'tableName': 'date', 'typeName': 'int2'}, {'isCaseSensitive': False, 'isCurrency': False, 'isSigned': False, 'label': 'holiday', 'length': 0, 'name': 'holiday', 'nullable': 1, 'precision': 1, 'scale': 0, 'schemaName': 'tickit', 'tableName': 'date', 'typeName': 'bool'}], 'Records': [[{'longValue': 1827}, {'stringValue': '2008-01-01'}, {'stringValue': 'WE '}, {'longValue': 1}, {'stringValue': 'JAN  '}, {'stringValue': '1    '}, {'longValue': 2008}, {'booleanValue': True}], [{'longValue': 1843}, {'stringValue': '2008-01-17'}, {'stringValue': 'FR '}, {'longValue': 3}, {'stringValue': 'JAN  '}, {'stringValue': '1    '}, {'longValue': 2008}, {'booleanValue': False}], [{'longValue': 1845}, {'stringValue': '2008-01-19'}, {'stringValue': 'SU '}, {'longValue': 4}, {'stringValue': 'JAN  '}, {'stringValue': '1    '}, {'longValue': 2008}, {'booleanValue': False}]], 'TotalNumRows': 3, 'ResponseMetadata': {'RequestId': '607a258d-0bc2-4f00-b05f-e2d1564659d3', 'HTTPStatusCode': 200, 'HTTPHeaders': {'x-amzn-requestid': '607a258d-0bc2-4f00-b05f-e2d1564659d3', 'content-type': 'application/x-amz-json-1.1', 'content-length': '2181', 'date': 'Fri, 28 Mar 2025 16:08:29 GMT'}, 'RetryAttempts': 0}}\n",
      "Working with query response: {'ColumnMetadata': [{'isCaseSensitive': False, 'isCurrency': False, 'isSigned': True, 'label': 'eventid', 'length': 0, 'name': 'eventid', 'nullable': 0, 'precision': 10, 'scale': 0, 'schemaName': 'tickit', 'tableName': 'event', 'typeName': 'int4'}, {'isCaseSensitive': False, 'isCurrency': False, 'isSigned': True, 'label': 'venueid', 'length': 0, 'name': 'venueid', 'nullable': 0, 'precision': 5, 'scale': 0, 'schemaName': 'tickit', 'tableName': 'event', 'typeName': 'int2'}, {'isCaseSensitive': False, 'isCurrency': False, 'isSigned': True, 'label': 'catid', 'length': 0, 'name': 'catid', 'nullable': 0, 'precision': 5, 'scale': 0, 'schemaName': 'tickit', 'tableName': 'event', 'typeName': 'int2'}, {'isCaseSensitive': False, 'isCurrency': False, 'isSigned': True, 'label': 'dateid', 'length': 0, 'name': 'dateid', 'nullable': 0, 'precision': 5, 'scale': 0, 'schemaName': 'tickit', 'tableName': 'event', 'typeName': 'int2'}, {'isCaseSensitive': True, 'isCurrency': False, 'isSigned': False, 'label': 'eventname', 'length': 0, 'name': 'eventname', 'nullable': 1, 'precision': 200, 'scale': 0, 'schemaName': 'tickit', 'tableName': 'event', 'typeName': 'varchar'}, {'isCaseSensitive': False, 'isCurrency': False, 'isSigned': False, 'label': 'starttime', 'length': 0, 'name': 'starttime', 'nullable': 1, 'precision': 29, 'scale': 6, 'schemaName': 'tickit', 'tableName': 'event', 'typeName': 'timestamp'}], 'Records': [[{'longValue': 1334}, {'longValue': 208}, {'longValue': 6}, {'longValue': 1827}, {'stringValue': 'The King and I'}, {'stringValue': '2008-01-01 14:30:00'}], [{'longValue': 4850}, {'longValue': 91}, {'longValue': 9}, {'longValue': 1827}, {'stringValue': 'Zappa Plays Zappa'}, {'stringValue': '2008-01-01 14:00:00'}], [{'longValue': 6440}, {'longValue': 71}, {'longValue': 9}, {'longValue': 1827}, {'stringValue': 'Beck'}, {'stringValue': '2008-01-01 19:00:00'}]], 'TotalNumRows': 3, 'ResponseMetadata': {'RequestId': '8d259589-2ca0-4e14-9ee6-f71c5ce0ea7e', 'HTTPStatusCode': 200, 'HTTPHeaders': {'x-amzn-requestid': '8d259589-2ca0-4e14-9ee6-f71c5ce0ea7e', 'content-type': 'application/x-amz-json-1.1', 'content-length': '1714', 'date': 'Fri, 28 Mar 2025 16:08:29 GMT'}, 'RetryAttempts': 0}}\n",
      "Working with query response: {'ColumnMetadata': [{'isCaseSensitive': False, 'isCurrency': False, 'isSigned': True, 'label': 'listid', 'length': 0, 'name': 'listid', 'nullable': 0, 'precision': 10, 'scale': 0, 'schemaName': 'tickit', 'tableName': 'listing', 'typeName': 'int4'}, {'isCaseSensitive': False, 'isCurrency': False, 'isSigned': True, 'label': 'sellerid', 'length': 0, 'name': 'sellerid', 'nullable': 0, 'precision': 10, 'scale': 0, 'schemaName': 'tickit', 'tableName': 'listing', 'typeName': 'int4'}, {'isCaseSensitive': False, 'isCurrency': False, 'isSigned': True, 'label': 'eventid', 'length': 0, 'name': 'eventid', 'nullable': 0, 'precision': 10, 'scale': 0, 'schemaName': 'tickit', 'tableName': 'listing', 'typeName': 'int4'}, {'isCaseSensitive': False, 'isCurrency': False, 'isSigned': True, 'label': 'dateid', 'length': 0, 'name': 'dateid', 'nullable': 0, 'precision': 5, 'scale': 0, 'schemaName': 'tickit', 'tableName': 'listing', 'typeName': 'int2'}, {'isCaseSensitive': False, 'isCurrency': False, 'isSigned': True, 'label': 'numtickets', 'length': 0, 'name': 'numtickets', 'nullable': 0, 'precision': 5, 'scale': 0, 'schemaName': 'tickit', 'tableName': 'listing', 'typeName': 'int2'}, {'isCaseSensitive': False, 'isCurrency': False, 'isSigned': True, 'label': 'priceperticket', 'length': 0, 'name': 'priceperticket', 'nullable': 1, 'precision': 8, 'scale': 2, 'schemaName': 'tickit', 'tableName': 'listing', 'typeName': 'numeric'}, {'isCaseSensitive': False, 'isCurrency': False, 'isSigned': True, 'label': 'totalprice', 'length': 0, 'name': 'totalprice', 'nullable': 1, 'precision': 8, 'scale': 2, 'schemaName': 'tickit', 'tableName': 'listing', 'typeName': 'numeric'}, {'isCaseSensitive': False, 'isCurrency': False, 'isSigned': False, 'label': 'listtime', 'length': 0, 'name': 'listtime', 'nullable': 1, 'precision': 29, 'scale': 6, 'schemaName': 'tickit', 'tableName': 'listing', 'typeName': 'timestamp'}], 'Records': [[{'longValue': 1315}, {'longValue': 37302}, {'longValue': 920}, {'longValue': 1827}, {'longValue': 9}, {'stringValue': '126.00'}, {'stringValue': '1134.00'}, {'stringValue': '2008-01-01 04:05:41'}], [{'longValue': 4118}, {'longValue': 40141}, {'longValue': 5624}, {'longValue': 1827}, {'longValue': 16}, {'stringValue': '43.00'}, {'stringValue': '688.00'}, {'stringValue': '2008-01-01 03:10:06'}], [{'longValue': 5273}, {'longValue': 24685}, {'longValue': 383}, {'longValue': 1827}, {'longValue': 1}, {'stringValue': '79.00'}, {'stringValue': '79.00'}, {'stringValue': '2008-01-01 06:03:47'}]], 'TotalNumRows': 3, 'ResponseMetadata': {'RequestId': '211d3939-7ddc-41bf-88c1-8f95c4c2a7ee', 'HTTPStatusCode': 200, 'HTTPHeaders': {'x-amzn-requestid': '211d3939-7ddc-41bf-88c1-8f95c4c2a7ee', 'content-type': 'application/x-amz-json-1.1', 'content-length': '2285', 'date': 'Fri, 28 Mar 2025 16:08:29 GMT'}, 'RetryAttempts': 0}}\n",
      "Working with query response: {'ColumnMetadata': [{'isCaseSensitive': False, 'isCurrency': False, 'isSigned': True, 'label': 'salesid', 'length': 0, 'name': 'salesid', 'nullable': 0, 'precision': 10, 'scale': 0, 'schemaName': 'tickit', 'tableName': 'sales', 'typeName': 'int4'}, {'isCaseSensitive': False, 'isCurrency': False, 'isSigned': True, 'label': 'listid', 'length': 0, 'name': 'listid', 'nullable': 0, 'precision': 10, 'scale': 0, 'schemaName': 'tickit', 'tableName': 'sales', 'typeName': 'int4'}, {'isCaseSensitive': False, 'isCurrency': False, 'isSigned': True, 'label': 'sellerid', 'length': 0, 'name': 'sellerid', 'nullable': 0, 'precision': 10, 'scale': 0, 'schemaName': 'tickit', 'tableName': 'sales', 'typeName': 'int4'}, {'isCaseSensitive': False, 'isCurrency': False, 'isSigned': True, 'label': 'buyerid', 'length': 0, 'name': 'buyerid', 'nullable': 0, 'precision': 10, 'scale': 0, 'schemaName': 'tickit', 'tableName': 'sales', 'typeName': 'int4'}, {'isCaseSensitive': False, 'isCurrency': False, 'isSigned': True, 'label': 'eventid', 'length': 0, 'name': 'eventid', 'nullable': 0, 'precision': 10, 'scale': 0, 'schemaName': 'tickit', 'tableName': 'sales', 'typeName': 'int4'}, {'isCaseSensitive': False, 'isCurrency': False, 'isSigned': True, 'label': 'dateid', 'length': 0, 'name': 'dateid', 'nullable': 0, 'precision': 5, 'scale': 0, 'schemaName': 'tickit', 'tableName': 'sales', 'typeName': 'int2'}, {'isCaseSensitive': False, 'isCurrency': False, 'isSigned': True, 'label': 'qtysold', 'length': 0, 'name': 'qtysold', 'nullable': 0, 'precision': 5, 'scale': 0, 'schemaName': 'tickit', 'tableName': 'sales', 'typeName': 'int2'}, {'isCaseSensitive': False, 'isCurrency': False, 'isSigned': True, 'label': 'pricepaid', 'length': 0, 'name': 'pricepaid', 'nullable': 1, 'precision': 8, 'scale': 2, 'schemaName': 'tickit', 'tableName': 'sales', 'typeName': 'numeric'}, {'isCaseSensitive': False, 'isCurrency': False, 'isSigned': True, 'label': 'commission', 'length': 0, 'name': 'commission', 'nullable': 1, 'precision': 8, 'scale': 2, 'schemaName': 'tickit', 'tableName': 'sales', 'typeName': 'numeric'}, {'isCaseSensitive': False, 'isCurrency': False, 'isSigned': False, 'label': 'saletime', 'length': 0, 'name': 'saletime', 'nullable': 1, 'precision': 29, 'scale': 6, 'schemaName': 'tickit', 'tableName': 'sales', 'typeName': 'timestamp'}], 'Records': [[{'longValue': 7011}, {'longValue': 7613}, {'longValue': 5933}, {'longValue': 1503}, {'longValue': 4515}, {'longValue': 1828}, {'longValue': 1}, {'stringValue': '177.00'}, {'stringValue': '26.55'}, {'stringValue': '2008-01-02 01:52:35'}], [{'longValue': 84644}, {'longValue': 96603}, {'longValue': 6051}, {'longValue': 1312}, {'longValue': 6641}, {'longValue': 1828}, {'longValue': 2}, {'stringValue': '810.00'}, {'stringValue': '121.50'}, {'stringValue': '2008-01-02 09:31:15'}], [{'longValue': 144048}, {'longValue': 166749}, {'longValue': 1303}, {'longValue': 617}, {'longValue': 7002}, {'longValue': 1828}, {'longValue': 1}, {'stringValue': '196.00'}, {'stringValue': '29.40'}, {'stringValue': '2008-01-02 03:34:14'}]], 'TotalNumRows': 3, 'ResponseMetadata': {'RequestId': 'f60766c5-8ce5-447e-af74-970612357a5e', 'HTTPStatusCode': 200, 'HTTPHeaders': {'x-amzn-requestid': 'f60766c5-8ce5-447e-af74-970612357a5e', 'content-type': 'application/x-amz-json-1.1', 'content-length': '2780', 'date': 'Fri, 28 Mar 2025 16:08:29 GMT'}, 'RetryAttempts': 0}}\n",
      "Working with query response: {'ColumnMetadata': [{'isCaseSensitive': False, 'isCurrency': False, 'isSigned': True, 'label': 'userid', 'length': 0, 'name': 'userid', 'nullable': 0, 'precision': 10, 'scale': 0, 'schemaName': 'tickit', 'tableName': 'users', 'typeName': 'int4'}, {'isCaseSensitive': True, 'isCurrency': False, 'isSigned': False, 'label': 'username', 'length': 0, 'name': 'username', 'nullable': 1, 'precision': 8, 'scale': 0, 'schemaName': 'tickit', 'tableName': 'users', 'typeName': 'bpchar'}, {'isCaseSensitive': True, 'isCurrency': False, 'isSigned': False, 'label': 'firstname', 'length': 0, 'name': 'firstname', 'nullable': 1, 'precision': 30, 'scale': 0, 'schemaName': 'tickit', 'tableName': 'users', 'typeName': 'varchar'}, {'isCaseSensitive': True, 'isCurrency': False, 'isSigned': False, 'label': 'lastname', 'length': 0, 'name': 'lastname', 'nullable': 1, 'precision': 30, 'scale': 0, 'schemaName': 'tickit', 'tableName': 'users', 'typeName': 'varchar'}, {'isCaseSensitive': True, 'isCurrency': False, 'isSigned': False, 'label': 'city', 'length': 0, 'name': 'city', 'nullable': 1, 'precision': 30, 'scale': 0, 'schemaName': 'tickit', 'tableName': 'users', 'typeName': 'varchar'}, {'isCaseSensitive': True, 'isCurrency': False, 'isSigned': False, 'label': 'state', 'length': 0, 'name': 'state', 'nullable': 1, 'precision': 2, 'scale': 0, 'schemaName': 'tickit', 'tableName': 'users', 'typeName': 'bpchar'}, {'isCaseSensitive': True, 'isCurrency': False, 'isSigned': False, 'label': 'email', 'length': 0, 'name': 'email', 'nullable': 1, 'precision': 100, 'scale': 0, 'schemaName': 'tickit', 'tableName': 'users', 'typeName': 'varchar'}, {'isCaseSensitive': True, 'isCurrency': False, 'isSigned': False, 'label': 'phone', 'length': 0, 'name': 'phone', 'nullable': 1, 'precision': 14, 'scale': 0, 'schemaName': 'tickit', 'tableName': 'users', 'typeName': 'bpchar'}, {'isCaseSensitive': False, 'isCurrency': False, 'isSigned': False, 'label': 'likesports', 'length': 0, 'name': 'likesports', 'nullable': 1, 'precision': 1, 'scale': 0, 'schemaName': 'tickit', 'tableName': 'users', 'typeName': 'bool'}, {'isCaseSensitive': False, 'isCurrency': False, 'isSigned': False, 'label': 'liketheatre', 'length': 0, 'name': 'liketheatre', 'nullable': 1, 'precision': 1, 'scale': 0, 'schemaName': 'tickit', 'tableName': 'users', 'typeName': 'bool'}, {'isCaseSensitive': False, 'isCurrency': False, 'isSigned': False, 'label': 'likeconcerts', 'length': 0, 'name': 'likeconcerts', 'nullable': 1, 'precision': 1, 'scale': 0, 'schemaName': 'tickit', 'tableName': 'users', 'typeName': 'bool'}, {'isCaseSensitive': False, 'isCurrency': False, 'isSigned': False, 'label': 'likejazz', 'length': 0, 'name': 'likejazz', 'nullable': 1, 'precision': 1, 'scale': 0, 'schemaName': 'tickit', 'tableName': 'users', 'typeName': 'bool'}, {'isCaseSensitive': False, 'isCurrency': False, 'isSigned': False, 'label': 'likeclassical', 'length': 0, 'name': 'likeclassical', 'nullable': 1, 'precision': 1, 'scale': 0, 'schemaName': 'tickit', 'tableName': 'users', 'typeName': 'bool'}, {'isCaseSensitive': False, 'isCurrency': False, 'isSigned': False, 'label': 'likeopera', 'length': 0, 'name': 'likeopera', 'nullable': 1, 'precision': 1, 'scale': 0, 'schemaName': 'tickit', 'tableName': 'users', 'typeName': 'bool'}, {'isCaseSensitive': False, 'isCurrency': False, 'isSigned': False, 'label': 'likerock', 'length': 0, 'name': 'likerock', 'nullable': 1, 'precision': 1, 'scale': 0, 'schemaName': 'tickit', 'tableName': 'users', 'typeName': 'bool'}, {'isCaseSensitive': False, 'isCurrency': False, 'isSigned': False, 'label': 'likevegas', 'length': 0, 'name': 'likevegas', 'nullable': 1, 'precision': 1, 'scale': 0, 'schemaName': 'tickit', 'tableName': 'users', 'typeName': 'bool'}, {'isCaseSensitive': False, 'isCurrency': False, 'isSigned': False, 'label': 'likebroadway', 'length': 0, 'name': 'likebroadway', 'nullable': 1, 'precision': 1, 'scale': 0, 'schemaName': 'tickit', 'tableName': 'users', 'typeName': 'bool'}, {'isCaseSensitive': False, 'isCurrency': False, 'isSigned': False, 'label': 'likemusicals', 'length': 0, 'name': 'likemusicals', 'nullable': 1, 'precision': 1, 'scale': 0, 'schemaName': 'tickit', 'tableName': 'users', 'typeName': 'bool'}], 'Records': [[{'longValue': 2}, {'stringValue': 'PGL08LJI'}, {'stringValue': 'Vladimir'}, {'stringValue': 'Humphrey'}, {'stringValue': 'Murfreesboro'}, {'stringValue': 'SK'}, {'stringValue': 'Suspendisse.tristique@nonnisiAenean.edu'}, {'stringValue': '(783) 492-1886'}, {'isNull': True}, {'isNull': True}, {'isNull': True}, {'booleanValue': True}, {'booleanValue': True}, {'isNull': True}, {'isNull': True}, {'booleanValue': True}, {'booleanValue': False}, {'booleanValue': True}], [{'longValue': 4}, {'stringValue': 'XDZ38RDD'}, {'stringValue': 'Barry'}, {'stringValue': 'Roy'}, {'stringValue': 'Omaha'}, {'stringValue': 'AB'}, {'stringValue': 'sed@lacusUtnec.ca'}, {'stringValue': '(355) 452-8168'}, {'booleanValue': False}, {'booleanValue': True}, {'isNull': True}, {'booleanValue': False}, {'isNull': True}, {'isNull': True}, {'isNull': True}, {'isNull': True}, {'isNull': True}, {'booleanValue': False}], [{'longValue': 7}, {'stringValue': 'OWY35QYB'}, {'stringValue': 'Tamekah'}, {'stringValue': 'Juarez'}, {'stringValue': 'Moultrie'}, {'stringValue': 'WV'}, {'stringValue': 'elementum@semperpretiumneque.ca'}, {'stringValue': '(297) 875-7247'}, {'isNull': True}, {'isNull': True}, {'isNull': True}, {'booleanValue': True}, {'booleanValue': True}, {'booleanValue': False}, {'isNull': True}, {'isNull': True}, {'booleanValue': False}, {'booleanValue': False}]], 'TotalNumRows': 3, 'ResponseMetadata': {'RequestId': '5d31a13f-507b-41d8-be4d-eae137c96f3b', 'HTTPStatusCode': 200, 'HTTPHeaders': {'x-amzn-requestid': '5d31a13f-507b-41d8-be4d-eae137c96f3b', 'content-type': 'application/x-amz-json-1.1', 'content-length': '5057', 'date': 'Fri, 28 Mar 2025 16:08:29 GMT'}, 'RetryAttempts': 0}}\n",
      "Working with query response: {'ColumnMetadata': [{'isCaseSensitive': False, 'isCurrency': False, 'isSigned': True, 'label': 'venueid', 'length': 0, 'name': 'venueid', 'nullable': 0, 'precision': 5, 'scale': 0, 'schemaName': 'tickit', 'tableName': 'venue', 'typeName': 'int2'}, {'isCaseSensitive': True, 'isCurrency': False, 'isSigned': False, 'label': 'venuename', 'length': 0, 'name': 'venuename', 'nullable': 1, 'precision': 100, 'scale': 0, 'schemaName': 'tickit', 'tableName': 'venue', 'typeName': 'varchar'}, {'isCaseSensitive': True, 'isCurrency': False, 'isSigned': False, 'label': 'venuecity', 'length': 0, 'name': 'venuecity', 'nullable': 1, 'precision': 30, 'scale': 0, 'schemaName': 'tickit', 'tableName': 'venue', 'typeName': 'varchar'}, {'isCaseSensitive': True, 'isCurrency': False, 'isSigned': False, 'label': 'venuestate', 'length': 0, 'name': 'venuestate', 'nullable': 1, 'precision': 2, 'scale': 0, 'schemaName': 'tickit', 'tableName': 'venue', 'typeName': 'bpchar'}, {'isCaseSensitive': False, 'isCurrency': False, 'isSigned': True, 'label': 'venueseats', 'length': 0, 'name': 'venueseats', 'nullable': 1, 'precision': 10, 'scale': 0, 'schemaName': 'tickit', 'tableName': 'venue', 'typeName': 'int4'}], 'Records': [[{'longValue': 2}, {'stringValue': 'Columbus Crew Stadium'}, {'stringValue': 'Columbus'}, {'stringValue': 'OH'}, {'longValue': 0}], [{'longValue': 4}, {'stringValue': 'CommunityAmerica Ballpark'}, {'stringValue': 'Kansas City'}, {'stringValue': 'KS'}, {'longValue': 0}], [{'longValue': 7}, {'stringValue': 'BMO Field'}, {'stringValue': 'Toronto'}, {'stringValue': 'ON'}, {'longValue': 0}]], 'TotalNumRows': 3, 'ResponseMetadata': {'RequestId': 'bb9377c5-55bd-487b-8c0a-98f9531c9bee', 'HTTPStatusCode': 200, 'HTTPHeaders': {'x-amzn-requestid': 'bb9377c5-55bd-487b-8c0a-98f9531c9bee', 'content-type': 'application/x-amz-json-1.1', 'content-length': '1461', 'date': 'Fri, 28 Mar 2025 16:08:29 GMT'}, 'RetryAttempts': 0}}\n",
      "Returning results: ['table_catalog,table_schema,table_name,column_name,ordinal_position,is_nullable,data_type\\nsample_data_dev,tickit,date,holiday,8,YES,boolean\\nsample_data_dev,tickit,users,likemusicals,18,YES,boolean\\nsample_data_dev,tickit,users,likebroadway,17,YES,boolean\\nsample_data_dev,tickit,users,likevegas,16,YES,boolean\\nsample_data_dev,tickit,users,likerock,15,YES,boolean\\nsample_data_dev,tickit,users,likeopera,14,YES,boolean\\nsample_data_dev,tickit,users,likeclassical,13,YES,boolean\\nsample_data_dev,tickit,users,likejazz,12,YES,boolean\\nsample_data_dev,tickit,users,likeconcerts,11,YES,boolean\\nsample_data_dev,tickit,users,liketheatre,10,YES,boolean\\nsample_data_dev,tickit,users,likesports,9,YES,boolean\\nsample_data_dev,tickit,sales,qtysold,7,NO,smallint\\nsample_data_dev,tickit,listing,numtickets,5,NO,smallint\\nsample_data_dev,tickit,event,catid,3,NO,smallint\\nsample_data_dev,tickit,event,venueid,2,NO,smallint\\nsample_data_dev,tickit,date,year,7,NO,smallint\\nsample_data_dev,tickit,date,week,4,NO,smallint\\nsample_data_dev,tickit,sales,dateid,6,NO,smallint\\nsample_data_dev,tickit,listing,dateid,4,NO,smallint\\nsample_data_dev,tickit,event,dateid,4,NO,smallint\\nsample_data_dev,tickit,date,dateid,1,NO,smallint\\nsample_data_dev,tickit,category,catid,1,NO,smallint\\nsample_data_dev,tickit,venue,venueid,1,NO,smallint\\nsample_data_dev,tickit,sales,eventid,5,NO,integer\\nsample_data_dev,tickit,sales,buyerid,4,NO,integer\\nsample_data_dev,tickit,sales,sellerid,3,NO,integer\\nsample_data_dev,tickit,sales,listid,2,NO,integer\\nsample_data_dev,tickit,sales,salesid,1,NO,integer\\nsample_data_dev,tickit,listing,eventid,3,NO,integer\\nsample_data_dev,tickit,listing,sellerid,2,NO,integer\\nsample_data_dev,tickit,listing,listid,1,NO,integer\\nsample_data_dev,tickit,event,eventid,1,NO,integer\\nsample_data_dev,tickit,venue,venueseats,5,YES,integer\\nsample_data_dev,tickit,users,userid,1,NO,integer\\nsample_data_dev,tickit,date,qtr,6,NO,character\\nsample_data_dev,tickit,date,month,5,NO,character\\nsample_data_dev,tickit,date,day,3,NO,character\\nsample_data_dev,tickit,venue,venuestate,4,YES,character\\nsample_data_dev,tickit,users,phone,8,YES,character\\nsample_data_dev,tickit,users,state,6,YES,character\\nsample_data_dev,tickit,users,username,2,YES,character\\nsample_data_dev,tickit,event,eventname,5,YES,character varying\\nsample_data_dev,tickit,category,catdesc,4,YES,character varying\\nsample_data_dev,tickit,category,catname,3,YES,character varying\\nsample_data_dev,tickit,category,catgroup,2,YES,character varying\\nsample_data_dev,tickit,venue,venuecity,3,YES,character varying\\nsample_data_dev,tickit,venue,venuename,2,YES,character varying\\nsample_data_dev,tickit,users,email,7,YES,character varying\\nsample_data_dev,tickit,users,city,5,YES,character varying\\nsample_data_dev,tickit,users,lastname,4,YES,character varying\\nsample_data_dev,tickit,users,firstname,3,YES,character varying\\nsample_data_dev,tickit,date,caldate,2,NO,date\\nsample_data_dev,tickit,sales,commission,9,YES,numeric\\nsample_data_dev,tickit,sales,pricepaid,8,YES,numeric\\nsample_data_dev,tickit,listing,totalprice,7,YES,numeric\\nsample_data_dev,tickit,listing,priceperticket,6,YES,numeric\\nsample_data_dev,tickit,sales,saletime,10,YES,timestamp without time zone\\nsample_data_dev,tickit,listing,listtime,8,YES,timestamp without time zone\\nsample_data_dev,tickit,event,starttime,6,YES,timestamp without time zone\\n', 'catid,catgroup,catname,catdesc\\n5,Sports,MLS,Major League Soccer\\n1,Sports,MLB,Major League Baseball\\n6,Shows,Musicals,Musical theatre\\n', 'dateid,caldate,day,week,month,qtr,year,holiday\\n1827,2008-01-01,WE ,1,JAN  ,1    ,2008,True\\n1843,2008-01-17,FR ,3,JAN  ,1    ,2008,False\\n1845,2008-01-19,SU ,4,JAN  ,1    ,2008,False\\n', 'eventid,venueid,catid,dateid,eventname,starttime\\n1334,208,6,1827,The King and I,2008-01-01 14:30:00\\n4850,91,9,1827,Zappa Plays Zappa,2008-01-01 14:00:00\\n6440,71,9,1827,Beck,2008-01-01 19:00:00\\n', 'listid,sellerid,eventid,dateid,numtickets,priceperticket,totalprice,listtime\\n1315,37302,920,1827,9,126.00,1134.00,2008-01-01 04:05:41\\n4118,40141,5624,1827,16,43.00,688.00,2008-01-01 03:10:06\\n5273,24685,383,1827,1,79.00,79.00,2008-01-01 06:03:47\\n', 'salesid,listid,sellerid,buyerid,eventid,dateid,qtysold,pricepaid,commission,saletime\\n7011,7613,5933,1503,4515,1828,1,177.00,26.55,2008-01-02 01:52:35\\n84644,96603,6051,1312,6641,1828,2,810.00,121.50,2008-01-02 09:31:15\\n144048,166749,1303,617,7002,1828,1,196.00,29.40,2008-01-02 03:34:14\\n', 'userid,username,firstname,lastname,city,state,email,phone,likesports,liketheatre,likeconcerts,likejazz,likeclassical,likeopera,likerock,likevegas,likebroadway,likemusicals\\n2,PGL08LJI,Vladimir,Humphrey,Murfreesboro,SK,Suspendisse.tristique@nonnisiAenean.edu,(783) 492-1886,True,True,True,True,True,True,True,True,False,True\\n4,XDZ38RDD,Barry,Roy,Omaha,AB,sed@lacusUtnec.ca,(355) 452-8168,False,True,True,False,True,True,True,True,True,False\\n7,OWY35QYB,Tamekah,Juarez,Moultrie,WV,elementum@semperpretiumneque.ca,(297) 875-7247,True,True,True,True,True,False,True,True,False,False\\n', 'venueid,venuename,venuecity,venuestate,venueseats\\n2,Columbus Crew Stadium,Columbus,OH,0\\n4,CommunityAmerica Ballpark,Kansas City,KS,0\\n7,BMO Field,Toronto,ON,0\\n']\n",
      "Queries have been executed\n",
      "<s><<SYS>>[INST]\n",
      "You are an expert PostgreSQL developer. Your job is to provide a syntactically correct PostgreSQL query given a user question.\n",
      "Here are the schema definition of table(s):\n",
      "########\n",
      "table_catalog,table_schema,table_name,column_name,ordinal_position,is_nullable,data_type\n",
      "sample_data_dev,tickit,category,catdesc,4,YES,character varying\n",
      "sample_data_dev,tickit,category,catgroup,2,YES,character varying\n",
      "sample_data_dev,tickit,category,catid,1,NO,smallint\n",
      "sample_data_dev,tickit,category,catname,3,YES,character varying\n",
      "sample_data_dev,tickit,date,caldate,2,NO,date\n",
      "sample_data_dev,tickit,date,dateid,1,NO,smallint\n",
      "sample_data_dev,tickit,date,day,3,NO,character\n",
      "sample_data_dev,tickit,date,holiday,8,YES,boolean\n",
      "sample_data_dev,tickit,date,month,5,NO,character\n",
      "sample_data_dev,tickit,date,qtr,6,NO,character\n",
      "sample_data_dev,tickit,date,week,4,NO,smallint\n",
      "sample_data_dev,tickit,date,year,7,NO,smallint\n",
      "sample_data_dev,tickit,event,catid,3,NO,smallint\n",
      "sample_data_dev,tickit,event,dateid,4,NO,smallint\n",
      "sample_data_dev,tickit,event,eventid,1,NO,integer\n",
      "sample_data_dev,tickit,event,eventname,5,YES,character varying\n",
      "sample_data_dev,tickit,event,starttime,6,YES,timestamp without time zone\n",
      "sample_data_dev,tickit,event,venueid,2,NO,smallint\n",
      "sample_data_dev,tickit,listing,dateid,4,NO,smallint\n",
      "sample_data_dev,tickit,listing,eventid,3,NO,integer\n",
      "sample_data_dev,tickit,listing,listid,1,NO,integer\n",
      "sample_data_dev,tickit,listing,listtime,8,YES,timestamp without time zone\n",
      "sample_data_dev,tickit,listing,numtickets,5,NO,smallint\n",
      "sample_data_dev,tickit,listing,priceperticket,6,YES,numeric\n",
      "sample_data_dev,tickit,listing,sellerid,2,NO,integer\n",
      "sample_data_dev,tickit,listing,totalprice,7,YES,numeric\n",
      "sample_data_dev,tickit,sales,buyerid,4,NO,integer\n",
      "sample_data_dev,tickit,sales,commission,9,YES,numeric\n",
      "sample_data_dev,tickit,sales,dateid,6,NO,smallint\n",
      "sample_data_dev,tickit,sales,eventid,5,NO,integer\n",
      "sample_data_dev,tickit,sales,listid,2,NO,integer\n",
      "sample_data_dev,tickit,sales,pricepaid,8,YES,numeric\n",
      "sample_data_dev,tickit,sales,qtysold,7,NO,smallint\n",
      "sample_data_dev,tickit,sales,salesid,1,NO,integer\n",
      "sample_data_dev,tickit,sales,saletime,10,YES,timestamp without time zone\n",
      "sample_data_dev,tickit,sales,sellerid,3,NO,integer\n",
      "sample_data_dev,tickit,users,city,5,YES,character varying\n",
      "sample_data_dev,tickit,users,email,7,YES,character varying\n",
      "sample_data_dev,tickit,users,firstname,3,YES,character varying\n",
      "sample_data_dev,tickit,users,lastname,4,YES,character varying\n",
      "sample_data_dev,tickit,users,likebroadway,17,YES,boolean\n",
      "sample_data_dev,tickit,users,likeclassical,13,YES,boolean\n",
      "sample_data_dev,tickit,users,likeconcerts,11,YES,boolean\n",
      "sample_data_dev,tickit,users,likejazz,12,YES,boolean\n",
      "sample_data_dev,tickit,users,likemusicals,18,YES,boolean\n",
      "sample_data_dev,tickit,users,likeopera,14,YES,boolean\n",
      "sample_data_dev,tickit,users,likerock,15,YES,boolean\n",
      "sample_data_dev,tickit,users,likesports,9,YES,boolean\n",
      "sample_data_dev,tickit,users,liketheatre,10,YES,boolean\n",
      "sample_data_dev,tickit,users,likevegas,16,YES,boolean\n",
      "sample_data_dev,tickit,users,phone,8,YES,character\n",
      "sample_data_dev,tickit,users,state,6,YES,character\n",
      "sample_data_dev,tickit,users,userid,1,NO,integer\n",
      "sample_data_dev,tickit,users,username,2,YES,character\n",
      "sample_data_dev,tickit,venue,venuecity,3,YES,character varying\n",
      "sample_data_dev,tickit,venue,venueid,1,NO,smallint\n",
      "sample_data_dev,tickit,venue,venuename,2,YES,character varying\n",
      "sample_data_dev,tickit,venue,venueseats,5,YES,integer\n",
      "sample_data_dev,tickit,venue,venuestate,4,YES,character\n",
      "########\n",
      "\n",
      "Here are example records for each table:\n",
      "##########\n",
      "catid,catgroup,catname,catdesc\n",
      "5,Sports,MLS,Major League Soccer\n",
      "1,Sports,MLB,Major League Baseball\n",
      "6,Shows,Musicals,Musical theatre\n",
      "\n",
      "\n",
      "dateid,caldate,day,week,month,qtr,year,holiday\n",
      "1827,2008-01-01,WE ,1,JAN  ,1    ,2008,True\n",
      "1843,2008-01-17,FR ,3,JAN  ,1    ,2008,False\n",
      "1845,2008-01-19,SU ,4,JAN  ,1    ,2008,False\n",
      "\n",
      "\n",
      "eventid,venueid,catid,dateid,eventname,starttime\n",
      "1334,208,6,1827,The King and I,2008-01-01 14:30:00\n",
      "4850,91,9,1827,Zappa Plays Zappa,2008-01-01 14:00:00\n",
      "6440,71,9,1827,Beck,2008-01-01 19:00:00\n",
      "\n",
      "\n",
      "listid,sellerid,eventid,dateid,numtickets,priceperticket,totalprice,listtime\n",
      "1315,37302,920,1827,9,126.00,1134.00,2008-01-01 04:05:41\n",
      "4118,40141,5624,1827,16,43.00,688.00,2008-01-01 03:10:06\n",
      "5273,24685,383,1827,1,79.00,79.00,2008-01-01 06:03:47\n",
      "\n",
      "\n",
      "salesid,listid,sellerid,buyerid,eventid,dateid,qtysold,pricepaid,commission,saletime\n",
      "7011,7613,5933,1503,4515,1828,1,177.00,26.55,2008-01-02 01:52:35\n",
      "84644,96603,6051,1312,6641,1828,2,810.00,121.50,2008-01-02 09:31:15\n",
      "144048,166749,1303,617,7002,1828,1,196.00,29.40,2008-01-02 03:34:14\n",
      "\n",
      "\n",
      "userid,username,firstname,lastname,city,state,email,phone,likesports,liketheatre,likeconcerts,likejazz,likeclassical,likeopera,likerock,likevegas,likebroadway,likemusicals\n",
      "2,PGL08LJI,Vladimir,Humphrey,Murfreesboro,SK,Suspendisse.tristique@nonnisiAenean.edu,(783) 492-1886,True,True,True,True,True,True,True,True,False,True\n",
      "4,XDZ38RDD,Barry,Roy,Omaha,AB,sed@lacusUtnec.ca,(355) 452-8168,False,True,True,False,True,True,True,True,True,False\n",
      "7,OWY35QYB,Tamekah,Juarez,Moultrie,WV,elementum@semperpretiumneque.ca,(297) 875-7247,True,True,True,True,True,False,True,True,False,False\n",
      "\n",
      "\n",
      "venueid,venuename,venuecity,venuestate,venueseats\n",
      "2,Columbus Crew Stadium,Columbus,OH,0\n",
      "4,CommunityAmerica Ballpark,Kansas City,KS,0\n",
      "7,BMO Field,Toronto,ON,0\n",
      "\n",
      "\n",
      "\n",
      "###########\n",
      "<</SYS>>\n",
      "Here are some instructions when generating SQL statements:\n",
      "1. Determine the necessary table(s) and schema needed for an accurate query.\n",
      "2. Limit your queries to only the required columns to prevent unnecessary data retrieval and improve query performance.\n",
      "3. For clarity and to prevent potential conflicts, always include the schema name when referencing table names in your SQL queries.\n",
      "4. When working with Amazon Redshift table and column names containing underscores, do not use the backslash escape character (\\). Instead, use double quotes (\"\") to enclose the names in your queries.\n",
      "5. Do not mention 'dev' or 'public' in the queries.\n",
      "In your response, provide a single SQL statement to answer the question, avoid additional text that would cause failure during executing the sql. \n",
      "Format your response as:\n",
      "<sql>\n",
      "generated SQL statement \n",
      "</sql>\n",
      "\n",
      "Question: What is the number of Venues where the show titled Macbeth was held?[/INST]\n",
      " FIRST ATTEMPT SQL:\n",
      "\n",
      "SELECT COUNT(DISTINCT v.venueid)\n",
      "FROM tickit.event e\n",
      "JOIN tickit.venue v ON e.venueid = v.venueid\n",
      "WHERE e.eventname = 'Macbeth';\n",
      "\n",
      "Working with query response: {'ColumnMetadata': [{'isCaseSensitive': False, 'isCurrency': False, 'isSigned': True, 'label': 'count', 'length': 0, 'name': 'count', 'nullable': 1, 'precision': 19, 'scale': 0, 'schemaName': '', 'tableName': '', 'typeName': 'int8'}], 'Records': [[{'longValue': 41}]], 'TotalNumRows': 1, 'ResponseMetadata': {'RequestId': '6b6767aa-d765-456a-86cd-f64c172b26cd', 'HTTPStatusCode': 200, 'HTTPHeaders': {'x-amzn-requestid': '6b6767aa-d765-456a-86cd-f64c172b26cd', 'content-type': 'application/x-amz-json-1.1', 'content-length': '258', 'date': 'Fri, 28 Mar 2025 16:08:41 GMT'}, 'RetryAttempts': 0}}\n",
      "CPU times: user 154 ms, sys: 0 ns, total: 154 ms\n",
      "Wall time: 23.6 s\n"
     ]
    }
   ],
   "source": [
    "%%time\n",
    "result_text2sql = redshift_qna(params)"
   ]
  },
  {
   "cell_type": "code",
   "execution_count": 29,
   "id": "73f7a388-c7dd-40df-bda1-3719044129d2",
   "metadata": {
    "tags": []
   },
   "outputs": [
    {
     "name": "stdout",
     "output_type": "stream",
     "text": [
      "\n",
      "Answer:\n",
      "\n",
      " The number of Venues where the show titled Macbeth was held is 41. This is based on the SQL query result that returned a count of 41 distinct venue IDs for the event named 'Macbeth'.\n",
      "\n"
     ]
    }
   ],
   "source": [
    "# Query result in Natural Language\n",
    "print(f\"\\nAnswer:\\n\\n{result_text2sql[0]}\\n\")"
   ]
  },
  {
   "cell_type": "code",
   "execution_count": 30,
   "id": "66463052-9f25-4ff9-a19e-76832b179e73",
   "metadata": {
    "tags": []
   },
   "outputs": [
    {
     "name": "stdout",
     "output_type": "stream",
     "text": [
      "\n",
      "SQL Query generated from the prompt:\n",
      "\n",
      "\n",
      "SELECT COUNT(DISTINCT v.venueid)\n",
      "FROM tickit.event e\n",
      "JOIN tickit.venue v ON e.venueid = v.venueid\n",
      "WHERE e.eventname = 'Macbeth';\n",
      "\n",
      "\n"
     ]
    }
   ],
   "source": [
    "# Generated SQL query used\n",
    "print(f\"\\nSQL Query generated from the prompt:\\n\")\n",
    "print(result_text2sql[1])\n",
    "print(\"\")"
   ]
  },
  {
   "cell_type": "code",
   "execution_count": 31,
   "id": "884c31f9-917e-45a3-94fb-1c05eef677b3",
   "metadata": {
    "tags": []
   },
   "outputs": [
    {
     "name": "stdout",
     "output_type": "stream",
     "text": [
      "\n",
      "Tabular results from the SQL query:\n",
      "\n"
     ]
    },
    {
     "data": {
      "text/html": [
       "<div>\n",
       "<style scoped>\n",
       "    .dataframe tbody tr th:only-of-type {\n",
       "        vertical-align: middle;\n",
       "    }\n",
       "\n",
       "    .dataframe tbody tr th {\n",
       "        vertical-align: top;\n",
       "    }\n",
       "\n",
       "    .dataframe thead th {\n",
       "        text-align: right;\n",
       "    }\n",
       "</style>\n",
       "<table border=\"1\" class=\"dataframe\">\n",
       "  <thead>\n",
       "    <tr style=\"text-align: right;\">\n",
       "      <th></th>\n",
       "      <th>count</th>\n",
       "    </tr>\n",
       "  </thead>\n",
       "  <tbody>\n",
       "    <tr>\n",
       "      <th>0</th>\n",
       "      <td>41</td>\n",
       "    </tr>\n",
       "  </tbody>\n",
       "</table>\n",
       "</div>"
      ],
      "text/plain": [
       "   count\n",
       "0     41"
      ]
     },
     "execution_count": 31,
     "metadata": {},
     "output_type": "execute_result"
    }
   ],
   "source": [
    "# Tabular results from the SQL Query \n",
    "print(f\"\\nTabular results from the SQL query:\\n\")\n",
    "df=pd.read_csv(StringIO(result_text2sql[2]))\n",
    "df"
   ]
  },
  {
   "cell_type": "code",
   "execution_count": null,
   "id": "de80e756-14eb-4469-8620-15e94084d04a",
   "metadata": {},
   "outputs": [],
   "source": []
  }
 ],
 "metadata": {
  "availableInstances": [
   {
    "_defaultOrder": 0,
    "_isFastLaunch": true,
    "category": "General purpose",
    "gpuNum": 0,
    "hideHardwareSpecs": false,
    "memoryGiB": 4,
    "name": "ml.t3.medium",
    "vcpuNum": 2
   },
   {
    "_defaultOrder": 1,
    "_isFastLaunch": false,
    "category": "General purpose",
    "gpuNum": 0,
    "hideHardwareSpecs": false,
    "memoryGiB": 8,
    "name": "ml.t3.large",
    "vcpuNum": 2
   },
   {
    "_defaultOrder": 2,
    "_isFastLaunch": false,
    "category": "General purpose",
    "gpuNum": 0,
    "hideHardwareSpecs": false,
    "memoryGiB": 16,
    "name": "ml.t3.xlarge",
    "vcpuNum": 4
   },
   {
    "_defaultOrder": 3,
    "_isFastLaunch": false,
    "category": "General purpose",
    "gpuNum": 0,
    "hideHardwareSpecs": false,
    "memoryGiB": 32,
    "name": "ml.t3.2xlarge",
    "vcpuNum": 8
   },
   {
    "_defaultOrder": 4,
    "_isFastLaunch": true,
    "category": "General purpose",
    "gpuNum": 0,
    "hideHardwareSpecs": false,
    "memoryGiB": 8,
    "name": "ml.m5.large",
    "vcpuNum": 2
   },
   {
    "_defaultOrder": 5,
    "_isFastLaunch": false,
    "category": "General purpose",
    "gpuNum": 0,
    "hideHardwareSpecs": false,
    "memoryGiB": 16,
    "name": "ml.m5.xlarge",
    "vcpuNum": 4
   },
   {
    "_defaultOrder": 6,
    "_isFastLaunch": false,
    "category": "General purpose",
    "gpuNum": 0,
    "hideHardwareSpecs": false,
    "memoryGiB": 32,
    "name": "ml.m5.2xlarge",
    "vcpuNum": 8
   },
   {
    "_defaultOrder": 7,
    "_isFastLaunch": false,
    "category": "General purpose",
    "gpuNum": 0,
    "hideHardwareSpecs": false,
    "memoryGiB": 64,
    "name": "ml.m5.4xlarge",
    "vcpuNum": 16
   },
   {
    "_defaultOrder": 8,
    "_isFastLaunch": false,
    "category": "General purpose",
    "gpuNum": 0,
    "hideHardwareSpecs": false,
    "memoryGiB": 128,
    "name": "ml.m5.8xlarge",
    "vcpuNum": 32
   },
   {
    "_defaultOrder": 9,
    "_isFastLaunch": false,
    "category": "General purpose",
    "gpuNum": 0,
    "hideHardwareSpecs": false,
    "memoryGiB": 192,
    "name": "ml.m5.12xlarge",
    "vcpuNum": 48
   },
   {
    "_defaultOrder": 10,
    "_isFastLaunch": false,
    "category": "General purpose",
    "gpuNum": 0,
    "hideHardwareSpecs": false,
    "memoryGiB": 256,
    "name": "ml.m5.16xlarge",
    "vcpuNum": 64
   },
   {
    "_defaultOrder": 11,
    "_isFastLaunch": false,
    "category": "General purpose",
    "gpuNum": 0,
    "hideHardwareSpecs": false,
    "memoryGiB": 384,
    "name": "ml.m5.24xlarge",
    "vcpuNum": 96
   },
   {
    "_defaultOrder": 12,
    "_isFastLaunch": false,
    "category": "General purpose",
    "gpuNum": 0,
    "hideHardwareSpecs": false,
    "memoryGiB": 8,
    "name": "ml.m5d.large",
    "vcpuNum": 2
   },
   {
    "_defaultOrder": 13,
    "_isFastLaunch": false,
    "category": "General purpose",
    "gpuNum": 0,
    "hideHardwareSpecs": false,
    "memoryGiB": 16,
    "name": "ml.m5d.xlarge",
    "vcpuNum": 4
   },
   {
    "_defaultOrder": 14,
    "_isFastLaunch": false,
    "category": "General purpose",
    "gpuNum": 0,
    "hideHardwareSpecs": false,
    "memoryGiB": 32,
    "name": "ml.m5d.2xlarge",
    "vcpuNum": 8
   },
   {
    "_defaultOrder": 15,
    "_isFastLaunch": false,
    "category": "General purpose",
    "gpuNum": 0,
    "hideHardwareSpecs": false,
    "memoryGiB": 64,
    "name": "ml.m5d.4xlarge",
    "vcpuNum": 16
   },
   {
    "_defaultOrder": 16,
    "_isFastLaunch": false,
    "category": "General purpose",
    "gpuNum": 0,
    "hideHardwareSpecs": false,
    "memoryGiB": 128,
    "name": "ml.m5d.8xlarge",
    "vcpuNum": 32
   },
   {
    "_defaultOrder": 17,
    "_isFastLaunch": false,
    "category": "General purpose",
    "gpuNum": 0,
    "hideHardwareSpecs": false,
    "memoryGiB": 192,
    "name": "ml.m5d.12xlarge",
    "vcpuNum": 48
   },
   {
    "_defaultOrder": 18,
    "_isFastLaunch": false,
    "category": "General purpose",
    "gpuNum": 0,
    "hideHardwareSpecs": false,
    "memoryGiB": 256,
    "name": "ml.m5d.16xlarge",
    "vcpuNum": 64
   },
   {
    "_defaultOrder": 19,
    "_isFastLaunch": false,
    "category": "General purpose",
    "gpuNum": 0,
    "hideHardwareSpecs": false,
    "memoryGiB": 384,
    "name": "ml.m5d.24xlarge",
    "vcpuNum": 96
   },
   {
    "_defaultOrder": 20,
    "_isFastLaunch": false,
    "category": "General purpose",
    "gpuNum": 0,
    "hideHardwareSpecs": true,
    "memoryGiB": 0,
    "name": "ml.geospatial.interactive",
    "supportedImageNames": [
     "sagemaker-geospatial-v1-0"
    ],
    "vcpuNum": 0
   },
   {
    "_defaultOrder": 21,
    "_isFastLaunch": true,
    "category": "Compute optimized",
    "gpuNum": 0,
    "hideHardwareSpecs": false,
    "memoryGiB": 4,
    "name": "ml.c5.large",
    "vcpuNum": 2
   },
   {
    "_defaultOrder": 22,
    "_isFastLaunch": false,
    "category": "Compute optimized",
    "gpuNum": 0,
    "hideHardwareSpecs": false,
    "memoryGiB": 8,
    "name": "ml.c5.xlarge",
    "vcpuNum": 4
   },
   {
    "_defaultOrder": 23,
    "_isFastLaunch": false,
    "category": "Compute optimized",
    "gpuNum": 0,
    "hideHardwareSpecs": false,
    "memoryGiB": 16,
    "name": "ml.c5.2xlarge",
    "vcpuNum": 8
   },
   {
    "_defaultOrder": 24,
    "_isFastLaunch": false,
    "category": "Compute optimized",
    "gpuNum": 0,
    "hideHardwareSpecs": false,
    "memoryGiB": 32,
    "name": "ml.c5.4xlarge",
    "vcpuNum": 16
   },
   {
    "_defaultOrder": 25,
    "_isFastLaunch": false,
    "category": "Compute optimized",
    "gpuNum": 0,
    "hideHardwareSpecs": false,
    "memoryGiB": 72,
    "name": "ml.c5.9xlarge",
    "vcpuNum": 36
   },
   {
    "_defaultOrder": 26,
    "_isFastLaunch": false,
    "category": "Compute optimized",
    "gpuNum": 0,
    "hideHardwareSpecs": false,
    "memoryGiB": 96,
    "name": "ml.c5.12xlarge",
    "vcpuNum": 48
   },
   {
    "_defaultOrder": 27,
    "_isFastLaunch": false,
    "category": "Compute optimized",
    "gpuNum": 0,
    "hideHardwareSpecs": false,
    "memoryGiB": 144,
    "name": "ml.c5.18xlarge",
    "vcpuNum": 72
   },
   {
    "_defaultOrder": 28,
    "_isFastLaunch": false,
    "category": "Compute optimized",
    "gpuNum": 0,
    "hideHardwareSpecs": false,
    "memoryGiB": 192,
    "name": "ml.c5.24xlarge",
    "vcpuNum": 96
   },
   {
    "_defaultOrder": 29,
    "_isFastLaunch": true,
    "category": "Accelerated computing",
    "gpuNum": 1,
    "hideHardwareSpecs": false,
    "memoryGiB": 16,
    "name": "ml.g4dn.xlarge",
    "vcpuNum": 4
   },
   {
    "_defaultOrder": 30,
    "_isFastLaunch": false,
    "category": "Accelerated computing",
    "gpuNum": 1,
    "hideHardwareSpecs": false,
    "memoryGiB": 32,
    "name": "ml.g4dn.2xlarge",
    "vcpuNum": 8
   },
   {
    "_defaultOrder": 31,
    "_isFastLaunch": false,
    "category": "Accelerated computing",
    "gpuNum": 1,
    "hideHardwareSpecs": false,
    "memoryGiB": 64,
    "name": "ml.g4dn.4xlarge",
    "vcpuNum": 16
   },
   {
    "_defaultOrder": 32,
    "_isFastLaunch": false,
    "category": "Accelerated computing",
    "gpuNum": 1,
    "hideHardwareSpecs": false,
    "memoryGiB": 128,
    "name": "ml.g4dn.8xlarge",
    "vcpuNum": 32
   },
   {
    "_defaultOrder": 33,
    "_isFastLaunch": false,
    "category": "Accelerated computing",
    "gpuNum": 4,
    "hideHardwareSpecs": false,
    "memoryGiB": 192,
    "name": "ml.g4dn.12xlarge",
    "vcpuNum": 48
   },
   {
    "_defaultOrder": 34,
    "_isFastLaunch": false,
    "category": "Accelerated computing",
    "gpuNum": 1,
    "hideHardwareSpecs": false,
    "memoryGiB": 256,
    "name": "ml.g4dn.16xlarge",
    "vcpuNum": 64
   },
   {
    "_defaultOrder": 35,
    "_isFastLaunch": false,
    "category": "Accelerated computing",
    "gpuNum": 1,
    "hideHardwareSpecs": false,
    "memoryGiB": 61,
    "name": "ml.p3.2xlarge",
    "vcpuNum": 8
   },
   {
    "_defaultOrder": 36,
    "_isFastLaunch": false,
    "category": "Accelerated computing",
    "gpuNum": 4,
    "hideHardwareSpecs": false,
    "memoryGiB": 244,
    "name": "ml.p3.8xlarge",
    "vcpuNum": 32
   },
   {
    "_defaultOrder": 37,
    "_isFastLaunch": false,
    "category": "Accelerated computing",
    "gpuNum": 8,
    "hideHardwareSpecs": false,
    "memoryGiB": 488,
    "name": "ml.p3.16xlarge",
    "vcpuNum": 64
   },
   {
    "_defaultOrder": 38,
    "_isFastLaunch": false,
    "category": "Accelerated computing",
    "gpuNum": 8,
    "hideHardwareSpecs": false,
    "memoryGiB": 768,
    "name": "ml.p3dn.24xlarge",
    "vcpuNum": 96
   },
   {
    "_defaultOrder": 39,
    "_isFastLaunch": false,
    "category": "Memory Optimized",
    "gpuNum": 0,
    "hideHardwareSpecs": false,
    "memoryGiB": 16,
    "name": "ml.r5.large",
    "vcpuNum": 2
   },
   {
    "_defaultOrder": 40,
    "_isFastLaunch": false,
    "category": "Memory Optimized",
    "gpuNum": 0,
    "hideHardwareSpecs": false,
    "memoryGiB": 32,
    "name": "ml.r5.xlarge",
    "vcpuNum": 4
   },
   {
    "_defaultOrder": 41,
    "_isFastLaunch": false,
    "category": "Memory Optimized",
    "gpuNum": 0,
    "hideHardwareSpecs": false,
    "memoryGiB": 64,
    "name": "ml.r5.2xlarge",
    "vcpuNum": 8
   },
   {
    "_defaultOrder": 42,
    "_isFastLaunch": false,
    "category": "Memory Optimized",
    "gpuNum": 0,
    "hideHardwareSpecs": false,
    "memoryGiB": 128,
    "name": "ml.r5.4xlarge",
    "vcpuNum": 16
   },
   {
    "_defaultOrder": 43,
    "_isFastLaunch": false,
    "category": "Memory Optimized",
    "gpuNum": 0,
    "hideHardwareSpecs": false,
    "memoryGiB": 256,
    "name": "ml.r5.8xlarge",
    "vcpuNum": 32
   },
   {
    "_defaultOrder": 44,
    "_isFastLaunch": false,
    "category": "Memory Optimized",
    "gpuNum": 0,
    "hideHardwareSpecs": false,
    "memoryGiB": 384,
    "name": "ml.r5.12xlarge",
    "vcpuNum": 48
   },
   {
    "_defaultOrder": 45,
    "_isFastLaunch": false,
    "category": "Memory Optimized",
    "gpuNum": 0,
    "hideHardwareSpecs": false,
    "memoryGiB": 512,
    "name": "ml.r5.16xlarge",
    "vcpuNum": 64
   },
   {
    "_defaultOrder": 46,
    "_isFastLaunch": false,
    "category": "Memory Optimized",
    "gpuNum": 0,
    "hideHardwareSpecs": false,
    "memoryGiB": 768,
    "name": "ml.r5.24xlarge",
    "vcpuNum": 96
   },
   {
    "_defaultOrder": 47,
    "_isFastLaunch": false,
    "category": "Accelerated computing",
    "gpuNum": 1,
    "hideHardwareSpecs": false,
    "memoryGiB": 16,
    "name": "ml.g5.xlarge",
    "vcpuNum": 4
   },
   {
    "_defaultOrder": 48,
    "_isFastLaunch": false,
    "category": "Accelerated computing",
    "gpuNum": 1,
    "hideHardwareSpecs": false,
    "memoryGiB": 32,
    "name": "ml.g5.2xlarge",
    "vcpuNum": 8
   },
   {
    "_defaultOrder": 49,
    "_isFastLaunch": false,
    "category": "Accelerated computing",
    "gpuNum": 1,
    "hideHardwareSpecs": false,
    "memoryGiB": 64,
    "name": "ml.g5.4xlarge",
    "vcpuNum": 16
   },
   {
    "_defaultOrder": 50,
    "_isFastLaunch": false,
    "category": "Accelerated computing",
    "gpuNum": 1,
    "hideHardwareSpecs": false,
    "memoryGiB": 128,
    "name": "ml.g5.8xlarge",
    "vcpuNum": 32
   },
   {
    "_defaultOrder": 51,
    "_isFastLaunch": false,
    "category": "Accelerated computing",
    "gpuNum": 1,
    "hideHardwareSpecs": false,
    "memoryGiB": 256,
    "name": "ml.g5.16xlarge",
    "vcpuNum": 64
   },
   {
    "_defaultOrder": 52,
    "_isFastLaunch": false,
    "category": "Accelerated computing",
    "gpuNum": 4,
    "hideHardwareSpecs": false,
    "memoryGiB": 192,
    "name": "ml.g5.12xlarge",
    "vcpuNum": 48
   },
   {
    "_defaultOrder": 53,
    "_isFastLaunch": false,
    "category": "Accelerated computing",
    "gpuNum": 4,
    "hideHardwareSpecs": false,
    "memoryGiB": 384,
    "name": "ml.g5.24xlarge",
    "vcpuNum": 96
   },
   {
    "_defaultOrder": 54,
    "_isFastLaunch": false,
    "category": "Accelerated computing",
    "gpuNum": 8,
    "hideHardwareSpecs": false,
    "memoryGiB": 768,
    "name": "ml.g5.48xlarge",
    "vcpuNum": 192
   },
   {
    "_defaultOrder": 55,
    "_isFastLaunch": false,
    "category": "Accelerated computing",
    "gpuNum": 8,
    "hideHardwareSpecs": false,
    "memoryGiB": 1152,
    "name": "ml.p4d.24xlarge",
    "vcpuNum": 96
   },
   {
    "_defaultOrder": 56,
    "_isFastLaunch": false,
    "category": "Accelerated computing",
    "gpuNum": 8,
    "hideHardwareSpecs": false,
    "memoryGiB": 1152,
    "name": "ml.p4de.24xlarge",
    "vcpuNum": 96
   },
   {
    "_defaultOrder": 57,
    "_isFastLaunch": false,
    "category": "Accelerated computing",
    "gpuNum": 0,
    "hideHardwareSpecs": false,
    "memoryGiB": 32,
    "name": "ml.trn1.2xlarge",
    "vcpuNum": 8
   },
   {
    "_defaultOrder": 58,
    "_isFastLaunch": false,
    "category": "Accelerated computing",
    "gpuNum": 0,
    "hideHardwareSpecs": false,
    "memoryGiB": 512,
    "name": "ml.trn1.32xlarge",
    "vcpuNum": 128
   },
   {
    "_defaultOrder": 59,
    "_isFastLaunch": false,
    "category": "Accelerated computing",
    "gpuNum": 0,
    "hideHardwareSpecs": false,
    "memoryGiB": 512,
    "name": "ml.trn1n.32xlarge",
    "vcpuNum": 128
   }
  ],
  "instance_type": "ml.t3.medium",
  "kernelspec": {
   "display_name": "Python 3 (ipykernel)",
   "language": "python",
   "name": "python3"
  },
  "language_info": {
   "codemirror_mode": {
    "name": "ipython",
    "version": 3
   },
   "file_extension": ".py",
   "mimetype": "text/x-python",
   "name": "python",
   "nbconvert_exporter": "python",
   "pygments_lexer": "ipython3",
   "version": "3.11.11"
  }
 },
 "nbformat": 4,
 "nbformat_minor": 5
}
