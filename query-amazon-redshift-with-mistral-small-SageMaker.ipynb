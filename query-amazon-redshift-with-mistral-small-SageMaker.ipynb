{
 "cells": [
  {
   "cell_type": "code",
   "execution_count": 1,
   "id": "f851893e-f3cc-4ce6-9b74-c5ac10a436ad",
   "metadata": {
    "scrolled": true,
    "tags": []
   },
   "outputs": [
    {
     "name": "stdout",
     "output_type": "stream",
     "text": [
      "Requirement already satisfied: boto3 in /opt/conda/lib/python3.11/site-packages (from -r requirements.txt (line 1)) (1.36.3)\n",
      "Requirement already satisfied: sentencepiece in /opt/conda/lib/python3.11/site-packages (from -r requirements.txt (line 2)) (0.1.99)\n",
      "Requirement already satisfied: pandas in /opt/conda/lib/python3.11/site-packages (from -r requirements.txt (line 3)) (2.2.3)\n",
      "Requirement already satisfied: anthropic in /opt/conda/lib/python3.11/site-packages (from -r requirements.txt (line 4)) (0.49.0)\n",
      "Requirement already satisfied: uuid in /opt/conda/lib/python3.11/site-packages (from -r requirements.txt (line 5)) (1.30)\n",
      "Requirement already satisfied: transformers in /opt/conda/lib/python3.11/site-packages (from -r requirements.txt (line 6)) (4.48.3)\n",
      "Requirement already satisfied: tiktoken in /opt/conda/lib/python3.11/site-packages (from -r requirements.txt (line 7)) (0.9.0)\n",
      "Requirement already satisfied: langchain in /opt/conda/lib/python3.11/site-packages (from -r requirements.txt (line 8)) (0.3.17)\n",
      "Requirement already satisfied: s3fs in /opt/conda/lib/python3.11/site-packages (from -r requirements.txt (line 9)) (2024.10.0)\n",
      "Requirement already satisfied: botocore<1.37.0,>=1.36.3 in /opt/conda/lib/python3.11/site-packages (from boto3->-r requirements.txt (line 1)) (1.36.3)\n",
      "Requirement already satisfied: jmespath<2.0.0,>=0.7.1 in /opt/conda/lib/python3.11/site-packages (from boto3->-r requirements.txt (line 1)) (1.0.1)\n",
      "Requirement already satisfied: s3transfer<0.12.0,>=0.11.0 in /opt/conda/lib/python3.11/site-packages (from boto3->-r requirements.txt (line 1)) (0.11.2)\n",
      "Requirement already satisfied: numpy>=1.23.2 in /opt/conda/lib/python3.11/site-packages (from pandas->-r requirements.txt (line 3)) (1.26.4)\n",
      "Requirement already satisfied: python-dateutil>=2.8.2 in /opt/conda/lib/python3.11/site-packages (from pandas->-r requirements.txt (line 3)) (2.9.0.post0)\n",
      "Requirement already satisfied: pytz>=2020.1 in /opt/conda/lib/python3.11/site-packages (from pandas->-r requirements.txt (line 3)) (2024.1)\n",
      "Requirement already satisfied: tzdata>=2022.7 in /opt/conda/lib/python3.11/site-packages (from pandas->-r requirements.txt (line 3)) (2025.1)\n",
      "Requirement already satisfied: anyio<5,>=3.5.0 in /opt/conda/lib/python3.11/site-packages (from anthropic->-r requirements.txt (line 4)) (4.8.0)\n",
      "Requirement already satisfied: distro<2,>=1.7.0 in /opt/conda/lib/python3.11/site-packages (from anthropic->-r requirements.txt (line 4)) (1.9.0)\n",
      "Requirement already satisfied: httpx<1,>=0.23.0 in /opt/conda/lib/python3.11/site-packages (from anthropic->-r requirements.txt (line 4)) (0.28.1)\n",
      "Requirement already satisfied: jiter<1,>=0.4.0 in /opt/conda/lib/python3.11/site-packages (from anthropic->-r requirements.txt (line 4)) (0.9.0)\n",
      "Requirement already satisfied: pydantic<3,>=1.9.0 in /opt/conda/lib/python3.11/site-packages (from anthropic->-r requirements.txt (line 4)) (2.10.6)\n",
      "Requirement already satisfied: sniffio in /opt/conda/lib/python3.11/site-packages (from anthropic->-r requirements.txt (line 4)) (1.3.1)\n",
      "Requirement already satisfied: typing-extensions<5,>=4.10 in /opt/conda/lib/python3.11/site-packages (from anthropic->-r requirements.txt (line 4)) (4.12.2)\n",
      "Requirement already satisfied: filelock in /opt/conda/lib/python3.11/site-packages (from transformers->-r requirements.txt (line 6)) (3.17.0)\n",
      "Requirement already satisfied: huggingface-hub<1.0,>=0.24.0 in /opt/conda/lib/python3.11/site-packages (from transformers->-r requirements.txt (line 6)) (0.28.0)\n",
      "Requirement already satisfied: packaging>=20.0 in /opt/conda/lib/python3.11/site-packages (from transformers->-r requirements.txt (line 6)) (24.2)\n",
      "Requirement already satisfied: pyyaml>=5.1 in /opt/conda/lib/python3.11/site-packages (from transformers->-r requirements.txt (line 6)) (6.0.2)\n",
      "Requirement already satisfied: regex!=2019.12.17 in /opt/conda/lib/python3.11/site-packages (from transformers->-r requirements.txt (line 6)) (2024.11.6)\n",
      "Requirement already satisfied: requests in /opt/conda/lib/python3.11/site-packages (from transformers->-r requirements.txt (line 6)) (2.32.3)\n",
      "Requirement already satisfied: tokenizers<0.22,>=0.21 in /opt/conda/lib/python3.11/site-packages (from transformers->-r requirements.txt (line 6)) (0.21.0)\n",
      "Requirement already satisfied: safetensors>=0.4.1 in /opt/conda/lib/python3.11/site-packages (from transformers->-r requirements.txt (line 6)) (0.5.2)\n",
      "Requirement already satisfied: tqdm>=4.27 in /opt/conda/lib/python3.11/site-packages (from transformers->-r requirements.txt (line 6)) (4.67.1)\n",
      "Requirement already satisfied: SQLAlchemy<3,>=1.4 in /opt/conda/lib/python3.11/site-packages (from langchain->-r requirements.txt (line 8)) (2.0.38)\n",
      "Requirement already satisfied: aiohttp<4.0.0,>=3.8.3 in /opt/conda/lib/python3.11/site-packages (from langchain->-r requirements.txt (line 8)) (3.9.5)\n",
      "Requirement already satisfied: langchain-core<0.4.0,>=0.3.33 in /opt/conda/lib/python3.11/site-packages (from langchain->-r requirements.txt (line 8)) (0.3.34)\n",
      "Requirement already satisfied: langchain-text-splitters<0.4.0,>=0.3.3 in /opt/conda/lib/python3.11/site-packages (from langchain->-r requirements.txt (line 8)) (0.3.5)\n",
      "Requirement already satisfied: langsmith<0.4,>=0.1.17 in /opt/conda/lib/python3.11/site-packages (from langchain->-r requirements.txt (line 8)) (0.2.11)\n",
      "Requirement already satisfied: tenacity!=8.4.0,<10,>=8.1.0 in /opt/conda/lib/python3.11/site-packages (from langchain->-r requirements.txt (line 8)) (9.0.0)\n",
      "Requirement already satisfied: aiobotocore<3.0.0,>=2.5.4 in /opt/conda/lib/python3.11/site-packages (from s3fs->-r requirements.txt (line 9)) (2.19.0)\n",
      "Requirement already satisfied: fsspec==2024.10.0.* in /opt/conda/lib/python3.11/site-packages (from s3fs->-r requirements.txt (line 9)) (2024.10.0)\n",
      "Requirement already satisfied: aioitertools<1.0.0,>=0.5.1 in /opt/conda/lib/python3.11/site-packages (from aiobotocore<3.0.0,>=2.5.4->s3fs->-r requirements.txt (line 9)) (0.12.0)\n",
      "Requirement already satisfied: multidict<7.0.0,>=6.0.0 in /opt/conda/lib/python3.11/site-packages (from aiobotocore<3.0.0,>=2.5.4->s3fs->-r requirements.txt (line 9)) (6.1.0)\n",
      "Requirement already satisfied: urllib3!=2.2.0,<3,>=1.25.4 in /opt/conda/lib/python3.11/site-packages (from aiobotocore<3.0.0,>=2.5.4->s3fs->-r requirements.txt (line 9)) (1.26.19)\n",
      "Requirement already satisfied: wrapt<2.0.0,>=1.10.10 in /opt/conda/lib/python3.11/site-packages (from aiobotocore<3.0.0,>=2.5.4->s3fs->-r requirements.txt (line 9)) (1.17.2)\n",
      "Requirement already satisfied: aiosignal>=1.1.2 in /opt/conda/lib/python3.11/site-packages (from aiohttp<4.0.0,>=3.8.3->langchain->-r requirements.txt (line 8)) (1.3.2)\n",
      "Requirement already satisfied: attrs>=17.3.0 in /opt/conda/lib/python3.11/site-packages (from aiohttp<4.0.0,>=3.8.3->langchain->-r requirements.txt (line 8)) (23.2.0)\n",
      "Requirement already satisfied: frozenlist>=1.1.1 in /opt/conda/lib/python3.11/site-packages (from aiohttp<4.0.0,>=3.8.3->langchain->-r requirements.txt (line 8)) (1.5.0)\n",
      "Requirement already satisfied: yarl<2.0,>=1.0 in /opt/conda/lib/python3.11/site-packages (from aiohttp<4.0.0,>=3.8.3->langchain->-r requirements.txt (line 8)) (1.18.3)\n",
      "Requirement already satisfied: idna>=2.8 in /opt/conda/lib/python3.11/site-packages (from anyio<5,>=3.5.0->anthropic->-r requirements.txt (line 4)) (3.10)\n",
      "Requirement already satisfied: certifi in /opt/conda/lib/python3.11/site-packages (from httpx<1,>=0.23.0->anthropic->-r requirements.txt (line 4)) (2024.12.14)\n",
      "Requirement already satisfied: httpcore==1.* in /opt/conda/lib/python3.11/site-packages (from httpx<1,>=0.23.0->anthropic->-r requirements.txt (line 4)) (1.0.7)\n",
      "Requirement already satisfied: h11<0.15,>=0.13 in /opt/conda/lib/python3.11/site-packages (from httpcore==1.*->httpx<1,>=0.23.0->anthropic->-r requirements.txt (line 4)) (0.14.0)\n",
      "Requirement already satisfied: jsonpatch<2.0,>=1.33 in /opt/conda/lib/python3.11/site-packages (from langchain-core<0.4.0,>=0.3.33->langchain->-r requirements.txt (line 8)) (1.33)\n",
      "Requirement already satisfied: orjson<4.0.0,>=3.9.14 in /opt/conda/lib/python3.11/site-packages (from langsmith<0.4,>=0.1.17->langchain->-r requirements.txt (line 8)) (3.10.15)\n",
      "Requirement already satisfied: requests-toolbelt<2.0.0,>=1.0.0 in /opt/conda/lib/python3.11/site-packages (from langsmith<0.4,>=0.1.17->langchain->-r requirements.txt (line 8)) (1.0.0)\n",
      "Requirement already satisfied: annotated-types>=0.6.0 in /opt/conda/lib/python3.11/site-packages (from pydantic<3,>=1.9.0->anthropic->-r requirements.txt (line 4)) (0.7.0)\n",
      "Requirement already satisfied: pydantic-core==2.27.2 in /opt/conda/lib/python3.11/site-packages (from pydantic<3,>=1.9.0->anthropic->-r requirements.txt (line 4)) (2.27.2)\n",
      "Requirement already satisfied: six>=1.5 in /opt/conda/lib/python3.11/site-packages (from python-dateutil>=2.8.2->pandas->-r requirements.txt (line 3)) (1.17.0)\n",
      "Requirement already satisfied: charset_normalizer<4,>=2 in /opt/conda/lib/python3.11/site-packages (from requests->transformers->-r requirements.txt (line 6)) (3.4.1)\n",
      "Requirement already satisfied: greenlet!=0.4.17 in /opt/conda/lib/python3.11/site-packages (from SQLAlchemy<3,>=1.4->langchain->-r requirements.txt (line 8)) (3.1.1)\n",
      "Requirement already satisfied: jsonpointer>=1.9 in /opt/conda/lib/python3.11/site-packages (from jsonpatch<2.0,>=1.33->langchain-core<0.4.0,>=0.3.33->langchain->-r requirements.txt (line 8)) (3.0.0)\n",
      "Requirement already satisfied: propcache>=0.2.0 in /opt/conda/lib/python3.11/site-packages (from yarl<2.0,>=1.0->aiohttp<4.0.0,>=3.8.3->langchain->-r requirements.txt (line 8)) (0.2.1)\n",
      "Requirement already satisfied: ipywidgets in /opt/conda/lib/python3.11/site-packages (8.1.5)\n",
      "Requirement already satisfied: comm>=0.1.3 in /opt/conda/lib/python3.11/site-packages (from ipywidgets) (0.2.2)\n",
      "Requirement already satisfied: ipython>=6.1.0 in /opt/conda/lib/python3.11/site-packages (from ipywidgets) (8.31.0)\n",
      "Requirement already satisfied: traitlets>=4.3.1 in /opt/conda/lib/python3.11/site-packages (from ipywidgets) (5.14.3)\n",
      "Requirement already satisfied: widgetsnbextension~=4.0.12 in /opt/conda/lib/python3.11/site-packages (from ipywidgets) (4.0.13)\n",
      "Requirement already satisfied: jupyterlab_widgets~=3.0.12 in /opt/conda/lib/python3.11/site-packages (from ipywidgets) (3.0.13)\n",
      "Requirement already satisfied: decorator in /opt/conda/lib/python3.11/site-packages (from ipython>=6.1.0->ipywidgets) (5.1.1)\n",
      "Requirement already satisfied: jedi>=0.16 in /opt/conda/lib/python3.11/site-packages (from ipython>=6.1.0->ipywidgets) (0.19.2)\n",
      "Requirement already satisfied: matplotlib-inline in /opt/conda/lib/python3.11/site-packages (from ipython>=6.1.0->ipywidgets) (0.1.7)\n",
      "Requirement already satisfied: pexpect>4.3 in /opt/conda/lib/python3.11/site-packages (from ipython>=6.1.0->ipywidgets) (4.9.0)\n",
      "Requirement already satisfied: prompt_toolkit<3.1.0,>=3.0.41 in /opt/conda/lib/python3.11/site-packages (from ipython>=6.1.0->ipywidgets) (3.0.50)\n",
      "Requirement already satisfied: pygments>=2.4.0 in /opt/conda/lib/python3.11/site-packages (from ipython>=6.1.0->ipywidgets) (2.19.1)\n",
      "Requirement already satisfied: stack_data in /opt/conda/lib/python3.11/site-packages (from ipython>=6.1.0->ipywidgets) (0.6.3)\n",
      "Requirement already satisfied: typing_extensions>=4.6 in /opt/conda/lib/python3.11/site-packages (from ipython>=6.1.0->ipywidgets) (4.12.2)\n",
      "Requirement already satisfied: parso<0.9.0,>=0.8.4 in /opt/conda/lib/python3.11/site-packages (from jedi>=0.16->ipython>=6.1.0->ipywidgets) (0.8.4)\n",
      "Requirement already satisfied: ptyprocess>=0.5 in /opt/conda/lib/python3.11/site-packages (from pexpect>4.3->ipython>=6.1.0->ipywidgets) (0.7.0)\n",
      "Requirement already satisfied: wcwidth in /opt/conda/lib/python3.11/site-packages (from prompt_toolkit<3.1.0,>=3.0.41->ipython>=6.1.0->ipywidgets) (0.2.13)\n",
      "Requirement already satisfied: executing>=1.2.0 in /opt/conda/lib/python3.11/site-packages (from stack_data->ipython>=6.1.0->ipywidgets) (2.1.0)\n",
      "Requirement already satisfied: asttokens>=2.1.0 in /opt/conda/lib/python3.11/site-packages (from stack_data->ipython>=6.1.0->ipywidgets) (3.0.0)\n",
      "Requirement already satisfied: pure_eval in /opt/conda/lib/python3.11/site-packages (from stack_data->ipython>=6.1.0->ipywidgets) (0.2.3)\n",
      "Requirement already satisfied: sagemaker in /opt/conda/lib/python3.11/site-packages (2.228.0)\n",
      "Collecting sagemaker\n",
      "  Downloading sagemaker-2.243.0-py3-none-any.whl.metadata (16 kB)\n",
      "Requirement already satisfied: attrs<24,>=23.1.0 in /opt/conda/lib/python3.11/site-packages (from sagemaker) (23.2.0)\n",
      "Requirement already satisfied: boto3<2.0,>=1.35.75 in /opt/conda/lib/python3.11/site-packages (from sagemaker) (1.36.3)\n",
      "Requirement already satisfied: cloudpickle>=2.2.1 in /opt/conda/lib/python3.11/site-packages (from sagemaker) (2.2.1)\n",
      "Requirement already satisfied: docker in /opt/conda/lib/python3.11/site-packages (from sagemaker) (7.1.0)\n",
      "Requirement already satisfied: fastapi in /opt/conda/lib/python3.11/site-packages (from sagemaker) (0.115.8)\n",
      "Requirement already satisfied: google-pasta in /opt/conda/lib/python3.11/site-packages (from sagemaker) (0.2.0)\n",
      "Requirement already satisfied: importlib-metadata<7.0,>=1.4.0 in /opt/conda/lib/python3.11/site-packages (from sagemaker) (6.10.0)\n",
      "Requirement already satisfied: jsonschema in /opt/conda/lib/python3.11/site-packages (from sagemaker) (4.23.0)\n",
      "Requirement already satisfied: numpy<2.0,>=1.9.0 in /opt/conda/lib/python3.11/site-packages (from sagemaker) (1.26.4)\n",
      "Requirement already satisfied: omegaconf<=2.3,>=2.2 in /opt/conda/lib/python3.11/site-packages (from sagemaker) (2.3.0)\n",
      "Requirement already satisfied: packaging>=20.0 in /opt/conda/lib/python3.11/site-packages (from sagemaker) (24.2)\n",
      "Requirement already satisfied: pandas in /opt/conda/lib/python3.11/site-packages (from sagemaker) (2.2.3)\n",
      "Requirement already satisfied: pathos in /opt/conda/lib/python3.11/site-packages (from sagemaker) (0.3.3)\n",
      "Requirement already satisfied: platformdirs in /opt/conda/lib/python3.11/site-packages (from sagemaker) (4.3.6)\n",
      "Requirement already satisfied: protobuf<6.0,>=3.12 in /opt/conda/lib/python3.11/site-packages (from sagemaker) (4.25.3)\n",
      "Requirement already satisfied: psutil in /opt/conda/lib/python3.11/site-packages (from sagemaker) (5.9.8)\n",
      "Requirement already satisfied: pyyaml~=6.0 in /opt/conda/lib/python3.11/site-packages (from sagemaker) (6.0.2)\n",
      "Requirement already satisfied: requests in /opt/conda/lib/python3.11/site-packages (from sagemaker) (2.32.3)\n",
      "Collecting sagemaker-core<2.0.0,>=1.0.17 (from sagemaker)\n",
      "  Downloading sagemaker_core-1.0.27-py3-none-any.whl.metadata (4.9 kB)\n",
      "Requirement already satisfied: schema in /opt/conda/lib/python3.11/site-packages (from sagemaker) (0.7.7)\n",
      "Requirement already satisfied: smdebug-rulesconfig==1.0.1 in /opt/conda/lib/python3.11/site-packages (from sagemaker) (1.0.1)\n",
      "Requirement already satisfied: tblib<4,>=1.7.0 in /opt/conda/lib/python3.11/site-packages (from sagemaker) (2.0.0)\n",
      "Requirement already satisfied: tqdm in /opt/conda/lib/python3.11/site-packages (from sagemaker) (4.67.1)\n",
      "Requirement already satisfied: urllib3<3.0.0,>=1.26.8 in /opt/conda/lib/python3.11/site-packages (from sagemaker) (1.26.19)\n",
      "Requirement already satisfied: uvicorn in /opt/conda/lib/python3.11/site-packages (from sagemaker) (0.34.0)\n",
      "Requirement already satisfied: botocore<1.37.0,>=1.36.3 in /opt/conda/lib/python3.11/site-packages (from boto3<2.0,>=1.35.75->sagemaker) (1.36.3)\n",
      "Requirement already satisfied: jmespath<2.0.0,>=0.7.1 in /opt/conda/lib/python3.11/site-packages (from boto3<2.0,>=1.35.75->sagemaker) (1.0.1)\n",
      "Requirement already satisfied: s3transfer<0.12.0,>=0.11.0 in /opt/conda/lib/python3.11/site-packages (from boto3<2.0,>=1.35.75->sagemaker) (0.11.2)\n",
      "Requirement already satisfied: zipp>=0.5 in /opt/conda/lib/python3.11/site-packages (from importlib-metadata<7.0,>=1.4.0->sagemaker) (3.21.0)\n",
      "Requirement already satisfied: antlr4-python3-runtime==4.9.* in /opt/conda/lib/python3.11/site-packages (from omegaconf<=2.3,>=2.2->sagemaker) (4.9.3)\n",
      "Requirement already satisfied: pydantic<3.0.0,>=2.0.0 in /opt/conda/lib/python3.11/site-packages (from sagemaker-core<2.0.0,>=1.0.17->sagemaker) (2.10.6)\n",
      "Requirement already satisfied: rich<14.0.0,>=13.0.0 in /opt/conda/lib/python3.11/site-packages (from sagemaker-core<2.0.0,>=1.0.17->sagemaker) (13.9.4)\n",
      "Collecting mock<5.0,>4.0 (from sagemaker-core<2.0.0,>=1.0.17->sagemaker)\n",
      "  Using cached mock-4.0.3-py3-none-any.whl.metadata (2.8 kB)\n",
      "Requirement already satisfied: jsonschema-specifications>=2023.03.6 in /opt/conda/lib/python3.11/site-packages (from jsonschema->sagemaker) (2024.10.1)\n",
      "Requirement already satisfied: referencing>=0.28.4 in /opt/conda/lib/python3.11/site-packages (from jsonschema->sagemaker) (0.36.2)\n",
      "Requirement already satisfied: rpds-py>=0.7.1 in /opt/conda/lib/python3.11/site-packages (from jsonschema->sagemaker) (0.22.3)\n",
      "Requirement already satisfied: charset_normalizer<4,>=2 in /opt/conda/lib/python3.11/site-packages (from requests->sagemaker) (3.4.1)\n",
      "Requirement already satisfied: idna<4,>=2.5 in /opt/conda/lib/python3.11/site-packages (from requests->sagemaker) (3.10)\n",
      "Requirement already satisfied: certifi>=2017.4.17 in /opt/conda/lib/python3.11/site-packages (from requests->sagemaker) (2024.12.14)\n",
      "Requirement already satisfied: starlette<0.46.0,>=0.40.0 in /opt/conda/lib/python3.11/site-packages (from fastapi->sagemaker) (0.45.3)\n",
      "Requirement already satisfied: typing-extensions>=4.8.0 in /opt/conda/lib/python3.11/site-packages (from fastapi->sagemaker) (4.12.2)\n",
      "Requirement already satisfied: six in /opt/conda/lib/python3.11/site-packages (from google-pasta->sagemaker) (1.17.0)\n",
      "Requirement already satisfied: python-dateutil>=2.8.2 in /opt/conda/lib/python3.11/site-packages (from pandas->sagemaker) (2.9.0.post0)\n",
      "Requirement already satisfied: pytz>=2020.1 in /opt/conda/lib/python3.11/site-packages (from pandas->sagemaker) (2024.1)\n",
      "Requirement already satisfied: tzdata>=2022.7 in /opt/conda/lib/python3.11/site-packages (from pandas->sagemaker) (2025.1)\n",
      "Requirement already satisfied: ppft>=1.7.6.9 in /opt/conda/lib/python3.11/site-packages (from pathos->sagemaker) (1.7.6.9)\n",
      "Requirement already satisfied: dill>=0.3.9 in /opt/conda/lib/python3.11/site-packages (from pathos->sagemaker) (0.3.9)\n",
      "Requirement already satisfied: pox>=0.3.5 in /opt/conda/lib/python3.11/site-packages (from pathos->sagemaker) (0.3.5)\n",
      "Requirement already satisfied: multiprocess>=0.70.17 in /opt/conda/lib/python3.11/site-packages (from pathos->sagemaker) (0.70.17)\n",
      "Requirement already satisfied: click>=7.0 in /opt/conda/lib/python3.11/site-packages (from uvicorn->sagemaker) (8.1.8)\n",
      "Requirement already satisfied: h11>=0.8 in /opt/conda/lib/python3.11/site-packages (from uvicorn->sagemaker) (0.14.0)\n",
      "Requirement already satisfied: annotated-types>=0.6.0 in /opt/conda/lib/python3.11/site-packages (from pydantic<3.0.0,>=2.0.0->sagemaker-core<2.0.0,>=1.0.17->sagemaker) (0.7.0)\n",
      "Requirement already satisfied: pydantic-core==2.27.2 in /opt/conda/lib/python3.11/site-packages (from pydantic<3.0.0,>=2.0.0->sagemaker-core<2.0.0,>=1.0.17->sagemaker) (2.27.2)\n",
      "Requirement already satisfied: markdown-it-py>=2.2.0 in /opt/conda/lib/python3.11/site-packages (from rich<14.0.0,>=13.0.0->sagemaker-core<2.0.0,>=1.0.17->sagemaker) (3.0.0)\n",
      "Requirement already satisfied: pygments<3.0.0,>=2.13.0 in /opt/conda/lib/python3.11/site-packages (from rich<14.0.0,>=13.0.0->sagemaker-core<2.0.0,>=1.0.17->sagemaker) (2.19.1)\n",
      "Requirement already satisfied: anyio<5,>=3.6.2 in /opt/conda/lib/python3.11/site-packages (from starlette<0.46.0,>=0.40.0->fastapi->sagemaker) (4.8.0)\n",
      "Requirement already satisfied: sniffio>=1.1 in /opt/conda/lib/python3.11/site-packages (from anyio<5,>=3.6.2->starlette<0.46.0,>=0.40.0->fastapi->sagemaker) (1.3.1)\n",
      "Requirement already satisfied: mdurl~=0.1 in /opt/conda/lib/python3.11/site-packages (from markdown-it-py>=2.2.0->rich<14.0.0,>=13.0.0->sagemaker-core<2.0.0,>=1.0.17->sagemaker) (0.1.2)\n",
      "Downloading sagemaker-2.243.0-py3-none-any.whl (1.6 MB)\n",
      "\u001b[2K   \u001b[90m━━━━━━━━━━━━━━━━━━━━━━━━━━━━━━━━━━━━━━━━\u001b[0m \u001b[32m1.6/1.6 MB\u001b[0m \u001b[31m46.0 MB/s\u001b[0m eta \u001b[36m0:00:00\u001b[0m\n",
      "\u001b[?25hDownloading sagemaker_core-1.0.27-py3-none-any.whl (407 kB)\n",
      "Using cached mock-4.0.3-py3-none-any.whl (28 kB)\n",
      "Installing collected packages: mock, sagemaker-core, sagemaker\n",
      "  Attempting uninstall: sagemaker\n",
      "    Found existing installation: sagemaker 2.228.0\n",
      "    Uninstalling sagemaker-2.228.0:\n",
      "      Successfully uninstalled sagemaker-2.228.0\n",
      "Successfully installed mock-4.0.3 sagemaker-2.243.0 sagemaker-core-1.0.27\n"
     ]
    }
   ],
   "source": [
    "!pip install -r requirements.txt\n",
    "!pip install ipywidgets\n",
    "!pip install sagemaker -U"
   ]
  },
  {
   "cell_type": "code",
   "execution_count": 38,
   "id": "76c3aefd-00b6-47c5-996a-99f44006b85d",
   "metadata": {
    "tags": []
   },
   "outputs": [],
   "source": [
    "import re\n",
    "import pandas as pd\n",
    "from io import StringIO\n",
    "import json\n",
    "import time\n",
    "import boto3\n",
    "# import sentencepiece\n",
    "import pandas as pd\n",
    "from anthropic import Anthropic\n",
    "CLAUDE = Anthropic()\n",
    "import multiprocessing\n",
    "import subprocess\n",
    "import shutil\n",
    "import os\n",
    "import codecs\n",
    "import uuid\n",
    "from transformers import LlamaTokenizer\n",
    "import tiktoken\n",
    "from transformers import AutoTokenizer\n",
    "REDSHIFT=boto3.client('redshift-data')\n",
    "S3=boto3.client('s3')\n",
    "from botocore.config import Config\n",
    "import ipywidgets as widgets\n",
    "from IPython.display import display\n",
    "\n",
    "config = Config(\n",
    "    read_timeout=360,\n",
    "    retries = dict(\n",
    "        max_attempts = 10\n",
    "    )\n",
    ")\n",
    "BEDROCK=boto3.client(service_name='bedrock-runtime',region_name='us-east-1',config=config)\n",
    "MIXTRAL_ENDPOINT=\"mistral-endpoint\""
   ]
  },
  {
   "cell_type": "markdown",
   "id": "3db7b0a8-f945-44eb-b85d-2364aedf9050",
   "metadata": {},
   "source": [
    "### Deploy Mixtral Small to SageMaker Endpoint"
   ]
  },
  {
   "cell_type": "code",
   "execution_count": 40,
   "id": "c6570d1a-7948-420f-a3f6-78058efcb496",
   "metadata": {
    "tags": []
   },
   "outputs": [
    {
     "name": "stderr",
     "output_type": "stream",
     "text": [
      "No instance type selected for inference hosting endpoint. Defaulting to ml.g6.12xlarge.\n"
     ]
    },
    {
     "data": {
      "text/html": [
       "<pre style=\"white-space:pre;overflow-x:auto;line-height:normal;font-family:Menlo,'DejaVu Sans Mono',consolas,'Courier New',monospace\"><span style=\"color: #7fbfbf; text-decoration-color: #7fbfbf\">[03/28/25 16:32:22] </span><span style=\"color: #0069ff; text-decoration-color: #0069ff; font-weight: bold\">INFO    </span> No instance type selected for inference hosting endpoint. Defaulting to   <a href=\"file:///opt/conda/lib/python3.11/site-packages/sagemaker/jumpstart/factory/model.py\" target=\"_blank\"><span style=\"color: #7f7f7f; text-decoration-color: #7f7f7f\">model.py</span></a><span style=\"color: #7f7f7f; text-decoration-color: #7f7f7f\">:</span><a href=\"file:///opt/conda/lib/python3.11/site-packages/sagemaker/jumpstart/factory/model.py#238\" target=\"_blank\"><span style=\"color: #7f7f7f; text-decoration-color: #7f7f7f\">238</span></a>\n",
       "<span style=\"color: #7fbfbf; text-decoration-color: #7fbfbf\">                    </span>         ml.g6.12xlarge.                                                           <span style=\"color: #7f7f7f; text-decoration-color: #7f7f7f\">            </span>\n",
       "</pre>\n"
      ],
      "text/plain": [
       "\u001b[2;36m[03/28/25 16:32:22]\u001b[0m\u001b[2;36m \u001b[0m\u001b[1;38;2;0;105;255mINFO    \u001b[0m No instance type selected for inference hosting endpoint. Defaulting to   \u001b]8;id=336744;file:///opt/conda/lib/python3.11/site-packages/sagemaker/jumpstart/factory/model.py\u001b\\\u001b[2mmodel.py\u001b[0m\u001b]8;;\u001b\\\u001b[2m:\u001b[0m\u001b]8;id=511852;file:///opt/conda/lib/python3.11/site-packages/sagemaker/jumpstart/factory/model.py#238\u001b\\\u001b[2m238\u001b[0m\u001b]8;;\u001b\\\n",
       "\u001b[2;36m                    \u001b[0m         ml.g6.12xlarge.                                                           \u001b[2m            \u001b[0m\n"
      ]
     },
     "metadata": {},
     "output_type": "display_data"
    }
   ],
   "source": [
    "# Note this requires an ml.g5.48xlarge instance.\n",
    "model_id = \"huggingface-llm-mistral-small-24B-Instruct-2501\"\n",
    "from sagemaker.jumpstart.model import JumpStartModel\n",
    "model = JumpStartModel(model_id=model_id)\n",
    "predictor = model.deploy(endpoint_name=MIXTRAL_ENDPOINT)\n",
    "import sagemaker\n",
    "session = sagemaker.Session()"
   ]
  },
  {
   "cell_type": "markdown",
   "id": "c61e948f-67b0-4c72-ad33-930071495bed",
   "metadata": {},
   "source": [
    "## REDSHIFT"
   ]
  },
  {
   "cell_type": "markdown",
   "id": "e85ecd78-4240-4339-8a7b-3e77bd8d0824",
   "metadata": {},
   "source": [
    "#### Change parameters below to those of your redshift provisioned cluster"
   ]
  },
  {
   "cell_type": "code",
   "execution_count": 41,
   "id": "3a7227db-c014-4272-a1b7-57babd5232b4",
   "metadata": {
    "tags": []
   },
   "outputs": [],
   "source": [
    "redshift_client = boto3.client('redshift-data')\n",
    "CLUSTER_IDENTIFIER = 'redshift-cluster-1'\n",
    "DATABASE = 'dev'\n",
    "DB_USER = 'awsuser' "
   ]
  },
  {
   "cell_type": "code",
   "execution_count": 42,
   "id": "bdaacf97-6998-487f-8157-cb27d9a278bd",
   "metadata": {
    "tags": []
   },
   "outputs": [],
   "source": [
    "redshift_client = boto3.client('redshift-data')\n",
    "CLUSTER_IDENTIFIER = 'redshift-cluster-1'\n",
    "DATABASE = 'dev'\n",
    "DB_USER = 'awsuser' "
   ]
  },
  {
   "cell_type": "code",
   "execution_count": 43,
   "id": "a39647d0-ec63-43d6-9043-d34cc8e84141",
   "metadata": {
    "tags": []
   },
   "outputs": [],
   "source": [
    "def token_counter(path):\n",
    "    tokenizer = LlamaTokenizer.from_pretrained(path)\n",
    "    return tokenizer\n",
    "def mixtral_counter(path):\n",
    "    tokenizer = AutoTokenizer.from_pretrained(path)\n",
    "    return tokenizer"
   ]
  },
  {
   "cell_type": "code",
   "execution_count": 44,
   "id": "886fd56d-0cf4-406a-af64-5dd30e691563",
   "metadata": {},
   "outputs": [],
   "source": [
    "def count_tokens(text, endpoint_name):\n",
    "    client = boto3.client('sagemaker-runtime')\n",
    "    \n",
    "    # Prepare the input\n",
    "    payload = {\n",
    "        \"inputs\": text,\n",
    "        \"parameters\": {\"return_token_count\": True}\n",
    "    }\n",
    "    \n",
    "    # Call the endpoint\n",
    "    response = client.invoke_endpoint(\n",
    "        EndpointName=endpoint_name,\n",
    "        ContentType='application/json',\n",
    "        Body=json.dumps(payload)\n",
    "    )\n",
    "    \n",
    "    # Parse the response\n",
    "    response_body = json.loads(response['Body'].read().decode())\n",
    "    return response_body.get('token_count', 0)"
   ]
  },
  {
   "cell_type": "code",
   "execution_count": 45,
   "id": "fb0a14f7-8879-4802-b41e-b6f18e5599f5",
   "metadata": {},
   "outputs": [],
   "source": [
    "def query_llm(prompt, max_new_tokens):\n",
    "    payload = {\n",
    "        \"inputs\": prompt,\n",
    "        \"parameters\": {\"max_new_tokens\": max_new_tokens}\n",
    "    }\n",
    "    llama = boto3.client(\"sagemaker-runtime\")\n",
    "    output = llama.invoke_endpoint(Body=json.dumps(payload), EndpointName=MIXTRAL_ENDPOINT)\n",
    "    \n",
    "    # Read and parse response\n",
    "    response_body = output['Body'].read().decode()\n",
    "    print(\"Raw response from LLM:\", response_body)  # Debug print\n",
    "    \n",
    "    try:\n",
    "        response_json = json.loads(response_body)\n",
    "        if isinstance(response_json, list):\n",
    "            generated_text = response_json[0]['generated_text']\n",
    "        else:\n",
    "            generated_text = response_json['generated_text']\n",
    "        \n",
    "        print(\"Processed response:\", generated_text)  # Debug print\n",
    "        return generated_text\n",
    "    except Exception as e:\n",
    "        print(f\"Error processing LLM response: {str(e)}\")\n",
    "        print(f\"Raw response was: {response_body}\")\n",
    "        return None"
   ]
  },
  {
   "cell_type": "code",
   "execution_count": 46,
   "id": "881dc02f-58ca-41af-b7b3-5657f9c040cb",
   "metadata": {},
   "outputs": [],
   "source": [
    "def qna_llm(prompt, params):\n",
    "    payload = {\n",
    "        \"inputs\": prompt,\n",
    "        \"parameters\": {\n",
    "            \"max_new_tokens\": 200,\n",
    "            \"temperature\": 0.1\n",
    "        }\n",
    "    }\n",
    "    llama = boto3.client(\"sagemaker-runtime\")\n",
    "    output = llama.invoke_endpoint(Body=json.dumps(payload), EndpointName=MIXTRAL_ENDPOINT)\n",
    "    \n",
    "    # Parse response and handle different possible formats\n",
    "    response_body = json.loads(output['Body'].read().decode())\n",
    "    \n",
    "    # Debug print to see the actual response structure\n",
    "    print(\"Response structure:\", response_body)\n",
    "    \n",
    "    # Handle different response formats\n",
    "    if isinstance(response_body, list):\n",
    "        answer = response_body[0]['generated_text']\n",
    "    elif isinstance(response_body, dict):\n",
    "        answer = response_body.get('generated_text')\n",
    "    else:\n",
    "        raise ValueError(f\"Unexpected response format: {response_body}\")\n",
    "    \n",
    "    return answer"
   ]
  },
  {
   "cell_type": "code",
   "execution_count": 47,
   "id": "dec641b4-70a4-45d3-86cb-bd876d15e354",
   "metadata": {
    "tags": []
   },
   "outputs": [],
   "source": [
    "def chunk_csv_rows(csv_rows, max_token_per_chunk):\n",
    "    \"\"\"\n",
    "    Chunk CSV rows based on the maximum token count per chunk.\n",
    "    Args:\n",
    "        csv_rows (list): List of CSV rows.\n",
    "        max_token_per_chunk (int, optional): Maximum token count per chunk.\n",
    "    Returns:\n",
    "        list: List of chunks containing CSV rows.\n",
    "    Raises:\n",
    "        ValueError: If a single CSV row exceeds the specified max_token_per_chunk.\n",
    "    \"\"\"\n",
    "    header = csv_rows[0]  # Assuming the first row is the header\n",
    "    csv_rows = csv_rows[1:]  # Remove the header from the list\n",
    "    current_chunk = []\n",
    "    current_token_count = 0\n",
    "    chunks = []\n",
    "    header_token=len(mixtral_counter(\"mistralai/Mistral-Small-24B-Instruct-2501\").encode(header))\n",
    "    for row in csv_rows:\n",
    "        token = len(mixtral_counter(\"mistralai/Mistral-Small-24B-Instruct-2501\").encode(row))\n",
    "        if current_token_count + token+header_token <= max_token_per_chunk:\n",
    "            current_chunk.append(row)\n",
    "            current_token_count += token\n",
    "        else:\n",
    "            if not current_chunk:\n",
    "                raise ValueError(\"A single CSV row exceeds the specified max_token_per_chunk.\")\n",
    "            header_and_chunk=[header]+current_chunk\n",
    "            chunks.append(\"\\n\".join([x for x in header_and_chunk]))\n",
    "            current_chunk = [row]\n",
    "            current_token_count = token\n",
    "\n",
    "    if current_chunk:\n",
    "        last_chunk_and_header=[header]+current_chunk\n",
    "        chunks.append(\"\\n\".join([x for x in last_chunk_and_header]))\n",
    "    return chunks"
   ]
  },
  {
   "cell_type": "code",
   "execution_count": 48,
   "id": "248fc3be-eede-4b2c-a926-8d5c7a04f30e",
   "metadata": {
    "tags": []
   },
   "outputs": [],
   "source": [
    "def get_tables_redshift(cluster_identifier, database, db_user, schema):\n",
    "    \"\"\"\n",
    "    Get a list of table names in a specified schema from an Amazon Redshift cluster.\n",
    "    Args:\n",
    "        cluster_identifier (str): The identifier of the Redshift cluster.\n",
    "        database (str): The name of the database containing the tables.\n",
    "        db_user (str): The username used to authenticate with the Redshift cluster.\n",
    "        schema (str): The schema pattern to filter tables.\n",
    "    Returns:\n",
    "        list: A list of table names in the specified schema.\n",
    "    \"\"\"\n",
    "    tables_ls = REDSHIFT.list_tables(\n",
    "    ClusterIdentifier=cluster_identifier,\n",
    "    Database=database,\n",
    "    DbUser=db_user,\n",
    "    SchemaPattern=schema\n",
    "    )\n",
    "    return [x['name'] for x in  tables_ls['Tables']]"
   ]
  },
  {
   "cell_type": "code",
   "execution_count": 49,
   "id": "47e81566-6e5e-4771-9fdd-65343c388f49",
   "metadata": {
    "tags": []
   },
   "outputs": [],
   "source": [
    "def get_db_redshift(cluster_identifier, database, db_user):\n",
    "    \"\"\"\n",
    "    Get a list of databases from an Amazon Redshift cluster.\n",
    "    Args:\n",
    "        cluster_identifier (str): The identifier of the Redshift cluster.\n",
    "        database (str): The name of the database containing the tables.\n",
    "        db_user (str): The username used to authenticate with the Redshift cluster.\n",
    "    Returns:\n",
    "        list: A list of databases in the Redshift cluster.\n",
    "    \"\"\"\n",
    "    db_ls = REDSHIFT.list_databases(\n",
    "    ClusterIdentifier=cluster_identifier,\n",
    "    Database=database,\n",
    "    DbUser=db_user\n",
    "    )\n",
    "    return db_ls['Databases']"
   ]
  },
  {
   "cell_type": "code",
   "execution_count": 50,
   "id": "34cf5577-7130-4302-a03f-4f5a60db0a9a",
   "metadata": {
    "tags": []
   },
   "outputs": [],
   "source": [
    "def get_schema_redshift(cluster_identifier, database, db_user):\n",
    "    \"\"\"\n",
    "    Get a list of schemas from an Amazon Redshift cluster.\n",
    "    Args:\n",
    "        cluster_identifier (str): The identifier of the Redshift cluster.\n",
    "        database (str): The name of the database containing the schemas.\n",
    "        db_user (str): The username used to authenticate with the Redshift cluster.\n",
    "    Returns:\n",
    "        list: A list of schemas in the Redshift cluster.\n",
    "    \"\"\"\n",
    "    schema_ls = REDSHIFT.list_schemas(\n",
    "    ClusterIdentifier=cluster_identifier,\n",
    "    Database=database,\n",
    "    DbUser=db_user\n",
    "    )\n",
    "    return schema_ls['Schemas']"
   ]
  },
  {
   "cell_type": "code",
   "execution_count": 51,
   "id": "67b92d3e-0803-4581-80c5-adcfbee717f7",
   "metadata": {
    "tags": []
   },
   "outputs": [],
   "source": [
    "def execute_query_with_pagination( sql_query, cluster_identifier, database, db_user):\n",
    "    \"\"\"\n",
    "    Execute multiple SQL queries in Amazon Redshift with pagination support.\n",
    "    Args:\n",
    "        sql_query1 (str): The first SQL query to execute.\n",
    "        sql_query2 (str): The second SQL query to execute.\n",
    "        cluster_identifier (str): The identifier of the Redshift cluster.\n",
    "        database (str): The name of the database.\n",
    "        db_user (str): The username used to authenticate with the Redshift cluster.\n",
    "    Returns:\n",
    "        list: A list of results from executing the SQL queries.\n",
    "    \"\"\"\n",
    "    results_list=[]\n",
    "    response_b = REDSHIFT.batch_execute_statement(\n",
    "        ClusterIdentifier=cluster_identifier,\n",
    "        Database=database,\n",
    "        DbUser=db_user,\n",
    "        Sqls=sql_query\n",
    "    )   \n",
    "    describe_b=REDSHIFT.describe_statement(\n",
    "         Id=response_b['Id'],\n",
    "    )       \n",
    "    status=describe_b['Status']\n",
    "    while status != \"FINISHED\":\n",
    "        time.sleep(1)\n",
    "        describe_b=REDSHIFT.describe_statement(\n",
    "                         Id=response_b['Id'],\n",
    "                    ) \n",
    "        status=describe_b['Status']\n",
    "    max_attempts = 5 \n",
    "    attempts = 0\n",
    "    while attempts < max_attempts:\n",
    "        try:\n",
    "            for ids in describe_b['SubStatements']:\n",
    "                result_b = REDSHIFT.get_statement_result(Id=ids['Id'])                \n",
    "                results_list.append(get_redshift_table_result(result_b))\n",
    "            break\n",
    "        except REDSHIFT.exceptions.ResourceNotFoundException as e:\n",
    "            attempts += 1\n",
    "            time.sleep(2)\n",
    "    return results_list"
   ]
  },
  {
   "cell_type": "code",
   "execution_count": 52,
   "id": "bb1c043c-60d0-4d34-8fdd-886d6120c40f",
   "metadata": {
    "tags": []
   },
   "outputs": [],
   "source": [
    "def get_redshift_table_result(response):\n",
    "    \"\"\"\n",
    "    Extracts result data from a Redshift query response and returns it as a CSV string.\n",
    "    Args:\n",
    "        response (dict): The response object from a Redshift query.\n",
    "    Returns:\n",
    "        str: A CSV string containing the result data.\n",
    "    \"\"\"\n",
    "    columns = [c['name'] for c in response['ColumnMetadata']] \n",
    "    data = []\n",
    "    for r in response['Records']:\n",
    "        row = []\n",
    "        for col in r:\n",
    "            row.append(list(col.values())[0])  \n",
    "        data.append(row)\n",
    "    df = pd.DataFrame(data, columns=columns)    \n",
    "    return df.to_csv(index=False)"
   ]
  },
  {
   "cell_type": "code",
   "execution_count": 53,
   "id": "8c24a0b9-ed77-4222-bc87-af828502e2ed",
   "metadata": {
    "tags": []
   },
   "outputs": [],
   "source": [
    "def execute_query_redshift(sql_query, cluster_identifier, database, db_user):\n",
    "    \"\"\"\n",
    "    Execute a SQL query on an Amazon Redshift cluster.\n",
    "    Args:\n",
    "        sql_query (str): The SQL query to execute.\n",
    "        cluster_identifier (str): The identifier of the Redshift cluster.\n",
    "        database (str): The name of the database.\n",
    "        db_user (str): The username used to authenticate with the Redshift cluster.\n",
    "    Returns:\n",
    "        dict: The response object from executing the SQL query.\n",
    "    \"\"\"\n",
    "    response = REDSHIFT.execute_statement(\n",
    "        ClusterIdentifier=cluster_identifier,\n",
    "        Database=database,\n",
    "        DbUser=db_user,\n",
    "        Sql=sql_query\n",
    "    )\n",
    "    return response"
   ]
  },
  {
   "cell_type": "code",
   "execution_count": 54,
   "id": "1a7c4ef0-9166-4faf-a820-0c03d8974e87",
   "metadata": {
    "tags": []
   },
   "outputs": [],
   "source": [
    "def single_execute_query(sql_query, cluster_identifier, database, db_user,question):\n",
    "    \"\"\"\n",
    "    Execute a single SQL query on an Amazon Redshift cluster and process the result.\n",
    "\n",
    "    Args:\n",
    "        sql_query (str): The SQL query to execute.\n",
    "        cluster_identifier (str): The identifier of the Redshift cluster.\n",
    "        database (str): The name of the database.\n",
    "        db_user (str): The username used to authenticate with the Redshift cluster.\n",
    "        question (str): A descriptive label or question associated with the query.\n",
    "\n",
    "    Returns:\n",
    "        pandas.DataFrame: DataFrame containing the processed result of the SQL query.\n",
    "\n",
    "    \"\"\"\n",
    "    result_sets = []\n",
    "    response = execute_query_redshift(sql_query, cluster_identifier, database, db_user)\n",
    "    df=redshift_querys(sql_query,response,question,params,cluster_identifier, database, db_user,question)    \n",
    "    return df"
   ]
  },
  {
   "cell_type": "code",
   "execution_count": 55,
   "id": "30c4b2f5-65e8-4c9c-b0bc-f19406d7838c",
   "metadata": {
    "tags": []
   },
   "outputs": [],
   "source": [
    "def llm_debugger(question, statement, error, params): \n",
    "    \"\"\"\n",
    "    Generate debugging guidance and expected SQL correction for a PostgreSQL error.\n",
    "    Args:\n",
    "        question (str): The user's question or intent.\n",
    "        statement (str): The SQL statement that caused the error.\n",
    "        error (str): The error message encountered.\n",
    "        params (dict): Additional parameters including schema, sample data, and length.\n",
    "    Returns:\n",
    "        str: Formatted debugging guidance and expected SQL correction.\n",
    "    \"\"\"\n",
    "    prompts=f'''<s><<SYS>>[INST]\n",
    "You are a PostgreSQL developer who is an expert at debugging errors.  \n",
    "\n",
    "Here are the schema definition of table(s):\n",
    "{params['schema']}\n",
    "#############################\n",
    "Here are example records for each table:\n",
    "{params['sample']}\n",
    "#############################\n",
    "Here is the sql statement that threw the error below:\n",
    "{statement}\n",
    "#############################\n",
    "Here is the error to debug:\n",
    "{error}\n",
    "#############################\n",
    "Here is the intent of the user:\n",
    "{params['prompt']}\n",
    "<</SYS>>\n",
    "First understand the error and think about how you can fix the error.\n",
    "Use the provided schema and sample row to guide your thought process for a solution.\n",
    "Do all this thinking inside <thinking></thinking> XML tags.This is a space for you to write down relevant content and will not be shown to the user.\n",
    "\n",
    "Once your are done debugging, provide the the correct SQL statement without any additional text.\n",
    "When generating the correct SQL statement:\n",
    "1. Pay attention to the schema and table name and use them correctly in your generated sql. \n",
    "2. Never query for all columns from a table unless the question says so. You must query only the columns that are needed to answer the question.\n",
    "3. Wrap each column name in double quotes (\") to denote them as delimited identifiers. Do not use backslash (\\) to escape underscores (_) in column names. \n",
    "\n",
    "Format your response as:\n",
    "<sql> Correct SQL Statement </sql>[/INST]'''\n",
    "\n",
    "    \n",
    "#     prompts=f'''<s> [INST] You are a PostgreSQL developer who is an expert at debugging errors.\n",
    "# Here are the schema definition of table(s):\n",
    "# {params['schema']}\n",
    "# #############################\n",
    "# Here are example records for each table:\n",
    "# {params['sample']}\n",
    "# #############################\n",
    "# Here is the sql statement that threw the error below:\n",
    "# {statement}\n",
    "# #############################\n",
    "# Here is the error to debug:\n",
    "# {error}\n",
    "# #############################\n",
    "# Here is the intent of the user:\n",
    "# {params['prompt']} \n",
    "# First understand the error and think about how you can fix the error.\n",
    "# Use the provided schema and sample row to guide your thought process for a solution.\n",
    "# Do all this thinking inside <thinking></thinking> XML tags.This is a space for you to write down relevant content and will not be shown to the user.\n",
    "# Once your are done debugging, provide the the correct SQL statement without any additional text.\n",
    "# When generating the correct SQL statement:\n",
    "# 1. Pay attention to the database schema and table name and use them correctly in your response. \n",
    "# 2. Never query for all columns from a table unless the question says so. You must query only the columns that are needed to answer the question.\n",
    "# 3. Wrap all column name(s) in double quotes (\") to denote them as delimited identifiers.  \n",
    "# 4. DO NOT escape underscores (_) in column name(s). Just wrap them in double quotes (\").\n",
    "# 5. SQL engine is Amazon Redshift database.\n",
    "\n",
    "# Format your response as:\n",
    "# <sql> Correct SQL Statement </sql> [/INST] '''\n",
    "    answer=query_llm(prompts,round(params['sql-len']))\n",
    "    answer = answer.replace(\"\\\\\",\"\")\n",
    "    return answer"
   ]
  },
  {
   "cell_type": "code",
   "execution_count": 56,
   "id": "aae1ae4a-1171-48c4-9799-c0d57566015b",
   "metadata": {
    "tags": []
   },
   "outputs": [],
   "source": [
    "def redshift_querys(q_s,response,prompt,params,cluster_identifier, database, db_user,question): \n",
    "    \"\"\"\n",
    "    Execute a Redshift query, handle errors, debug SQL, and return the result.\n",
    "\n",
    "    Args:\n",
    "        q_s (str): The SQL statement to execute or debug.\n",
    "        response (dict): The response object from executing the SQL statement.\n",
    "        prompt (str): The user's question or intent.\n",
    "        params (dict): Additional parameters including schema, sample data, and length.\n",
    "        cluster_identifier (str): The identifier of the Redshift cluster.\n",
    "        database (str): The name of the database.\n",
    "        db_user (str): The username used to authenticate with the Redshift cluster.\n",
    "        question (str): A descriptive label or question associated with the query.\n",
    "\n",
    "    Returns:\n",
    "        pandas.DataFrame or str: DataFrame containing the query result, or debugging failure message with no result.\n",
    "\n",
    "    \"\"\"\n",
    "    max_execution=5\n",
    "    attempt_number=0\n",
    "    debug_count=max_execution\n",
    "    try:\n",
    "        statement_result = REDSHIFT.get_statement_result(\n",
    "            Id=response['Id'],\n",
    "\n",
    "        )\n",
    "    except REDSHIFT.exceptions.ResourceNotFoundException as err:  \n",
    "        # print(err)\n",
    "        describe_statement=REDSHIFT.describe_statement(\n",
    "             Id=response['Id'],\n",
    "        )\n",
    "        query_state=describe_statement['Status']  \n",
    "        while query_state in ['SUBMITTED','PICKED','STARTED']:\n",
    "            # print(query_state)\n",
    "            time.sleep(1)\n",
    "            describe_statement=REDSHIFT.describe_statement(\n",
    "                 Id=response['Id'],\n",
    "            )\n",
    "            query_state=describe_statement['Status']\n",
    "        while (max_execution > 0 and query_state == \"FAILED\"):\n",
    "            max_execution = max_execution - 1\n",
    "            attempt_number = 5 - max_execution\n",
    "            print(\"- - - - - - - - - - - - - -\\n\")\n",
    "            print(f\"\\nDEBUG TRIAL {attempt_number}\")\n",
    "            bad_sql=describe_statement['QueryString']\n",
    "            print(f\"\\nBAD SQL:\\n{bad_sql}\")                \n",
    "            error=describe_statement['Error']\n",
    "            print(f\"ERROR:{error}\")\n",
    "            print(\"\\nDEBUGGING...\")\n",
    "            cql=llm_debugger(prompt, bad_sql, error, params)            \n",
    "            idx1 = cql.index('<sql>')\n",
    "            idx2 = cql.index('</sql>')\n",
    "            q_s=cql[idx1 + len('<sql>') + 1: idx2]\n",
    "            print(f\"\\nDEBUGGED SQL {q_s}\")\n",
    "            response = execute_query_redshift(q_s, cluster_identifier, database, db_user)\n",
    "            describe_statement=REDSHIFT.describe_statement(\n",
    "                                 Id=response['Id'],\n",
    "                            )\n",
    "            query_state=describe_statement['Status']\n",
    "            # print(f\"\\n{query_state}\")\n",
    "            while query_state in ['SUBMITTED','PICKED','STARTED']:\n",
    "                time.sleep(2)\n",
    "                # print(f\"\\n{query_state}\")\n",
    "                describe_statement=REDSHIFT.describe_statement(\n",
    "                                 Id=response['Id'],\n",
    "                            )\n",
    "                query_state=describe_statement['Status']\n",
    "            if query_state == \"FINISHED\":                \n",
    "                break \n",
    "        \n",
    "        if max_execution == 0 and query_state == \"FAILED\":\n",
    "            print(f\"DEBUGGING FAILED IN {str(debug_count)} ATTEMPTS\")\n",
    "        else:           \n",
    "            max_attempts = 5\n",
    "            attempts = 0\n",
    "            while attempts < max_attempts:\n",
    "                try:\n",
    "                    time.sleep(1)\n",
    "                    # print(response['Id'])\n",
    "                    statement_result = REDSHIFT.get_statement_result(\n",
    "                        Id=response['Id']\n",
    "                    )\n",
    "                    break\n",
    "\n",
    "                except REDSHIFT.exceptions.ResourceNotFoundException as e:\n",
    "                    attempts += 1\n",
    "                    time.sleep(5)\n",
    "    if max_execution == 0 and query_state == \"FAILED\":\n",
    "        df=f\"DEBUGGING FAILED IN {str(debug_count)} ATTEMPTS. NO RESULT AVAILABLE\"\n",
    "    else:\n",
    "        df=get_redshift_table_result(statement_result)\n",
    "    return df, q_s"
   ]
  },
  {
   "cell_type": "code",
   "execution_count": 57,
   "id": "3cab616f-b529-4646-961f-0bb1e420e018",
   "metadata": {
    "tags": []
   },
   "outputs": [],
   "source": [
    "def redshift_qna(params):\n",
    "    \"\"\"\n",
    "    Execute a Q&A process for generating SQL queries based on user questions.\n",
    "    Args:\n",
    "        params (dict): A dictionary containing parameters including table name, database name, prompt, etc.\n",
    "    Returns:\n",
    "        tuple: A tuple containing the response, generated SQL statement, and query output.\n",
    "    \"\"\"\n",
    "    # sql1=f\"SELECT * FROM information_schema.columns WHERE table_name='{params['table']}' AND table_schema='{params['db']}'\"\n",
    "    # sql2=f\"SELECT * from dev.{params['db']}.{params['table']} LIMIT 10\"\n",
    "    sql1=f\"SELECT table_catalog,table_schema,table_name,column_name,ordinal_position,is_nullable,data_type FROM information_schema.columns WHERE table_schema='{params['db']}'\"\n",
    "    sql2=[]\n",
    "    for table in params['tables']:\n",
    "        sql2.append(f\"SELECT * from {params['db']}.{table} LIMIT 3\")\n",
    "    sqls=[sql1]+sql2\n",
    "    #print(sqls)\n",
    "    question=params['prompt']\n",
    "    results=execute_query_with_pagination(sqls, CLUSTER_IDENTIFIER, db, DB_USER)    \n",
    "    \n",
    "    col_names=results[0].split('\\n')[0]\n",
    "    observations=\"\\n\".join(sorted(results[0].split('\\n')[1:])).strip()\n",
    "    params['schema']=f\"{col_names}\\n{observations}\"\n",
    "    params['sample']=''\n",
    "    for examples in results[1:]:\n",
    "        params['sample']+=f\"{examples}\\n\\n\"\n",
    "    # params['schema']=schema\n",
    "    # params['sample']=schema_example\n",
    "    \n",
    "    prompts=f\"\"\"<s><<SYS>>[INST]\n",
    "You are an expert PostgreSQL developer. Your job is to provide a syntactically correct PostgreSQL query given a user question.\n",
    "Here are the schema definition of table(s):\n",
    "########\n",
    "{params['schema']}\n",
    "########\n",
    "\n",
    "Here are example records for each table:\n",
    "##########\n",
    "{params['sample']}\n",
    "###########\n",
    "<</SYS>>\n",
    "Here are some instructions when generating SQL statements:\n",
    "1. Determine the necessary table(s) and schema needed for an accurate query.\n",
    "2. Limit your queries to only the required columns to prevent unnecessary data retrieval and improve query performance.\n",
    "3. For clarity and to prevent potential conflicts, always include the schema name when referencing table names in your SQL queries.\n",
    "4. When working with Amazon Redshift table and column names containing underscores, do not use the backslash escape character (\\). Instead, use double quotes (\"\") to enclose the names in your queries.\n",
    "5. Do not mention 'dev' or 'public' in the queries.\n",
    "In your response, provide a single SQL statement to answer the question, avoid additional text that would cause failure during executing the sql. You MUST provide your answer according to the following format:\n",
    "Format your response as:\n",
    "<sql>\n",
    "generated SQL statement \n",
    "</sql>\n",
    "\n",
    "Question: {question}[/INST]\"\"\"\n",
    "\n",
    "#     prompts=f\"\"\"<s> [INST] You are an expert PostgreSQL developer. Your job is to provide a syntactically correct PostgreSQL query for Amazon Redshift Database.\n",
    "# Here are the schema definition of table(s):\n",
    "# {params['schema']}\n",
    "\n",
    "# Here are example records for each table:\n",
    "# {params['sample']}\n",
    "\n",
    "# Here are some instructions when generating SQL statements:\n",
    "# 1. Pay attention to database schema and table names and use them correctly in your response. \n",
    "# 2. Never query for all columns from a table. You must query only the columns that are needed to answer the question.\n",
    "# 3. Wrap all column name(s) in double quotes (\") to denote them as delimited identifiers. \n",
    "# 4. DO NOT escape underscores (_) in column name(s). Just wrap them in double quotes (\").\n",
    "# In your response, provide a single SQL statement to answer the question, avoid additional text that would cause failure during executing the sql. \n",
    "# Format your response as:\n",
    "# <sql>\n",
    "# generated SQL statement \n",
    "# </sql>\n",
    "# Question: {question} [/INST] \"\"\"\n",
    "    q_s=query_llm(prompts,200)\n",
    "    sql_pattern = re.compile(r'<sql>(.*?)(?:</sql>|$)', re.DOTALL)           \n",
    "    sql_match = re.search(sql_pattern, q_s)\n",
    "    q_s = sql_match.group(1) \n",
    "    q_s = q_s.replace(\"\\\\\",\"\")\n",
    "    print(f\" FIRST ATTEMPT SQL:\\n{q_s}\")\n",
    "    output, q_s=single_execute_query(q_s, CLUSTER_IDENTIFIER, db, DB_USER,question)    \n",
    "    input_token = count_tokens(output, MIXTRAL_ENDPOINT)\n",
    "    if input_token>28000:    \n",
    "        csv_rows=output.split('\\n')\n",
    "        chunk_rows=chunk_csv_rows(csv_rows, 20000)\n",
    "        initial_summary=[]\n",
    "        for chunk in chunk_rows:\n",
    "            prompts=f'''<s><<SYS>>[INST]You are a helpful and truthful assistant. Your job is provide answers based on samples of a tabular data provided.\n",
    "\n",
    "Here is the tabular data:\n",
    "#######\n",
    "{chunk}\n",
    "#######\n",
    "<</SYS>>\n",
    "Question: {question}\n",
    "\n",
    "When providing your response:\n",
    "- First, review the result to understand the information within. Then provide a complete answer to the my question, based on the result.\n",
    "- If you can't answer the question, please say so[/INST]'''\n",
    "            initial_summary.append(qna_llm(prompts,params))\n",
    "        prompts = f'''<s><<SYS>>[INST]You are a helpful and truthful assistant.\n",
    "\n",
    "Here are multiple answer for a question on different subset of a tabular data:\n",
    "#######\n",
    "{initial_summary}\n",
    "#######\n",
    "<</SYS>>\n",
    "Question: {question}\n",
    "Based on the given question above, merege all answers provided in a coherent singular answer[/INST]'''\n",
    "        response=qna_llm(prompts,params)\n",
    "        \n",
    "    else:        \n",
    "        prompts=f'''<s><<SYS>>[INST]You are a helpful and truthful assistant. Your job is to examine a sql statement and its generated result, then provide a response to my question.\n",
    "\n",
    "Here is the sql query:\n",
    "{q_s}\n",
    "\n",
    "Here is the corresponding sql query result:\n",
    "{output}\n",
    "<</SYS>>\n",
    "question: {question}\n",
    "\n",
    "When providing your response:\n",
    "- First, review the sql query and the corresponding result. Then provide a complete answer to the my question, based on the result.\n",
    "- If you can't answer the question, please say so[/INST]'''\n",
    "        response=qna_llm(prompts, params) \n",
    "    return response, q_s,output"
   ]
  },
  {
   "cell_type": "code",
   "execution_count": 58,
   "id": "f69fcae3-32f0-4048-a2cf-74183b928182",
   "metadata": {
    "tags": []
   },
   "outputs": [
    {
     "data": {
      "text/plain": [
       "('sample_data_dev',\n",
       " 'tickit',\n",
       " ['category', 'date', 'event', 'listing', 'sales', 'users', 'venue'])"
      ]
     },
     "execution_count": 58,
     "metadata": {},
     "output_type": "execute_result"
    }
   ],
   "source": [
    "#db=get_db_redshift(CLUSTER_IDENTIFIER, DATABASE, DB_USER)[-1]\n",
    "#schm=get_schema_redshift(CLUSTER_IDENTIFIER, db, DB_USER)[-1]\n",
    "db='sample_data_dev'\n",
    "schm = 'tickit'\n",
    "tables=get_tables_redshift(CLUSTER_IDENTIFIER, db, DB_USER,schm)\n",
    "db, schm, tables"
   ]
  },
  {
   "cell_type": "markdown",
   "id": "1b728224-5821-4ed2-8fb6-796d5c0a7fbf",
   "metadata": {},
   "source": [
    "#### Example prompts:"
   ]
  },
  {
   "cell_type": "code",
   "execution_count": 59,
   "id": "b9087bf8-f6b7-40d9-a849-58bf8d6a2923",
   "metadata": {
    "tags": []
   },
   "outputs": [],
   "source": [
    "prompt1 = \"Who are the 5 people who spent the most on tickets for events?\""
   ]
  },
  {
   "cell_type": "code",
   "execution_count": 60,
   "id": "baec89b7-b910-4532-b929-4c8acb11645c",
   "metadata": {
    "tags": []
   },
   "outputs": [],
   "source": [
    "prompt2 = \"the top five sellers names in San Diego, based on the number of tickets sold in 2008?\""
   ]
  },
  {
   "cell_type": "code",
   "execution_count": 61,
   "id": "b0065583-179c-466c-8f05-a787483a8d36",
   "metadata": {
    "tags": []
   },
   "outputs": [],
   "source": [
    "prompt3 = \"What where the 10 events for which tickets took the longest to sell?\""
   ]
  },
  {
   "cell_type": "code",
   "execution_count": 62,
   "id": "7e64de7c-e8e7-416b-b60b-694d49481bff",
   "metadata": {
    "tags": []
   },
   "outputs": [],
   "source": [
    "prompt4 = \"the most popular state to host events based on the number of venues per state.\""
   ]
  },
  {
   "cell_type": "code",
   "execution_count": 63,
   "id": "53a0781d-9ff2-4cd2-b85b-34a4322e96c7",
   "metadata": {
    "tags": []
   },
   "outputs": [],
   "source": [
    "prompt5 = \"Number of Venues where the show Macbeth was held.\""
   ]
  },
  {
   "cell_type": "code",
   "execution_count": 27,
   "id": "8fc5ed6b-ff95-4744-91d1-c3d9b912625b",
   "metadata": {
    "tags": []
   },
   "outputs": [],
   "source": [
    "prompt6 = \"what are the top 10 buyers by quantity.\""
   ]
  },
  {
   "cell_type": "code",
   "execution_count": 28,
   "id": "cf8c2dd2-d2a7-4155-ab3d-b6f206cc601a",
   "metadata": {
    "tags": []
   },
   "outputs": [],
   "source": [
    "prompt7 = \"for the top 10 events, count the number of times each of them occur.\""
   ]
  },
  {
   "cell_type": "code",
   "execution_count": 29,
   "id": "2803aff4-7484-4cab-b231-d264e2747fcd",
   "metadata": {
    "tags": []
   },
   "outputs": [],
   "source": [
    "prompt8 = \"Total Commissions Generated for Macbeth at Royce Hall.\""
   ]
  },
  {
   "cell_type": "code",
   "execution_count": 30,
   "id": "b304c971-ee2c-453c-9358-bd4f0fa371d7",
   "metadata": {
    "tags": []
   },
   "outputs": [
    {
     "data": {
      "application/vnd.jupyter.widget-view+json": {
       "model_id": "6211eb2c474341648eb17f9dab8be4b8",
       "version_major": 2,
       "version_minor": 0
      },
      "text/plain": [
       "Text(value='', description='Enter prompt:')"
      ]
     },
     "metadata": {},
     "output_type": "display_data"
    }
   ],
   "source": [
    "entered_text = widgets.Text(\n",
    "    value='',\n",
    "    description='Enter prompt:',\n",
    ")\n",
    "display(entered_text)"
   ]
  },
  {
   "cell_type": "code",
   "execution_count": 64,
   "id": "6baba3e2-8c15-4b08-941f-e28a61094073",
   "metadata": {
    "tags": []
   },
   "outputs": [
    {
     "name": "stdout",
     "output_type": "stream",
     "text": [
      "what are the top 10 buyers by quantity?\n"
     ]
    }
   ],
   "source": [
    "prompt = entered_text.value\n",
    "params={'sql-len':700,'text-token':500,'tables':tables,'db':schm,'temp':0.1,'model_id':'mixtral',\n",
    "        \"prompt\":prompt}\n",
    "print(params[\"prompt\"])"
   ]
  },
  {
   "cell_type": "code",
   "execution_count": 65,
   "id": "642ae516-41e5-453e-be1a-ca7de1c1e9ec",
   "metadata": {
    "tags": []
   },
   "outputs": [
    {
     "name": "stdout",
     "output_type": "stream",
     "text": [
      "Raw response from LLM: {\"generated_text\": \"<sql>\\nSELECT\\n    buyerid,\\n    SUM(qtysold) AS total_quantity\\nFROM\\n    tickit.sales\\nGROUP BY\\n    buyerid\\nORDER BY\\n    total_quantity DESC\\nLIMIT 10;\\n</sql>\"}\n",
      "Processed response: <sql>\n",
      "SELECT\n",
      "    buyerid,\n",
      "    SUM(qtysold) AS total_quantity\n",
      "FROM\n",
      "    tickit.sales\n",
      "GROUP BY\n",
      "    buyerid\n",
      "ORDER BY\n",
      "    total_quantity DESC\n",
      "LIMIT 10;\n",
      "</sql>\n",
      " FIRST ATTEMPT SQL:\n",
      "\n",
      "SELECT\n",
      "    buyerid,\n",
      "    SUM(qtysold) AS total_quantity\n",
      "FROM\n",
      "    tickit.sales\n",
      "GROUP BY\n",
      "    buyerid\n",
      "ORDER BY\n",
      "    total_quantity DESC\n",
      "LIMIT 10;\n",
      "\n",
      "Response structure: {'generated_text': 'Based on the provided SQL query and its result, the top 10 buyers by quantity are as follows:\\n\\n1. Buyer ID 8933 with a total quantity of 67\\n2. Buyer ID 3797 with a total quantity of 64\\n3. Buyer ID 1298 with a total quantity of 64\\n4. Buyer ID 5002 with a total quantity of 63\\n5. Buyer ID 4064 with a total quantity of 60\\n6. Buyer ID 644 with a total quantity of 60\\n7. Buyer ID 3881 with a total quantity of 60\\n8. Buyer ID 522 with a total quantity of 60\\n9. Buyer ID 4842 with a total quantity of 60\\n10. Buyer ID 59'}\n",
      "CPU times: user 124 ms, sys: 5.34 ms, total: 129 ms\n",
      "Wall time: 20.6 s\n"
     ]
    }
   ],
   "source": [
    "%%time\n",
    "result_text2sql = redshift_qna(params)"
   ]
  },
  {
   "cell_type": "code",
   "execution_count": 66,
   "id": "73f7a388-c7dd-40df-bda1-3719044129d2",
   "metadata": {
    "tags": []
   },
   "outputs": [
    {
     "name": "stdout",
     "output_type": "stream",
     "text": [
      "\n",
      "Answer:\n",
      "\n",
      "Based on the provided SQL query and its result, the top 10 buyers by quantity are as follows:\n",
      "\n",
      "1. Buyer ID 8933 with a total quantity of 67\n",
      "2. Buyer ID 3797 with a total quantity of 64\n",
      "3. Buyer ID 1298 with a total quantity of 64\n",
      "4. Buyer ID 5002 with a total quantity of 63\n",
      "5. Buyer ID 4064 with a total quantity of 60\n",
      "6. Buyer ID 644 with a total quantity of 60\n",
      "7. Buyer ID 3881 with a total quantity of 60\n",
      "8. Buyer ID 522 with a total quantity of 60\n",
      "9. Buyer ID 4842 with a total quantity of 60\n",
      "10. Buyer ID 59\n",
      "\n"
     ]
    }
   ],
   "source": [
    "# Query result in Natural Language\n",
    "print(f\"\\nAnswer:\\n\\n{result_text2sql[0]}\\n\")"
   ]
  },
  {
   "cell_type": "code",
   "execution_count": 67,
   "id": "66463052-9f25-4ff9-a19e-76832b179e73",
   "metadata": {
    "tags": []
   },
   "outputs": [
    {
     "name": "stdout",
     "output_type": "stream",
     "text": [
      "\n",
      "SQL Query generated from the prompt:\n",
      "\n"
     ]
    },
    {
     "data": {
      "text/html": [
       "<style>pre { line-height: 125%; }\n",
       "td.linenos .normal { color: inherit; background-color: transparent; padding-left: 5px; padding-right: 5px; }\n",
       "span.linenos { color: inherit; background-color: transparent; padding-left: 5px; padding-right: 5px; }\n",
       "td.linenos .special { color: #000000; background-color: #ffffc0; padding-left: 5px; padding-right: 5px; }\n",
       "span.linenos.special { color: #000000; background-color: #ffffc0; padding-left: 5px; padding-right: 5px; }\n",
       ".output_html .hll { background-color: #ffffcc }\n",
       ".output_html { background: #f8f8f8; }\n",
       ".output_html .c { color: #3D7B7B; font-style: italic } /* Comment */\n",
       ".output_html .err { border: 1px solid #F00 } /* Error */\n",
       ".output_html .k { color: #008000; font-weight: bold } /* Keyword */\n",
       ".output_html .o { color: #666 } /* Operator */\n",
       ".output_html .ch { color: #3D7B7B; font-style: italic } /* Comment.Hashbang */\n",
       ".output_html .cm { color: #3D7B7B; font-style: italic } /* Comment.Multiline */\n",
       ".output_html .cp { color: #9C6500 } /* Comment.Preproc */\n",
       ".output_html .cpf { color: #3D7B7B; font-style: italic } /* Comment.PreprocFile */\n",
       ".output_html .c1 { color: #3D7B7B; font-style: italic } /* Comment.Single */\n",
       ".output_html .cs { color: #3D7B7B; font-style: italic } /* Comment.Special */\n",
       ".output_html .gd { color: #A00000 } /* Generic.Deleted */\n",
       ".output_html .ge { font-style: italic } /* Generic.Emph */\n",
       ".output_html .ges { font-weight: bold; font-style: italic } /* Generic.EmphStrong */\n",
       ".output_html .gr { color: #E40000 } /* Generic.Error */\n",
       ".output_html .gh { color: #000080; font-weight: bold } /* Generic.Heading */\n",
       ".output_html .gi { color: #008400 } /* Generic.Inserted */\n",
       ".output_html .go { color: #717171 } /* Generic.Output */\n",
       ".output_html .gp { color: #000080; font-weight: bold } /* Generic.Prompt */\n",
       ".output_html .gs { font-weight: bold } /* Generic.Strong */\n",
       ".output_html .gu { color: #800080; font-weight: bold } /* Generic.Subheading */\n",
       ".output_html .gt { color: #04D } /* Generic.Traceback */\n",
       ".output_html .kc { color: #008000; font-weight: bold } /* Keyword.Constant */\n",
       ".output_html .kd { color: #008000; font-weight: bold } /* Keyword.Declaration */\n",
       ".output_html .kn { color: #008000; font-weight: bold } /* Keyword.Namespace */\n",
       ".output_html .kp { color: #008000 } /* Keyword.Pseudo */\n",
       ".output_html .kr { color: #008000; font-weight: bold } /* Keyword.Reserved */\n",
       ".output_html .kt { color: #B00040 } /* Keyword.Type */\n",
       ".output_html .m { color: #666 } /* Literal.Number */\n",
       ".output_html .s { color: #BA2121 } /* Literal.String */\n",
       ".output_html .na { color: #687822 } /* Name.Attribute */\n",
       ".output_html .nb { color: #008000 } /* Name.Builtin */\n",
       ".output_html .nc { color: #00F; font-weight: bold } /* Name.Class */\n",
       ".output_html .no { color: #800 } /* Name.Constant */\n",
       ".output_html .nd { color: #A2F } /* Name.Decorator */\n",
       ".output_html .ni { color: #717171; font-weight: bold } /* Name.Entity */\n",
       ".output_html .ne { color: #CB3F38; font-weight: bold } /* Name.Exception */\n",
       ".output_html .nf { color: #00F } /* Name.Function */\n",
       ".output_html .nl { color: #767600 } /* Name.Label */\n",
       ".output_html .nn { color: #00F; font-weight: bold } /* Name.Namespace */\n",
       ".output_html .nt { color: #008000; font-weight: bold } /* Name.Tag */\n",
       ".output_html .nv { color: #19177C } /* Name.Variable */\n",
       ".output_html .ow { color: #A2F; font-weight: bold } /* Operator.Word */\n",
       ".output_html .w { color: #BBB } /* Text.Whitespace */\n",
       ".output_html .mb { color: #666 } /* Literal.Number.Bin */\n",
       ".output_html .mf { color: #666 } /* Literal.Number.Float */\n",
       ".output_html .mh { color: #666 } /* Literal.Number.Hex */\n",
       ".output_html .mi { color: #666 } /* Literal.Number.Integer */\n",
       ".output_html .mo { color: #666 } /* Literal.Number.Oct */\n",
       ".output_html .sa { color: #BA2121 } /* Literal.String.Affix */\n",
       ".output_html .sb { color: #BA2121 } /* Literal.String.Backtick */\n",
       ".output_html .sc { color: #BA2121 } /* Literal.String.Char */\n",
       ".output_html .dl { color: #BA2121 } /* Literal.String.Delimiter */\n",
       ".output_html .sd { color: #BA2121; font-style: italic } /* Literal.String.Doc */\n",
       ".output_html .s2 { color: #BA2121 } /* Literal.String.Double */\n",
       ".output_html .se { color: #AA5D1F; font-weight: bold } /* Literal.String.Escape */\n",
       ".output_html .sh { color: #BA2121 } /* Literal.String.Heredoc */\n",
       ".output_html .si { color: #A45A77; font-weight: bold } /* Literal.String.Interpol */\n",
       ".output_html .sx { color: #008000 } /* Literal.String.Other */\n",
       ".output_html .sr { color: #A45A77 } /* Literal.String.Regex */\n",
       ".output_html .s1 { color: #BA2121 } /* Literal.String.Single */\n",
       ".output_html .ss { color: #19177C } /* Literal.String.Symbol */\n",
       ".output_html .bp { color: #008000 } /* Name.Builtin.Pseudo */\n",
       ".output_html .fm { color: #00F } /* Name.Function.Magic */\n",
       ".output_html .vc { color: #19177C } /* Name.Variable.Class */\n",
       ".output_html .vg { color: #19177C } /* Name.Variable.Global */\n",
       ".output_html .vi { color: #19177C } /* Name.Variable.Instance */\n",
       ".output_html .vm { color: #19177C } /* Name.Variable.Magic */\n",
       ".output_html .il { color: #666 } /* Literal.Number.Integer.Long */</style><div class=\"highlight\"><pre><span></span><span class=\"k\">SELECT</span>\n",
       "<span class=\"w\">    </span><span class=\"n\">buyerid</span><span class=\"p\">,</span>\n",
       "<span class=\"w\">    </span><span class=\"k\">SUM</span><span class=\"p\">(</span><span class=\"n\">qtysold</span><span class=\"p\">)</span><span class=\"w\"> </span><span class=\"k\">AS</span><span class=\"w\"> </span><span class=\"n\">total_quantity</span>\n",
       "<span class=\"k\">FROM</span>\n",
       "<span class=\"w\">    </span><span class=\"n\">tickit</span><span class=\"p\">.</span><span class=\"n\">sales</span>\n",
       "<span class=\"k\">GROUP</span><span class=\"w\"> </span><span class=\"k\">BY</span>\n",
       "<span class=\"w\">    </span><span class=\"n\">buyerid</span>\n",
       "<span class=\"k\">ORDER</span><span class=\"w\"> </span><span class=\"k\">BY</span>\n",
       "<span class=\"w\">    </span><span class=\"n\">total_quantity</span><span class=\"w\"> </span><span class=\"k\">DESC</span>\n",
       "<span class=\"k\">LIMIT</span><span class=\"w\"> </span><span class=\"mi\">10</span><span class=\"p\">;</span>\n",
       "</pre></div>\n"
      ],
      "text/latex": [
       "\\begin{Verbatim}[commandchars=\\\\\\{\\}]\n",
       "\\PY{k}{SELECT}\n",
       "\\PY{+w}{    }\\PY{n}{buyerid}\\PY{p}{,}\n",
       "\\PY{+w}{    }\\PY{k}{SUM}\\PY{p}{(}\\PY{n}{qtysold}\\PY{p}{)}\\PY{+w}{ }\\PY{k}{AS}\\PY{+w}{ }\\PY{n}{total\\PYZus{}quantity}\n",
       "\\PY{k}{FROM}\n",
       "\\PY{+w}{    }\\PY{n}{tickit}\\PY{p}{.}\\PY{n}{sales}\n",
       "\\PY{k}{GROUP}\\PY{+w}{ }\\PY{k}{BY}\n",
       "\\PY{+w}{    }\\PY{n}{buyerid}\n",
       "\\PY{k}{ORDER}\\PY{+w}{ }\\PY{k}{BY}\n",
       "\\PY{+w}{    }\\PY{n}{total\\PYZus{}quantity}\\PY{+w}{ }\\PY{k}{DESC}\n",
       "\\PY{k}{LIMIT}\\PY{+w}{ }\\PY{l+m+mi}{10}\\PY{p}{;}\n",
       "\\end{Verbatim}\n"
      ],
      "text/plain": [
       "\n",
       "SELECT\n",
       "    buyerid,\n",
       "    SUM(qtysold) AS total_quantity\n",
       "FROM\n",
       "    tickit.sales\n",
       "GROUP BY\n",
       "    buyerid\n",
       "ORDER BY\n",
       "    total_quantity DESC\n",
       "LIMIT 10;"
      ]
     },
     "metadata": {},
     "output_type": "display_data"
    },
    {
     "name": "stdout",
     "output_type": "stream",
     "text": [
      "\n"
     ]
    }
   ],
   "source": [
    "# Generated SQL query used\n",
    "from IPython.display import Code, display\n",
    "print(f\"\\nSQL Query generated from the prompt:\\n\")\n",
    "display(Code(result_text2sql[1], language='sql'))\n",
    "print(\"\")"
   ]
  },
  {
   "cell_type": "code",
   "execution_count": 68,
   "id": "884c31f9-917e-45a3-94fb-1c05eef677b3",
   "metadata": {
    "tags": []
   },
   "outputs": [
    {
     "name": "stdout",
     "output_type": "stream",
     "text": [
      "\n",
      "Tabular results from the SQL query:\n",
      "\n"
     ]
    },
    {
     "data": {
      "text/html": [
       "<div>\n",
       "<style scoped>\n",
       "    .dataframe tbody tr th:only-of-type {\n",
       "        vertical-align: middle;\n",
       "    }\n",
       "\n",
       "    .dataframe tbody tr th {\n",
       "        vertical-align: top;\n",
       "    }\n",
       "\n",
       "    .dataframe thead th {\n",
       "        text-align: right;\n",
       "    }\n",
       "</style>\n",
       "<table border=\"1\" class=\"dataframe\">\n",
       "  <thead>\n",
       "    <tr style=\"text-align: right;\">\n",
       "      <th></th>\n",
       "      <th>buyerid</th>\n",
       "      <th>total_quantity</th>\n",
       "    </tr>\n",
       "  </thead>\n",
       "  <tbody>\n",
       "    <tr>\n",
       "      <th>0</th>\n",
       "      <td>8933</td>\n",
       "      <td>67</td>\n",
       "    </tr>\n",
       "    <tr>\n",
       "      <th>1</th>\n",
       "      <td>3797</td>\n",
       "      <td>64</td>\n",
       "    </tr>\n",
       "    <tr>\n",
       "      <th>2</th>\n",
       "      <td>1298</td>\n",
       "      <td>64</td>\n",
       "    </tr>\n",
       "    <tr>\n",
       "      <th>3</th>\n",
       "      <td>5002</td>\n",
       "      <td>63</td>\n",
       "    </tr>\n",
       "    <tr>\n",
       "      <th>4</th>\n",
       "      <td>4064</td>\n",
       "      <td>60</td>\n",
       "    </tr>\n",
       "    <tr>\n",
       "      <th>5</th>\n",
       "      <td>644</td>\n",
       "      <td>60</td>\n",
       "    </tr>\n",
       "    <tr>\n",
       "      <th>6</th>\n",
       "      <td>3881</td>\n",
       "      <td>60</td>\n",
       "    </tr>\n",
       "    <tr>\n",
       "      <th>7</th>\n",
       "      <td>522</td>\n",
       "      <td>60</td>\n",
       "    </tr>\n",
       "    <tr>\n",
       "      <th>8</th>\n",
       "      <td>4842</td>\n",
       "      <td>60</td>\n",
       "    </tr>\n",
       "    <tr>\n",
       "      <th>9</th>\n",
       "      <td>5953</td>\n",
       "      <td>60</td>\n",
       "    </tr>\n",
       "  </tbody>\n",
       "</table>\n",
       "</div>"
      ],
      "text/plain": [
       "   buyerid  total_quantity\n",
       "0     8933              67\n",
       "1     3797              64\n",
       "2     1298              64\n",
       "3     5002              63\n",
       "4     4064              60\n",
       "5      644              60\n",
       "6     3881              60\n",
       "7      522              60\n",
       "8     4842              60\n",
       "9     5953              60"
      ]
     },
     "execution_count": 68,
     "metadata": {},
     "output_type": "execute_result"
    }
   ],
   "source": [
    "# Tabular results from the SQL Query \n",
    "print(f\"\\nTabular results from the SQL query:\\n\")\n",
    "df=pd.read_csv(StringIO(result_text2sql[2]))\n",
    "df"
   ]
  }
 ],
 "metadata": {
  "availableInstances": [
   {
    "_defaultOrder": 0,
    "_isFastLaunch": true,
    "category": "General purpose",
    "gpuNum": 0,
    "hideHardwareSpecs": false,
    "memoryGiB": 4,
    "name": "ml.t3.medium",
    "vcpuNum": 2
   },
   {
    "_defaultOrder": 1,
    "_isFastLaunch": false,
    "category": "General purpose",
    "gpuNum": 0,
    "hideHardwareSpecs": false,
    "memoryGiB": 8,
    "name": "ml.t3.large",
    "vcpuNum": 2
   },
   {
    "_defaultOrder": 2,
    "_isFastLaunch": false,
    "category": "General purpose",
    "gpuNum": 0,
    "hideHardwareSpecs": false,
    "memoryGiB": 16,
    "name": "ml.t3.xlarge",
    "vcpuNum": 4
   },
   {
    "_defaultOrder": 3,
    "_isFastLaunch": false,
    "category": "General purpose",
    "gpuNum": 0,
    "hideHardwareSpecs": false,
    "memoryGiB": 32,
    "name": "ml.t3.2xlarge",
    "vcpuNum": 8
   },
   {
    "_defaultOrder": 4,
    "_isFastLaunch": true,
    "category": "General purpose",
    "gpuNum": 0,
    "hideHardwareSpecs": false,
    "memoryGiB": 8,
    "name": "ml.m5.large",
    "vcpuNum": 2
   },
   {
    "_defaultOrder": 5,
    "_isFastLaunch": false,
    "category": "General purpose",
    "gpuNum": 0,
    "hideHardwareSpecs": false,
    "memoryGiB": 16,
    "name": "ml.m5.xlarge",
    "vcpuNum": 4
   },
   {
    "_defaultOrder": 6,
    "_isFastLaunch": false,
    "category": "General purpose",
    "gpuNum": 0,
    "hideHardwareSpecs": false,
    "memoryGiB": 32,
    "name": "ml.m5.2xlarge",
    "vcpuNum": 8
   },
   {
    "_defaultOrder": 7,
    "_isFastLaunch": false,
    "category": "General purpose",
    "gpuNum": 0,
    "hideHardwareSpecs": false,
    "memoryGiB": 64,
    "name": "ml.m5.4xlarge",
    "vcpuNum": 16
   },
   {
    "_defaultOrder": 8,
    "_isFastLaunch": false,
    "category": "General purpose",
    "gpuNum": 0,
    "hideHardwareSpecs": false,
    "memoryGiB": 128,
    "name": "ml.m5.8xlarge",
    "vcpuNum": 32
   },
   {
    "_defaultOrder": 9,
    "_isFastLaunch": false,
    "category": "General purpose",
    "gpuNum": 0,
    "hideHardwareSpecs": false,
    "memoryGiB": 192,
    "name": "ml.m5.12xlarge",
    "vcpuNum": 48
   },
   {
    "_defaultOrder": 10,
    "_isFastLaunch": false,
    "category": "General purpose",
    "gpuNum": 0,
    "hideHardwareSpecs": false,
    "memoryGiB": 256,
    "name": "ml.m5.16xlarge",
    "vcpuNum": 64
   },
   {
    "_defaultOrder": 11,
    "_isFastLaunch": false,
    "category": "General purpose",
    "gpuNum": 0,
    "hideHardwareSpecs": false,
    "memoryGiB": 384,
    "name": "ml.m5.24xlarge",
    "vcpuNum": 96
   },
   {
    "_defaultOrder": 12,
    "_isFastLaunch": false,
    "category": "General purpose",
    "gpuNum": 0,
    "hideHardwareSpecs": false,
    "memoryGiB": 8,
    "name": "ml.m5d.large",
    "vcpuNum": 2
   },
   {
    "_defaultOrder": 13,
    "_isFastLaunch": false,
    "category": "General purpose",
    "gpuNum": 0,
    "hideHardwareSpecs": false,
    "memoryGiB": 16,
    "name": "ml.m5d.xlarge",
    "vcpuNum": 4
   },
   {
    "_defaultOrder": 14,
    "_isFastLaunch": false,
    "category": "General purpose",
    "gpuNum": 0,
    "hideHardwareSpecs": false,
    "memoryGiB": 32,
    "name": "ml.m5d.2xlarge",
    "vcpuNum": 8
   },
   {
    "_defaultOrder": 15,
    "_isFastLaunch": false,
    "category": "General purpose",
    "gpuNum": 0,
    "hideHardwareSpecs": false,
    "memoryGiB": 64,
    "name": "ml.m5d.4xlarge",
    "vcpuNum": 16
   },
   {
    "_defaultOrder": 16,
    "_isFastLaunch": false,
    "category": "General purpose",
    "gpuNum": 0,
    "hideHardwareSpecs": false,
    "memoryGiB": 128,
    "name": "ml.m5d.8xlarge",
    "vcpuNum": 32
   },
   {
    "_defaultOrder": 17,
    "_isFastLaunch": false,
    "category": "General purpose",
    "gpuNum": 0,
    "hideHardwareSpecs": false,
    "memoryGiB": 192,
    "name": "ml.m5d.12xlarge",
    "vcpuNum": 48
   },
   {
    "_defaultOrder": 18,
    "_isFastLaunch": false,
    "category": "General purpose",
    "gpuNum": 0,
    "hideHardwareSpecs": false,
    "memoryGiB": 256,
    "name": "ml.m5d.16xlarge",
    "vcpuNum": 64
   },
   {
    "_defaultOrder": 19,
    "_isFastLaunch": false,
    "category": "General purpose",
    "gpuNum": 0,
    "hideHardwareSpecs": false,
    "memoryGiB": 384,
    "name": "ml.m5d.24xlarge",
    "vcpuNum": 96
   },
   {
    "_defaultOrder": 20,
    "_isFastLaunch": false,
    "category": "General purpose",
    "gpuNum": 0,
    "hideHardwareSpecs": true,
    "memoryGiB": 0,
    "name": "ml.geospatial.interactive",
    "supportedImageNames": [
     "sagemaker-geospatial-v1-0"
    ],
    "vcpuNum": 0
   },
   {
    "_defaultOrder": 21,
    "_isFastLaunch": true,
    "category": "Compute optimized",
    "gpuNum": 0,
    "hideHardwareSpecs": false,
    "memoryGiB": 4,
    "name": "ml.c5.large",
    "vcpuNum": 2
   },
   {
    "_defaultOrder": 22,
    "_isFastLaunch": false,
    "category": "Compute optimized",
    "gpuNum": 0,
    "hideHardwareSpecs": false,
    "memoryGiB": 8,
    "name": "ml.c5.xlarge",
    "vcpuNum": 4
   },
   {
    "_defaultOrder": 23,
    "_isFastLaunch": false,
    "category": "Compute optimized",
    "gpuNum": 0,
    "hideHardwareSpecs": false,
    "memoryGiB": 16,
    "name": "ml.c5.2xlarge",
    "vcpuNum": 8
   },
   {
    "_defaultOrder": 24,
    "_isFastLaunch": false,
    "category": "Compute optimized",
    "gpuNum": 0,
    "hideHardwareSpecs": false,
    "memoryGiB": 32,
    "name": "ml.c5.4xlarge",
    "vcpuNum": 16
   },
   {
    "_defaultOrder": 25,
    "_isFastLaunch": false,
    "category": "Compute optimized",
    "gpuNum": 0,
    "hideHardwareSpecs": false,
    "memoryGiB": 72,
    "name": "ml.c5.9xlarge",
    "vcpuNum": 36
   },
   {
    "_defaultOrder": 26,
    "_isFastLaunch": false,
    "category": "Compute optimized",
    "gpuNum": 0,
    "hideHardwareSpecs": false,
    "memoryGiB": 96,
    "name": "ml.c5.12xlarge",
    "vcpuNum": 48
   },
   {
    "_defaultOrder": 27,
    "_isFastLaunch": false,
    "category": "Compute optimized",
    "gpuNum": 0,
    "hideHardwareSpecs": false,
    "memoryGiB": 144,
    "name": "ml.c5.18xlarge",
    "vcpuNum": 72
   },
   {
    "_defaultOrder": 28,
    "_isFastLaunch": false,
    "category": "Compute optimized",
    "gpuNum": 0,
    "hideHardwareSpecs": false,
    "memoryGiB": 192,
    "name": "ml.c5.24xlarge",
    "vcpuNum": 96
   },
   {
    "_defaultOrder": 29,
    "_isFastLaunch": true,
    "category": "Accelerated computing",
    "gpuNum": 1,
    "hideHardwareSpecs": false,
    "memoryGiB": 16,
    "name": "ml.g4dn.xlarge",
    "vcpuNum": 4
   },
   {
    "_defaultOrder": 30,
    "_isFastLaunch": false,
    "category": "Accelerated computing",
    "gpuNum": 1,
    "hideHardwareSpecs": false,
    "memoryGiB": 32,
    "name": "ml.g4dn.2xlarge",
    "vcpuNum": 8
   },
   {
    "_defaultOrder": 31,
    "_isFastLaunch": false,
    "category": "Accelerated computing",
    "gpuNum": 1,
    "hideHardwareSpecs": false,
    "memoryGiB": 64,
    "name": "ml.g4dn.4xlarge",
    "vcpuNum": 16
   },
   {
    "_defaultOrder": 32,
    "_isFastLaunch": false,
    "category": "Accelerated computing",
    "gpuNum": 1,
    "hideHardwareSpecs": false,
    "memoryGiB": 128,
    "name": "ml.g4dn.8xlarge",
    "vcpuNum": 32
   },
   {
    "_defaultOrder": 33,
    "_isFastLaunch": false,
    "category": "Accelerated computing",
    "gpuNum": 4,
    "hideHardwareSpecs": false,
    "memoryGiB": 192,
    "name": "ml.g4dn.12xlarge",
    "vcpuNum": 48
   },
   {
    "_defaultOrder": 34,
    "_isFastLaunch": false,
    "category": "Accelerated computing",
    "gpuNum": 1,
    "hideHardwareSpecs": false,
    "memoryGiB": 256,
    "name": "ml.g4dn.16xlarge",
    "vcpuNum": 64
   },
   {
    "_defaultOrder": 35,
    "_isFastLaunch": false,
    "category": "Accelerated computing",
    "gpuNum": 1,
    "hideHardwareSpecs": false,
    "memoryGiB": 61,
    "name": "ml.p3.2xlarge",
    "vcpuNum": 8
   },
   {
    "_defaultOrder": 36,
    "_isFastLaunch": false,
    "category": "Accelerated computing",
    "gpuNum": 4,
    "hideHardwareSpecs": false,
    "memoryGiB": 244,
    "name": "ml.p3.8xlarge",
    "vcpuNum": 32
   },
   {
    "_defaultOrder": 37,
    "_isFastLaunch": false,
    "category": "Accelerated computing",
    "gpuNum": 8,
    "hideHardwareSpecs": false,
    "memoryGiB": 488,
    "name": "ml.p3.16xlarge",
    "vcpuNum": 64
   },
   {
    "_defaultOrder": 38,
    "_isFastLaunch": false,
    "category": "Accelerated computing",
    "gpuNum": 8,
    "hideHardwareSpecs": false,
    "memoryGiB": 768,
    "name": "ml.p3dn.24xlarge",
    "vcpuNum": 96
   },
   {
    "_defaultOrder": 39,
    "_isFastLaunch": false,
    "category": "Memory Optimized",
    "gpuNum": 0,
    "hideHardwareSpecs": false,
    "memoryGiB": 16,
    "name": "ml.r5.large",
    "vcpuNum": 2
   },
   {
    "_defaultOrder": 40,
    "_isFastLaunch": false,
    "category": "Memory Optimized",
    "gpuNum": 0,
    "hideHardwareSpecs": false,
    "memoryGiB": 32,
    "name": "ml.r5.xlarge",
    "vcpuNum": 4
   },
   {
    "_defaultOrder": 41,
    "_isFastLaunch": false,
    "category": "Memory Optimized",
    "gpuNum": 0,
    "hideHardwareSpecs": false,
    "memoryGiB": 64,
    "name": "ml.r5.2xlarge",
    "vcpuNum": 8
   },
   {
    "_defaultOrder": 42,
    "_isFastLaunch": false,
    "category": "Memory Optimized",
    "gpuNum": 0,
    "hideHardwareSpecs": false,
    "memoryGiB": 128,
    "name": "ml.r5.4xlarge",
    "vcpuNum": 16
   },
   {
    "_defaultOrder": 43,
    "_isFastLaunch": false,
    "category": "Memory Optimized",
    "gpuNum": 0,
    "hideHardwareSpecs": false,
    "memoryGiB": 256,
    "name": "ml.r5.8xlarge",
    "vcpuNum": 32
   },
   {
    "_defaultOrder": 44,
    "_isFastLaunch": false,
    "category": "Memory Optimized",
    "gpuNum": 0,
    "hideHardwareSpecs": false,
    "memoryGiB": 384,
    "name": "ml.r5.12xlarge",
    "vcpuNum": 48
   },
   {
    "_defaultOrder": 45,
    "_isFastLaunch": false,
    "category": "Memory Optimized",
    "gpuNum": 0,
    "hideHardwareSpecs": false,
    "memoryGiB": 512,
    "name": "ml.r5.16xlarge",
    "vcpuNum": 64
   },
   {
    "_defaultOrder": 46,
    "_isFastLaunch": false,
    "category": "Memory Optimized",
    "gpuNum": 0,
    "hideHardwareSpecs": false,
    "memoryGiB": 768,
    "name": "ml.r5.24xlarge",
    "vcpuNum": 96
   },
   {
    "_defaultOrder": 47,
    "_isFastLaunch": false,
    "category": "Accelerated computing",
    "gpuNum": 1,
    "hideHardwareSpecs": false,
    "memoryGiB": 16,
    "name": "ml.g5.xlarge",
    "vcpuNum": 4
   },
   {
    "_defaultOrder": 48,
    "_isFastLaunch": false,
    "category": "Accelerated computing",
    "gpuNum": 1,
    "hideHardwareSpecs": false,
    "memoryGiB": 32,
    "name": "ml.g5.2xlarge",
    "vcpuNum": 8
   },
   {
    "_defaultOrder": 49,
    "_isFastLaunch": false,
    "category": "Accelerated computing",
    "gpuNum": 1,
    "hideHardwareSpecs": false,
    "memoryGiB": 64,
    "name": "ml.g5.4xlarge",
    "vcpuNum": 16
   },
   {
    "_defaultOrder": 50,
    "_isFastLaunch": false,
    "category": "Accelerated computing",
    "gpuNum": 1,
    "hideHardwareSpecs": false,
    "memoryGiB": 128,
    "name": "ml.g5.8xlarge",
    "vcpuNum": 32
   },
   {
    "_defaultOrder": 51,
    "_isFastLaunch": false,
    "category": "Accelerated computing",
    "gpuNum": 1,
    "hideHardwareSpecs": false,
    "memoryGiB": 256,
    "name": "ml.g5.16xlarge",
    "vcpuNum": 64
   },
   {
    "_defaultOrder": 52,
    "_isFastLaunch": false,
    "category": "Accelerated computing",
    "gpuNum": 4,
    "hideHardwareSpecs": false,
    "memoryGiB": 192,
    "name": "ml.g5.12xlarge",
    "vcpuNum": 48
   },
   {
    "_defaultOrder": 53,
    "_isFastLaunch": false,
    "category": "Accelerated computing",
    "gpuNum": 4,
    "hideHardwareSpecs": false,
    "memoryGiB": 384,
    "name": "ml.g5.24xlarge",
    "vcpuNum": 96
   },
   {
    "_defaultOrder": 54,
    "_isFastLaunch": false,
    "category": "Accelerated computing",
    "gpuNum": 8,
    "hideHardwareSpecs": false,
    "memoryGiB": 768,
    "name": "ml.g5.48xlarge",
    "vcpuNum": 192
   },
   {
    "_defaultOrder": 55,
    "_isFastLaunch": false,
    "category": "Accelerated computing",
    "gpuNum": 8,
    "hideHardwareSpecs": false,
    "memoryGiB": 1152,
    "name": "ml.p4d.24xlarge",
    "vcpuNum": 96
   },
   {
    "_defaultOrder": 56,
    "_isFastLaunch": false,
    "category": "Accelerated computing",
    "gpuNum": 8,
    "hideHardwareSpecs": false,
    "memoryGiB": 1152,
    "name": "ml.p4de.24xlarge",
    "vcpuNum": 96
   },
   {
    "_defaultOrder": 57,
    "_isFastLaunch": false,
    "category": "Accelerated computing",
    "gpuNum": 0,
    "hideHardwareSpecs": false,
    "memoryGiB": 32,
    "name": "ml.trn1.2xlarge",
    "vcpuNum": 8
   },
   {
    "_defaultOrder": 58,
    "_isFastLaunch": false,
    "category": "Accelerated computing",
    "gpuNum": 0,
    "hideHardwareSpecs": false,
    "memoryGiB": 512,
    "name": "ml.trn1.32xlarge",
    "vcpuNum": 128
   },
   {
    "_defaultOrder": 59,
    "_isFastLaunch": false,
    "category": "Accelerated computing",
    "gpuNum": 0,
    "hideHardwareSpecs": false,
    "memoryGiB": 512,
    "name": "ml.trn1n.32xlarge",
    "vcpuNum": 128
   }
  ],
  "instance_type": "ml.t3.medium",
  "kernelspec": {
   "display_name": "Python 3 (ipykernel)",
   "language": "python",
   "name": "python3"
  },
  "language_info": {
   "codemirror_mode": {
    "name": "ipython",
    "version": 3
   },
   "file_extension": ".py",
   "mimetype": "text/x-python",
   "name": "python",
   "nbconvert_exporter": "python",
   "pygments_lexer": "ipython3",
   "version": "3.11.11"
  }
 },
 "nbformat": 4,
 "nbformat_minor": 5
}
